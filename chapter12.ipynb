{
 "cells": [
  {
   "cell_type": "markdown",
   "id": "c17f2a50-befc-4e63-95e0-e068db7af4a3",
   "metadata": {},
   "source": [
    "> p.396 Car 클래스"
   ]
  },
  {
   "cell_type": "code",
   "execution_count": 19,
   "id": "848e70fd-2192-4ea1-83af-1c98db562a23",
   "metadata": {},
   "outputs": [],
   "source": [
    "class Car:\n",
    "    \n",
    "    # 속성 : 필드\n",
    "    \n",
    "    color = \"\"\n",
    "    speed = 0\n",
    "    \n",
    "    # 메서드\n",
    "    \n",
    "    def upSpeed(self, value):\n",
    "        self.speed +=value\n",
    "        \n",
    "    def downSpeed(self, value):\n",
    "        self.speed -= value\n",
    "        \n",
    "    def print(self):\n",
    "        print(\"Car class\")"
   ]
  },
  {
   "cell_type": "code",
   "execution_count": 14,
   "id": "0bccea16-ac59-43b8-b734-c21b1a15a690",
   "metadata": {},
   "outputs": [
    {
     "data": {
      "text/plain": [
       "__main__.Car"
      ]
     },
     "execution_count": 14,
     "metadata": {},
     "output_type": "execute_result"
    }
   ],
   "source": [
    "Car"
   ]
  },
  {
   "cell_type": "code",
   "execution_count": 4,
   "id": "0e996803-f202-42fd-a368-63ddf9c2f7ac",
   "metadata": {},
   "outputs": [
    {
     "data": {
      "text/plain": [
       "type"
      ]
     },
     "execution_count": 4,
     "metadata": {},
     "output_type": "execute_result"
    }
   ],
   "source": [
    "type(Car)"
   ]
  },
  {
   "cell_type": "code",
   "execution_count": 5,
   "id": "257e74a9-7d66-4fb2-97a9-799d4e2a9270",
   "metadata": {},
   "outputs": [],
   "source": [
    "car1 = Car()\n",
    "car2 = Car()\n",
    "car3 = Car()"
   ]
  },
  {
   "cell_type": "code",
   "execution_count": 6,
   "id": "f80f9886-7a24-4265-a7f0-84a2cc10eb1c",
   "metadata": {},
   "outputs": [
    {
     "data": {
      "text/plain": [
       "__main__.Car"
      ]
     },
     "execution_count": 6,
     "metadata": {},
     "output_type": "execute_result"
    }
   ],
   "source": [
    "type(car1)"
   ]
  },
  {
   "cell_type": "code",
   "execution_count": 7,
   "id": "6f5d8c3b-dd99-4696-a1b0-a275ee107704",
   "metadata": {},
   "outputs": [
    {
     "data": {
      "text/plain": [
       "<__main__.Car at 0x207df59d940>"
      ]
     },
     "execution_count": 7,
     "metadata": {},
     "output_type": "execute_result"
    }
   ],
   "source": [
    "car1"
   ]
  },
  {
   "cell_type": "code",
   "execution_count": 16,
   "id": "d0237b85-2e03-4fb5-9c90-8b85681659ef",
   "metadata": {},
   "outputs": [],
   "source": [
    "car1.color = \"빨강\"\n",
    "car1.speed = 0\n",
    "car2.color = \"파랑\"\n",
    "car2.speed = 0\n",
    "car3.color = \"노랑\"\n",
    "car3.speed = 0"
   ]
  },
  {
   "cell_type": "code",
   "execution_count": 23,
   "id": "f4ff3272-5804-4492-9cda-326d85b19561",
   "metadata": {},
   "outputs": [
    {
     "name": "stdout",
     "output_type": "stream",
     "text": [
      "car1: 빨강 30\n"
     ]
    }
   ],
   "source": [
    "car1.upSpeed(30)\n",
    "print(\"car1:\", car1.color, car1.speed)"
   ]
  },
  {
   "cell_type": "code",
   "execution_count": 24,
   "id": "fc56aeb3-92cf-46c8-98ae-6f46c2b80960",
   "metadata": {},
   "outputs": [],
   "source": [
    "car2.upSpeed(25)"
   ]
  },
  {
   "cell_type": "markdown",
   "id": "269d0866-f3f1-4e16-88e6-ab9bf44a9265",
   "metadata": {},
   "source": [
    "> 생성자 추가"
   ]
  },
  {
   "cell_type": "code",
   "execution_count": 25,
   "id": "93f82d01-a69c-4081-9d19-ae95207dd046",
   "metadata": {},
   "outputs": [],
   "source": [
    "class Car:\n",
    "    \n",
    "    # 속성 : 필드\n",
    "    \n",
    "    color = \"\"\n",
    "    speed = 0\n",
    "    \n",
    "    # 생성자\n",
    "    def __init__(self):\n",
    "        self.color = '빨강'\n",
    "        self.speed = 0\n",
    "        \n",
    "    # 메서드\n",
    "    \n",
    "    def upSpeed(self, value):\n",
    "        self.speed +=value\n",
    "        \n",
    "    def downSpeed(self, value):\n",
    "        self.speed -= value\n",
    "        \n",
    "    def print(self):\n",
    "        print(\"Car class\")"
   ]
  },
  {
   "cell_type": "code",
   "execution_count": 26,
   "id": "174022c7-3e2d-4d9a-acd9-76a100cb9569",
   "metadata": {},
   "outputs": [
    {
     "name": "stdout",
     "output_type": "stream",
     "text": [
      "빨강 빨강\n"
     ]
    }
   ],
   "source": [
    "car1 = Car()\n",
    "car2 = Car()\n",
    "\n",
    "print(car1.color, car2.color)"
   ]
  },
  {
   "cell_type": "markdown",
   "id": "6d14963c-ee64-4ed5-a2a9-6153aadd85f0",
   "metadata": {},
   "source": [
    "> 매개변수가 있는 생성자!!!"
   ]
  },
  {
   "cell_type": "code",
   "execution_count": 27,
   "id": "d718845e-ba1f-4e5a-b12e-ffddbadec41d",
   "metadata": {},
   "outputs": [],
   "source": [
    "class Car:\n",
    "    \n",
    "    # 속성 : 필드\n",
    "    \n",
    "    color = \"\"\n",
    "    speed = 0\n",
    "     \n",
    "    # 생성자\n",
    "    def __init__(self, v1, v2):\n",
    "        self.color = v1\n",
    "        self.speed = v2\n",
    "        \n",
    "    # 메서드\n",
    "    \n",
    "    def upSpeed(self, value):\n",
    "        self.speed +=value\n",
    "        \n",
    "    def downSpeed(self, value):\n",
    "        self.speed -= value\n",
    "        \n",
    "    def print(self):\n",
    "        print(self.color, self.speed)"
   ]
  },
  {
   "cell_type": "code",
   "execution_count": 28,
   "id": "0fbca081-2611-4067-9c45-25acca6d6916",
   "metadata": {},
   "outputs": [],
   "source": [
    "car1 = Car(\"노랑\", 0)\n",
    "car2 = Car(\"오렌지\",0)"
   ]
  },
  {
   "cell_type": "code",
   "execution_count": 29,
   "id": "ac119d42-ed3b-430a-8167-3f674a6d1fd9",
   "metadata": {},
   "outputs": [
    {
     "name": "stdout",
     "output_type": "stream",
     "text": [
      "노랑 0\n",
      "오렌지 0\n"
     ]
    },
    {
     "data": {
      "text/plain": [
       "(None, None)"
      ]
     },
     "execution_count": 29,
     "metadata": {},
     "output_type": "execute_result"
    }
   ],
   "source": [
    "car1.print(), car2.print()"
   ]
  },
  {
   "cell_type": "markdown",
   "id": "59b451cb-5ddb-4c8e-a2b6-d70b0062d3a0",
   "metadata": {},
   "source": [
    "> 인스턴스 변수/ 클래스 변수(파이썬)\n",
    "- 409쪽"
   ]
  },
  {
   "cell_type": "code",
   "execution_count": 31,
   "id": "987652a4-5de6-4de2-a03f-1b74e339ef26",
   "metadata": {},
   "outputs": [],
   "source": [
    "class Car:\n",
    "    \n",
    "    # 속성 : 필드\n",
    "    \n",
    "    color = \"\"\n",
    "    speed = 0\n",
    "    count = 0  # 클래스 변수(영역)\n",
    "     \n",
    "    # 생성자\n",
    "    def __init__(self):\n",
    "        \n",
    "        self.speed = 0\n",
    "        Car.count +=1\n",
    "        \n",
    "    # 메서드\n",
    "    \n",
    "    def upSpeed(self, value):\n",
    "        self.speed +=value\n",
    "        \n",
    "    def downSpeed(self, value):\n",
    "        self.speed -= value\n",
    "        \n",
    "    def print(self):\n",
    "        print(self.color, self.speed)"
   ]
  },
  {
   "cell_type": "code",
   "execution_count": 32,
   "id": "cab1c79e-db79-42cc-a2c7-6b18565cee43",
   "metadata": {},
   "outputs": [],
   "source": [
    "car1 = Car()\n",
    "car1.speed = 30"
   ]
  },
  {
   "cell_type": "code",
   "execution_count": 33,
   "id": "94522613-d109-4a90-9a2d-513bfd6185de",
   "metadata": {},
   "outputs": [
    {
     "name": "stdout",
     "output_type": "stream",
     "text": [
      " 30\n"
     ]
    }
   ],
   "source": [
    "car1.print()"
   ]
  },
  {
   "cell_type": "code",
   "execution_count": 35,
   "id": "857b56de-b6cf-478b-b339-fcf5abb2090a",
   "metadata": {},
   "outputs": [
    {
     "data": {
      "text/plain": [
       "1"
      ]
     },
     "execution_count": 35,
     "metadata": {},
     "output_type": "execute_result"
    }
   ],
   "source": [
    "car1.count"
   ]
  },
  {
   "cell_type": "code",
   "execution_count": 34,
   "id": "c31b34f3-a314-4028-8529-b7d152e0e0de",
   "metadata": {},
   "outputs": [
    {
     "data": {
      "text/plain": [
       "1"
      ]
     },
     "execution_count": 34,
     "metadata": {},
     "output_type": "execute_result"
    }
   ],
   "source": [
    "Car.count"
   ]
  },
  {
   "cell_type": "code",
   "execution_count": 36,
   "id": "3b5497c0-38c8-4e05-bab5-70fbbc5e7032",
   "metadata": {},
   "outputs": [],
   "source": [
    "car2 = Car()\n",
    "car2.speed = 60"
   ]
  },
  {
   "cell_type": "code",
   "execution_count": 37,
   "id": "894b1dac-cecd-4916-8809-ccec9bf955bc",
   "metadata": {},
   "outputs": [
    {
     "data": {
      "text/plain": [
       "60"
      ]
     },
     "execution_count": 37,
     "metadata": {},
     "output_type": "execute_result"
    }
   ],
   "source": [
    "car2.speed"
   ]
  },
  {
   "cell_type": "code",
   "execution_count": 38,
   "id": "522c3b71-4a9c-41a4-ae49-29bf548b944b",
   "metadata": {},
   "outputs": [
    {
     "data": {
      "text/plain": [
       "2"
      ]
     },
     "execution_count": 38,
     "metadata": {},
     "output_type": "execute_result"
    }
   ],
   "source": [
    "car2.count"
   ]
  },
  {
   "cell_type": "code",
   "execution_count": 42,
   "id": "e6230bda-77de-4605-8321-7b661ff00d5e",
   "metadata": {},
   "outputs": [],
   "source": [
    "car2.count = 1000 #보이긴 하는데 결론은 수정되지 않음 "
   ]
  },
  {
   "cell_type": "code",
   "execution_count": 40,
   "id": "baf0f4ef-273b-4ae9-89e0-de83f7ce8860",
   "metadata": {},
   "outputs": [
    {
     "data": {
      "text/plain": [
       "2"
      ]
     },
     "execution_count": 40,
     "metadata": {},
     "output_type": "execute_result"
    }
   ],
   "source": [
    "car1.count"
   ]
  },
  {
   "cell_type": "code",
   "execution_count": 41,
   "id": "8068db2a-3d56-48b2-8e2e-b21dc3101313",
   "metadata": {},
   "outputs": [
    {
     "data": {
      "text/plain": [
       "2"
      ]
     },
     "execution_count": 41,
     "metadata": {},
     "output_type": "execute_result"
    }
   ],
   "source": [
    "Car.count"
   ]
  },
  {
   "cell_type": "markdown",
   "id": "70b1c6e4-93a3-4013-a95c-8c728be942a0",
   "metadata": {},
   "source": [
    "##  클래스의 상속"
   ]
  },
  {
   "cell_type": "code",
   "execution_count": 43,
   "id": "9756298d-7304-4635-b750-896ba861ad59",
   "metadata": {},
   "outputs": [],
   "source": [
    "class Car:\n",
    "    speed = 0\n",
    "    \n",
    "    def upspeed(self,v):\n",
    "        self.speed += v\n",
    "        print('속도', self.speed)"
   ]
  },
  {
   "cell_type": "code",
   "execution_count": 44,
   "id": "d0cb7938-1e0c-4a79-ba46-a9b7df2206e5",
   "metadata": {},
   "outputs": [],
   "source": [
    "class Sedan(Car):\n",
    "    def upspeed(self, v):\n",
    "        self.speed += v\n",
    "        \n",
    "        if self.speed > 150:\n",
    "            self.speed = 150"
   ]
  },
  {
   "cell_type": "code",
   "execution_count": 45,
   "id": "1f8bbf28-5223-4211-90a4-e92123700cd4",
   "metadata": {},
   "outputs": [],
   "source": [
    "class Truck(Car):\n",
    "    pass"
   ]
  },
  {
   "cell_type": "code",
   "execution_count": 46,
   "id": "7087ef6d-5396-4e59-ad6b-63289243a334",
   "metadata": {},
   "outputs": [],
   "source": [
    "truck1 = Truck()\n",
    "sedan1 = Sedan()"
   ]
  },
  {
   "cell_type": "code",
   "execution_count": 47,
   "id": "b0cab07f-067a-46d0-bb57-41aad836f50f",
   "metadata": {},
   "outputs": [
    {
     "name": "stdout",
     "output_type": "stream",
     "text": [
      "속도 100\n"
     ]
    }
   ],
   "source": [
    "truck1.upspeed(100)"
   ]
  },
  {
   "cell_type": "code",
   "execution_count": 48,
   "id": "6cdc21ad-4d0d-474b-9d59-fba4db58415a",
   "metadata": {},
   "outputs": [],
   "source": [
    "sedan1.upspeed(300)"
   ]
  }
 ],
 "metadata": {
  "kernelspec": {
   "display_name": "Python 3 (ipykernel)",
   "language": "python",
   "name": "python3"
  },
  "language_info": {
   "codemirror_mode": {
    "name": "ipython",
    "version": 3
   },
   "file_extension": ".py",
   "mimetype": "text/x-python",
   "name": "python",
   "nbconvert_exporter": "python",
   "pygments_lexer": "ipython3",
   "version": "3.9.7"
  }
 },
 "nbformat": 4,
 "nbformat_minor": 5
}
