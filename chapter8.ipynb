{
 "cells": [
  {
   "cell_type": "markdown",
   "id": "4e0a7ea9-2da1-41c8-bccb-fa8f9edb60aa",
   "metadata": {},
   "source": [
    "# Chapter8 문자열\n",
    "\n",
    "- 불변형\n",
    "- 인덱스 가능\n",
    "- str 클래스에서 다양한 문자열 함수"
   ]
  },
  {
   "cell_type": "code",
   "execution_count": 1,
   "id": "8c38e727-4e3f-4bd0-a181-43d2858eef2e",
   "metadata": {},
   "outputs": [
    {
     "data": {
      "text/plain": [
       "str"
      ]
     },
     "execution_count": 1,
     "metadata": {},
     "output_type": "execute_result"
    }
   ],
   "source": [
    "type('문자')"
   ]
  },
  {
   "cell_type": "code",
   "execution_count": 2,
   "id": "041715ff-3f13-427f-9a2a-af7811f450e1",
   "metadata": {},
   "outputs": [
    {
     "data": {
      "text/plain": [
       "'안녕하세요 파이썬'"
      ]
     },
     "execution_count": 2,
     "metadata": {},
     "output_type": "execute_result"
    }
   ],
   "source": [
    "s = '안녕하세요 파이썬'\n",
    "s"
   ]
  },
  {
   "cell_type": "code",
   "execution_count": 3,
   "id": "82e75779-8916-4ed2-8e0c-527a39179d60",
   "metadata": {},
   "outputs": [
    {
     "data": {
      "text/plain": [
       "9"
      ]
     },
     "execution_count": 3,
     "metadata": {},
     "output_type": "execute_result"
    }
   ],
   "source": [
    "len(s)"
   ]
  },
  {
   "cell_type": "code",
   "execution_count": 4,
   "id": "d812691a-8d12-4cab-b971-dcfbde174e62",
   "metadata": {},
   "outputs": [
    {
     "data": {
      "text/plain": [
       "('안', '썬')"
      ]
     },
     "execution_count": 4,
     "metadata": {},
     "output_type": "execute_result"
    }
   ],
   "source": [
    "s[0], s[8]"
   ]
  },
  {
   "cell_type": "code",
   "execution_count": 15,
   "id": "0d6e7756-9e84-48c6-b7d7-bb01d9d07871",
   "metadata": {},
   "outputs": [
    {
     "data": {
      "text/plain": [
       "'요 파이썬'"
      ]
     },
     "execution_count": 15,
     "metadata": {},
     "output_type": "execute_result"
    }
   ],
   "source": [
    "s[-5:] # - 일 때는 뒤에서부터 1,2,3,4 순으로 센다"
   ]
  },
  {
   "cell_type": "markdown",
   "id": "74ea9d1d-2ab0-48e3-9498-043e98cd757e",
   "metadata": {},
   "source": [
    "### 문자열 결합"
   ]
  },
  {
   "cell_type": "code",
   "execution_count": 6,
   "id": "47ffc91c-0efd-4f4d-8235-d7045c08c75e",
   "metadata": {},
   "outputs": [
    {
     "data": {
      "text/plain": [
       "'안녕파이썬'"
      ]
     },
     "execution_count": 6,
     "metadata": {},
     "output_type": "execute_result"
    }
   ],
   "source": [
    "'안녕' + '파이썬'"
   ]
  },
  {
   "cell_type": "code",
   "execution_count": 7,
   "id": "df4f7f2d-c5ef-4ae8-9110-da168e0d0265",
   "metadata": {},
   "outputs": [
    {
     "ename": "TypeError",
     "evalue": "unsupported operand type(s) for -: 'str' and 'str'",
     "output_type": "error",
     "traceback": [
      "\u001b[1;31m---------------------------------------------------------------------------\u001b[0m",
      "\u001b[1;31mTypeError\u001b[0m                                 Traceback (most recent call last)",
      "\u001b[1;32m~\\AppData\\Local\\Temp/ipykernel_18664/3033357350.py\u001b[0m in \u001b[0;36m<module>\u001b[1;34m\u001b[0m\n\u001b[1;32m----> 1\u001b[1;33m \u001b[1;34m'안녕'\u001b[0m \u001b[1;33m-\u001b[0m \u001b[1;34m'파이썬'\u001b[0m\u001b[1;33m\u001b[0m\u001b[1;33m\u001b[0m\u001b[0m\n\u001b[0m",
      "\u001b[1;31mTypeError\u001b[0m: unsupported operand type(s) for -: 'str' and 'str'"
     ]
    }
   ],
   "source": [
    "'안녕' - '파이썬'"
   ]
  },
  {
   "cell_type": "code",
   "execution_count": 8,
   "id": "4358cc4d-a4fe-49dc-933d-1cc14f7e1330",
   "metadata": {},
   "outputs": [
    {
     "data": {
      "text/plain": [
       "'안녕안녕안녕'"
      ]
     },
     "execution_count": 8,
     "metadata": {},
     "output_type": "execute_result"
    }
   ],
   "source": [
    "'안녕' * 3"
   ]
  },
  {
   "cell_type": "code",
   "execution_count": 9,
   "id": "106b38f6-9d57-41da-93fb-b1bd9a482ce2",
   "metadata": {},
   "outputs": [
    {
     "ename": "TypeError",
     "evalue": "can only concatenate str (not \"int\") to str",
     "output_type": "error",
     "traceback": [
      "\u001b[1;31m---------------------------------------------------------------------------\u001b[0m",
      "\u001b[1;31mTypeError\u001b[0m                                 Traceback (most recent call last)",
      "\u001b[1;32m~\\AppData\\Local\\Temp/ipykernel_18664/3056633407.py\u001b[0m in \u001b[0;36m<module>\u001b[1;34m\u001b[0m\n\u001b[1;32m----> 1\u001b[1;33m \u001b[1;34m'안녕'\u001b[0m \u001b[1;33m+\u001b[0m \u001b[1;36m2\u001b[0m\u001b[1;33m\u001b[0m\u001b[1;33m\u001b[0m\u001b[0m\n\u001b[0m",
      "\u001b[1;31mTypeError\u001b[0m: can only concatenate str (not \"int\") to str"
     ]
    }
   ],
   "source": [
    "'안녕' + 2"
   ]
  },
  {
   "cell_type": "code",
   "execution_count": 11,
   "id": "434d1099-8276-4e34-ac80-4e6daf5903b1",
   "metadata": {},
   "outputs": [
    {
     "data": {
      "text/plain": [
       "'안녕2'"
      ]
     },
     "execution_count": 11,
     "metadata": {},
     "output_type": "execute_result"
    }
   ],
   "source": [
    "'안녕' + str(2)"
   ]
  },
  {
   "cell_type": "code",
   "execution_count": 16,
   "id": "8c568978-1075-4ed9-a002-69b5cdcecf82",
   "metadata": {},
   "outputs": [
    {
     "name": "stdin",
     "output_type": "stream",
     "text": [
      "문자열을 입력하세요 :  즐거운 python 프로그래밍\n"
     ]
    },
    {
     "name": "stdout",
     "output_type": "stream",
     "text": [
      "내용을 거꾸로 출력 --> 밍래그로프 nohtyp 운거즐 \n"
     ]
    }
   ],
   "source": [
    "inStr,outStr = \"\",\"\"\n",
    "inStr = input(\"문자열을 입력하세요 : \")\n",
    "count = len(inStr)\n",
    "\n",
    "for i in range(0, count):\n",
    "    outStr +=inStr[count - (i+1)]\n",
    "\n",
    "print(\"내용을 거꾸로 출력 --> %s \" %outStr)"
   ]
  },
  {
   "cell_type": "markdown",
   "id": "a7c2b56f-a1a1-45d6-8f10-077ff1f11759",
   "metadata": {},
   "source": [
    "## 객체\n",
    "\n",
    "객체(object) 지향 프로그램\n",
    "- 이름\n",
    "- 속성 : 상태 값 / 현재의 상태 유지! \n",
    "- 행위 : 상태를 변경할 수 있는 함수 / 메서드 "
   ]
  },
  {
   "cell_type": "code",
   "execution_count": 17,
   "id": "94fd2495-9c13-4e9d-9912-069bc9ab58b6",
   "metadata": {},
   "outputs": [],
   "source": [
    "import random # 모듈!"
   ]
  },
  {
   "cell_type": "code",
   "execution_count": 19,
   "id": "7b65fe77-02b0-4d4a-bfe4-0d5261fc732f",
   "metadata": {},
   "outputs": [
    {
     "data": {
      "text/plain": [
       "0.1692314427358188"
      ]
     },
     "execution_count": 19,
     "metadata": {},
     "output_type": "execute_result"
    }
   ],
   "source": [
    "#모듈의 이름 -> 객체\n",
    "# dot로 접근 : 속성, 함수(메서드)\n",
    "random.random()"
   ]
  },
  {
   "cell_type": "markdown",
   "id": "ab3ffc39-344a-4c82-8c93-8f638adf327d",
   "metadata": {},
   "source": [
    "### 문자열 클래스"
   ]
  },
  {
   "cell_type": "code",
   "execution_count": 20,
   "id": "231778d3-975a-451a-b704-4a748dfbe54f",
   "metadata": {},
   "outputs": [
    {
     "data": {
      "text/plain": [
       "'Hello'"
      ]
     },
     "execution_count": 20,
     "metadata": {},
     "output_type": "execute_result"
    }
   ],
   "source": [
    "\"Hello\""
   ]
  },
  {
   "cell_type": "code",
   "execution_count": 21,
   "id": "7fe7f4dd-4053-43d2-8eb5-d1878bf9a583",
   "metadata": {},
   "outputs": [
    {
     "data": {
      "text/plain": [
       "2689148454768"
      ]
     },
     "execution_count": 21,
     "metadata": {},
     "output_type": "execute_result"
    }
   ],
   "source": [
    "id('Hello')"
   ]
  },
  {
   "cell_type": "code",
   "execution_count": 22,
   "id": "40a8cf47-3788-4cff-b52b-82bf5e1ce240",
   "metadata": {},
   "outputs": [],
   "source": [
    "ss = 'Hello Python'"
   ]
  },
  {
   "cell_type": "code",
   "execution_count": 23,
   "id": "d18c7c71-4645-4a48-944d-4c72e5206e00",
   "metadata": {},
   "outputs": [
    {
     "data": {
      "text/plain": [
       "('HELLO PYTHON', 'hello python')"
      ]
     },
     "execution_count": 23,
     "metadata": {},
     "output_type": "execute_result"
    }
   ],
   "source": [
    "ss.upper(), ss.lower()"
   ]
  },
  {
   "cell_type": "code",
   "execution_count": 24,
   "id": "b2e85dd0-82a7-4e1c-8d5a-4aef2fe205d2",
   "metadata": {},
   "outputs": [
    {
     "data": {
      "text/plain": [
       "\u001b[1;31mSignature:\u001b[0m \u001b[0mss\u001b[0m\u001b[1;33m.\u001b[0m\u001b[0mswapcase\u001b[0m\u001b[1;33m(\u001b[0m\u001b[1;33m)\u001b[0m\u001b[1;33m\u001b[0m\u001b[1;33m\u001b[0m\u001b[0m\n",
       "\u001b[1;31mDocstring:\u001b[0m Convert uppercase characters to lowercase and lowercase characters to uppercase.\n",
       "\u001b[1;31mType:\u001b[0m      builtin_function_or_method\n"
      ]
     },
     "metadata": {},
     "output_type": "display_data"
    }
   ],
   "source": [
    "ss.swapcase?"
   ]
  },
  {
   "cell_type": "code",
   "execution_count": 25,
   "id": "bedacf3d-6fce-42c5-87fd-7a074fd2318b",
   "metadata": {},
   "outputs": [
    {
     "data": {
      "text/plain": [
       "'hELLO pYTHON'"
      ]
     },
     "execution_count": 25,
     "metadata": {},
     "output_type": "execute_result"
    }
   ],
   "source": [
    "ss.swapcase()"
   ]
  },
  {
   "cell_type": "code",
   "execution_count": 27,
   "id": "2d1be3b6-0f2d-4c9b-a006-c8392638967c",
   "metadata": {},
   "outputs": [
    {
     "data": {
      "text/plain": [
       "'Hello Python'"
      ]
     },
     "execution_count": 27,
     "metadata": {},
     "output_type": "execute_result"
    }
   ],
   "source": [
    "ss.title()"
   ]
  },
  {
   "cell_type": "code",
   "execution_count": 28,
   "id": "e27d73b8-5393-49b3-b581-fbaeb38851bb",
   "metadata": {},
   "outputs": [],
   "source": [
    "ss = '파이썬 공부는 즐겁습니다. 물론 모든 공부가 재미있지는 않죠!'"
   ]
  },
  {
   "cell_type": "code",
   "execution_count": 29,
   "id": "6fb2da24-d67b-4a98-9267-e63157f2af10",
   "metadata": {},
   "outputs": [
    {
     "data": {
      "text/plain": [
       "34"
      ]
     },
     "execution_count": 29,
     "metadata": {},
     "output_type": "execute_result"
    }
   ],
   "source": [
    "len(ss)"
   ]
  },
  {
   "cell_type": "code",
   "execution_count": 30,
   "id": "a2752ed1-d1cc-49d0-8388-f4a7a6f1f4c8",
   "metadata": {},
   "outputs": [
    {
     "data": {
      "text/plain": [
       "2"
      ]
     },
     "execution_count": 30,
     "metadata": {},
     "output_type": "execute_result"
    }
   ],
   "source": [
    "ss.count('공부')"
   ]
  },
  {
   "cell_type": "code",
   "execution_count": 31,
   "id": "77829f08-aaa8-4f53-b42b-ffbf7349cf10",
   "metadata": {},
   "outputs": [
    {
     "data": {
      "text/plain": [
       "4"
      ]
     },
     "execution_count": 31,
     "metadata": {},
     "output_type": "execute_result"
    }
   ],
   "source": [
    "ss.find('공부')"
   ]
  },
  {
   "cell_type": "code",
   "execution_count": 33,
   "id": "8ab24bd5-e240-4ff8-b752-f8944b78c452",
   "metadata": {},
   "outputs": [
    {
     "data": {
      "text/plain": [
       "21"
      ]
     },
     "execution_count": 33,
     "metadata": {},
     "output_type": "execute_result"
    }
   ],
   "source": [
    "ss.find('공부',5)"
   ]
  },
  {
   "cell_type": "code",
   "execution_count": 34,
   "id": "a3033c64-986e-4bbb-af27-c2472d569be3",
   "metadata": {},
   "outputs": [
    {
     "data": {
      "text/plain": [
       "'공부는 즐겁습니다. 물론 모든 공부가 재미있지는 않죠!'"
      ]
     },
     "execution_count": 34,
     "metadata": {},
     "output_type": "execute_result"
    }
   ],
   "source": [
    "ss[ss.find('공부'):]"
   ]
  },
  {
   "cell_type": "code",
   "execution_count": 36,
   "id": "6ee522d1-52be-4a0b-a802-78ccf4ac22cb",
   "metadata": {},
   "outputs": [
    {
     "data": {
      "text/plain": [
       "'공부는 즐겁습니다.'"
      ]
     },
     "execution_count": 36,
     "metadata": {},
     "output_type": "execute_result"
    }
   ],
   "source": [
    "ss[ss.find('공부'):ss.rfind('물론')-1]"
   ]
  },
  {
   "cell_type": "code",
   "execution_count": 37,
   "id": "83892140-f1c9-4e3c-a90f-f32b1cc85136",
   "metadata": {},
   "outputs": [
    {
     "data": {
      "text/plain": [
       "4"
      ]
     },
     "execution_count": 37,
     "metadata": {},
     "output_type": "execute_result"
    }
   ],
   "source": [
    "ss.index('공부')"
   ]
  },
  {
   "cell_type": "code",
   "execution_count": 40,
   "id": "dd63f7bd-b2fe-42a4-8e27-9979b119fa04",
   "metadata": {},
   "outputs": [
    {
     "data": {
      "text/plain": [
       "False"
      ]
     },
     "execution_count": 40,
     "metadata": {},
     "output_type": "execute_result"
    }
   ],
   "source": [
    "ss.endswith('공부')"
   ]
  },
  {
   "cell_type": "markdown",
   "id": "a648e3e0-ce34-4f34-8bc3-1bebeae4f35f",
   "metadata": {},
   "source": [
    "> p.240 예제"
   ]
  },
  {
   "cell_type": "code",
   "execution_count": 44,
   "id": "47eadeff-517c-4b72-9168-9ae2d1464371",
   "metadata": {},
   "outputs": [
    {
     "name": "stdin",
     "output_type": "stream",
     "text": [
      "입력 문자열 ==>  파이썬 열공 중~\n"
     ]
    },
    {
     "name": "stdout",
     "output_type": "stream",
     "text": [
      "출력 문자열 => (파이썬 열공 중~)"
     ]
    }
   ],
   "source": [
    "ss = input(\"입력 문자열 ==> \")\n",
    "print(\"출력 문자열 => \",end = '')\n",
    "\n",
    "if ss.startswith('(') == False:\n",
    "    print(\"(\", end = '')\n",
    "\n",
    "print(ss, end = '')\n",
    "\n",
    "if ss.endswith(')') == False:\n",
    "    print(\")\", end = '')"
   ]
  },
  {
   "cell_type": "code",
   "execution_count": 45,
   "id": "79be7499-f949-43f4-9708-313e17eae9db",
   "metadata": {},
   "outputs": [],
   "source": [
    "ss = ' 파이썬 '"
   ]
  },
  {
   "cell_type": "code",
   "execution_count": 46,
   "id": "465783a9-d4d8-47d7-8199-6721f4be4e51",
   "metadata": {},
   "outputs": [
    {
     "data": {
      "text/plain": [
       "'파이썬'"
      ]
     },
     "execution_count": 46,
     "metadata": {},
     "output_type": "execute_result"
    }
   ],
   "source": [
    "ss.strip()"
   ]
  },
  {
   "cell_type": "code",
   "execution_count": 48,
   "id": "5a885ae5-7d93-46d0-bd0f-890d6373863a",
   "metadata": {},
   "outputs": [
    {
     "data": {
      "text/plain": [
       "' 파이썬'"
      ]
     },
     "execution_count": 48,
     "metadata": {},
     "output_type": "execute_result"
    }
   ],
   "source": [
    "ss.rstrip() #오른쪽 제외"
   ]
  },
  {
   "cell_type": "code",
   "execution_count": 49,
   "id": "83d75979-4511-4d2d-bd83-fa42946a6949",
   "metadata": {},
   "outputs": [
    {
     "data": {
      "text/plain": [
       "'파이썬 '"
      ]
     },
     "execution_count": 49,
     "metadata": {},
     "output_type": "execute_result"
    }
   ],
   "source": [
    "ss.lstrip()"
   ]
  },
  {
   "cell_type": "markdown",
   "id": "b7211b0e-66f1-4b27-9927-caae75d1b912",
   "metadata": {},
   "source": [
    "> 문자열 중간의 공백 삭제(p.241)"
   ]
  },
  {
   "cell_type": "code",
   "execution_count": 51,
   "id": "4a0f069b-b5b4-4e7e-85d0-d77339acaeed",
   "metadata": {},
   "outputs": [
    {
     "name": "stdout",
     "output_type": "stream",
     "text": [
      "원래 문자열 => [  한글 Python 프로그래밍  ]\n",
      "공백 삭제 문자열 => [한글Python프로그래밍]\n"
     ]
    }
   ],
   "source": [
    "inStr = \"  한글 Python 프로그래밍  \"\n",
    "outStr = \"\"\n",
    "\n",
    "for i in range(0, len(inStr)) :\n",
    "    if inStr[i] != ' ' :\n",
    "        outStr += inStr[i]\n",
    "        \n",
    "print(\"원래 문자열 => \" + '[' + inStr + ']')\n",
    "print(\"공백 삭제 문자열 => \" + '[' + outStr + ']')"
   ]
  },
  {
   "cell_type": "code",
   "execution_count": 52,
   "id": "64e623ec-d1fa-4b4c-9d44-27586a59aa50",
   "metadata": {},
   "outputs": [],
   "source": [
    "ss = '파이썬 프로그래밍'"
   ]
  },
  {
   "cell_type": "code",
   "execution_count": 53,
   "id": "ce380f8b-6788-4257-bc39-e866ef0a1fd1",
   "metadata": {},
   "outputs": [
    {
     "data": {
      "text/plain": [
       "'C 프로그래밍'"
      ]
     },
     "execution_count": 53,
     "metadata": {},
     "output_type": "execute_result"
    }
   ],
   "source": [
    "ss.replace('파이썬', 'C')"
   ]
  },
  {
   "cell_type": "markdown",
   "id": "af2936e5-726c-42f2-b902-9737f2b10ede",
   "metadata": {},
   "source": [
    "> 문자열 분리 결합"
   ]
  },
  {
   "cell_type": "code",
   "execution_count": 57,
   "id": "e16a2781-e0c5-40d5-856c-e7ae641bb703",
   "metadata": {},
   "outputs": [],
   "source": [
    "# split \n",
    "ss = 'Python을 공부 하 는 것 은 재밌어'"
   ]
  },
  {
   "cell_type": "code",
   "execution_count": 58,
   "id": "18178c7e-9c99-4239-a05f-31dacac7ed45",
   "metadata": {},
   "outputs": [
    {
     "data": {
      "text/plain": [
       "['Python을', '공부', '하', '는', '것', '은', '재밌어']"
      ]
     },
     "execution_count": 58,
     "metadata": {},
     "output_type": "execute_result"
    }
   ],
   "source": [
    "ss.split() #구분자 : ' ' (공백 하나 즉 스페이스)"
   ]
  },
  {
   "cell_type": "code",
   "execution_count": 59,
   "id": "0d2fb924-55f2-45a8-888d-2751f623c54b",
   "metadata": {},
   "outputs": [],
   "source": [
    "ss = 'a:b:c:d;f;k;'"
   ]
  },
  {
   "cell_type": "code",
   "execution_count": 60,
   "id": "6cdc3596-2728-4d6a-9579-5bbf6700d963",
   "metadata": {},
   "outputs": [
    {
     "data": {
      "text/plain": [
       "['a', 'b', 'c', 'd;f;k;']"
      ]
     },
     "execution_count": 60,
     "metadata": {},
     "output_type": "execute_result"
    }
   ],
   "source": [
    "ss.split(sep = ':')"
   ]
  },
  {
   "cell_type": "code",
   "execution_count": 61,
   "id": "4a123d7c-a0c2-4780-b5e7-3fb1362ad6a6",
   "metadata": {},
   "outputs": [
    {
     "data": {
      "text/plain": [
       "['a', 'b', 'c', 'd;f;k;']"
      ]
     },
     "execution_count": 61,
     "metadata": {},
     "output_type": "execute_result"
    }
   ],
   "source": [
    "ss.split(':')"
   ]
  },
  {
   "cell_type": "code",
   "execution_count": 62,
   "id": "0a12fa5c-4150-4af1-af1a-6878562b0f7f",
   "metadata": {},
   "outputs": [
    {
     "data": {
      "text/plain": [
       "['안녕하세요.', '파이썬 재밌어요.']"
      ]
     },
     "execution_count": 62,
     "metadata": {},
     "output_type": "execute_result"
    }
   ],
   "source": [
    "ss = \"\"\"안녕하세요.\n",
    "파이썬 재밌어요.\"\"\"\n",
    "ss.splitlines()"
   ]
  },
  {
   "cell_type": "code",
   "execution_count": 64,
   "id": "555082b1-040a-4e7c-8a8e-ea0ae60f5808",
   "metadata": {},
   "outputs": [
    {
     "data": {
      "text/plain": [
       "['안녕하세요.', '파이썬 재밌어요.']"
      ]
     },
     "execution_count": 64,
     "metadata": {},
     "output_type": "execute_result"
    }
   ],
   "source": [
    "ss.split(sep='\\n')"
   ]
  },
  {
   "cell_type": "code",
   "execution_count": 65,
   "id": "1a73fa6f-29ce-42a4-a253-124dc5f36da5",
   "metadata": {},
   "outputs": [],
   "source": [
    "ss = '%'"
   ]
  },
  {
   "cell_type": "code",
   "execution_count": 66,
   "id": "4a8a09ce-98d7-4486-b61f-c056ed5dc315",
   "metadata": {},
   "outputs": [
    {
     "data": {
      "text/plain": [
       "'파%이%썬% %재%밌%어%요'"
      ]
     },
     "execution_count": 66,
     "metadata": {},
     "output_type": "execute_result"
    }
   ],
   "source": [
    "ss.join('파이썬 재밌어요')"
   ]
  },
  {
   "cell_type": "markdown",
   "id": "31354fed-f3b7-4ee0-96b5-3d8192fa2c67",
   "metadata": {},
   "source": [
    "> 243쪽 실습"
   ]
  },
  {
   "cell_type": "code",
   "execution_count": 71,
   "id": "222aac1d-ef90-4a9e-bf84-d5e5523d441d",
   "metadata": {},
   "outputs": [
    {
     "name": "stdin",
     "output_type": "stream",
     "text": [
      "날짜(연/월/일) 입력 ==> 2022/03/24\n"
     ]
    },
    {
     "name": "stdout",
     "output_type": "stream",
     "text": [
      "입력한 날짜의 10년 후 ==> 2032년03월24일\n"
     ]
    }
   ],
   "source": [
    "ss = input(\"날짜(연/월/일) 입력 ==>\")\n",
    "\n",
    "ssList = ss.split('/')\n",
    "\n",
    "print(\"입력한 날짜의 10년 후 ==> \", end = '')\n",
    "print(str(int(ssList[0]) + 10) + \"년\", end = '')\n",
    "print(ssList[1] + \"월\", end = '')\n",
    "print(ssList[2] + \"일\")"
   ]
  },
  {
   "cell_type": "markdown",
   "id": "9c740e94-4234-4360-b2a3-2f44e2216f8c",
   "metadata": {},
   "source": [
    "> map()"
   ]
  },
  {
   "cell_type": "code",
   "execution_count": 70,
   "id": "1a9522d1-b651-4b2a-af48-d73d650aa711",
   "metadata": {},
   "outputs": [
    {
     "data": {
      "text/plain": [
       "['1', '3', '4', '5']"
      ]
     },
     "execution_count": 70,
     "metadata": {},
     "output_type": "execute_result"
    }
   ],
   "source": [
    "list(map(str,[1,3,4,5]))"
   ]
  },
  {
   "cell_type": "code",
   "execution_count": 72,
   "id": "226239d3-a3aa-40f4-8c48-71417c7d9d11",
   "metadata": {},
   "outputs": [
    {
     "data": {
      "text/plain": [
       "[12.0, 3.0, 4.0, 4.0]"
      ]
     },
     "execution_count": 72,
     "metadata": {},
     "output_type": "execute_result"
    }
   ],
   "source": [
    "list(map(float, [12,3,4,4]))"
   ]
  },
  {
   "cell_type": "code",
   "execution_count": 73,
   "id": "9e77a411-5008-4c2a-ba81-68419c035b88",
   "metadata": {},
   "outputs": [
    {
     "data": {
      "text/plain": [
       "'1'"
      ]
     },
     "execution_count": 73,
     "metadata": {},
     "output_type": "execute_result"
    }
   ],
   "source": [
    "str(1)"
   ]
  },
  {
   "cell_type": "markdown",
   "id": "61d867c4-6d92-49d1-a5c0-1b3801b7c70f",
   "metadata": {},
   "source": [
    "> 244쪽 예제"
   ]
  },
  {
   "cell_type": "code",
   "execution_count": 75,
   "id": "2ca2984b-8dca-4de7-942c-89c648f70176",
   "metadata": {},
   "outputs": [
    {
     "data": {
      "text/plain": [
       "'   파이썬    '"
      ]
     },
     "execution_count": 75,
     "metadata": {},
     "output_type": "execute_result"
    }
   ],
   "source": [
    "ss = '파이썬'\n",
    "ss.center(10)\n"
   ]
  },
  {
   "cell_type": "code",
   "execution_count": 76,
   "id": "3b66d3b6-43e6-4164-a373-b6bdf410cb92",
   "metadata": {},
   "outputs": [
    {
     "data": {
      "text/plain": [
       "'---파이썬----'"
      ]
     },
     "execution_count": 76,
     "metadata": {},
     "output_type": "execute_result"
    }
   ],
   "source": [
    "ss.center(10,'-')"
   ]
  },
  {
   "cell_type": "code",
   "execution_count": 77,
   "id": "723648da-e34f-410b-8ccb-aa848f16b442",
   "metadata": {},
   "outputs": [
    {
     "data": {
      "text/plain": [
       "'파이썬       '"
      ]
     },
     "execution_count": 77,
     "metadata": {},
     "output_type": "execute_result"
    }
   ],
   "source": [
    "ss.ljust(10)"
   ]
  },
  {
   "cell_type": "code",
   "execution_count": 78,
   "id": "bf20da9c-3158-4da7-be49-90f677c571f2",
   "metadata": {},
   "outputs": [
    {
     "data": {
      "text/plain": [
       "'0000000파이썬'"
      ]
     },
     "execution_count": 78,
     "metadata": {},
     "output_type": "execute_result"
    }
   ],
   "source": [
    "ss.zfill(10)"
   ]
  },
  {
   "cell_type": "code",
   "execution_count": 79,
   "id": "21acd940-332c-44de-aa9e-53b3cdcb36f8",
   "metadata": {},
   "outputs": [
    {
     "data": {
      "text/plain": [
       "True"
      ]
     },
     "execution_count": 79,
     "metadata": {},
     "output_type": "execute_result"
    }
   ],
   "source": [
    "'1234'.isdigit()"
   ]
  },
  {
   "cell_type": "code",
   "execution_count": 80,
   "id": "902ddba2-708f-4c88-9f7d-b41d5648d0c9",
   "metadata": {},
   "outputs": [
    {
     "data": {
      "text/plain": [
       "False"
      ]
     },
     "execution_count": 80,
     "metadata": {},
     "output_type": "execute_result"
    }
   ],
   "source": [
    "'파이썬'.isdigit()"
   ]
  },
  {
   "cell_type": "code",
   "execution_count": 81,
   "id": "0aac4911-81f5-4f69-9b0c-f875a910efda",
   "metadata": {},
   "outputs": [
    {
     "data": {
      "text/plain": [
       "True"
      ]
     },
     "execution_count": 81,
     "metadata": {},
     "output_type": "execute_result"
    }
   ],
   "source": [
    "'파이썬'.isalpha()"
   ]
  },
  {
   "cell_type": "code",
   "execution_count": 83,
   "id": "7aaa5c86-24d6-4dc3-9974-a9edd520ec0c",
   "metadata": {},
   "outputs": [
    {
     "data": {
      "text/plain": [
       "True"
      ]
     },
     "execution_count": 83,
     "metadata": {},
     "output_type": "execute_result"
    }
   ],
   "source": [
    "'파이썬'.isalnum() # isdigit 하고 isalpha 합친것"
   ]
  },
  {
   "cell_type": "markdown",
   "id": "7d6f5cc9-b6b0-4540-a3f4-3f8e8bc42cd0",
   "metadata": {},
   "source": [
    "### ord()함수"
   ]
  },
  {
   "cell_type": "code",
   "execution_count": 84,
   "id": "cece6c1b-aca6-45b8-996a-ae99581b3ca7",
   "metadata": {},
   "outputs": [
    {
     "data": {
      "text/plain": [
       "(65, 97)"
      ]
     },
     "execution_count": 84,
     "metadata": {},
     "output_type": "execute_result"
    }
   ],
   "source": [
    "ord('A'), ord('a')"
   ]
  },
  {
   "cell_type": "code",
   "execution_count": 85,
   "id": "4c5c4bec-5b57-44bd-a1d6-6eea08b1574b",
   "metadata": {},
   "outputs": [
    {
     "data": {
      "text/plain": [
       "12593"
      ]
     },
     "execution_count": 85,
     "metadata": {},
     "output_type": "execute_result"
    }
   ],
   "source": [
    "ord('ㄱ')"
   ]
  },
  {
   "cell_type": "markdown",
   "id": "f7d0e230-408c-4adb-80db-c1682febb601",
   "metadata": {},
   "source": [
    "# p.250 연습문제 11번"
   ]
  },
  {
   "cell_type": "code",
   "execution_count": 86,
   "id": "94d0111c-a5a0-4d9c-b39d-d3b8adb03882",
   "metadata": {},
   "outputs": [
    {
     "name": "stdin",
     "output_type": "stream",
     "text": [
      "문자열 -->  파이썬###CookBook&&&@@@열공중1234\n"
     ]
    },
    {
     "name": "stdout",
     "output_type": "stream",
     "text": [
      "한글/영문자만 남김 --> 파이썬CookBook열공중\n"
     ]
    }
   ],
   "source": [
    "inStr, outStr = '',''\n",
    "\n",
    "inStr = input(\"문자열 --> \")\n",
    "\n",
    "\n",
    "for i in range(0, len(inStr)):\n",
    "    if inStr[i].isalpha() == True:\n",
    "        outStr += inStr[i]\n",
    "        \n",
    "print(\"한글/영문자만 남김 --> \" + outStr)\n",
    "        "
   ]
  },
  {
   "cell_type": "markdown",
   "id": "dd2d9f58-de66-4c8c-969e-e384736e8052",
   "metadata": {},
   "source": [
    "# 12번"
   ]
  },
  {
   "cell_type": "code",
   "execution_count": 91,
   "id": "f8e89658-9c63-467a-a9cf-ad1aa5f4db95",
   "metadata": {},
   "outputs": [
    {
     "data": {
      "text/plain": [
       "['', '', '', '', '']"
      ]
     },
     "execution_count": 91,
     "metadata": {},
     "output_type": "execute_result"
    }
   ],
   "source": [
    "[''] * 5"
   ]
  },
  {
   "cell_type": "code",
   "execution_count": 92,
   "id": "6516d842-f921-4831-99d9-eb29a1a5e76a",
   "metadata": {},
   "outputs": [
    {
     "name": "stdin",
     "output_type": "stream",
     "text": [
      "문자열을 입력하세요 :  IT CookBook 파이썬을 365일 공부하고 있습니다. ^__^\n"
     ]
    },
    {
     "name": "stdout",
     "output_type": "stream",
     "text": [
      "대문자 :   ITCB\n",
      "소문자 :   ookook\n",
      "숫자 :   365\n",
      "한글 :   파이썬을일공부하고있습니다\n",
      "기타 :        . ^__^\n"
     ]
    }
   ],
   "source": [
    "numStr, lowerStr, upperStr, hanStr, etcStr = [''] * 5\n",
    "i = \"\"\n",
    "\n",
    "inStr = input(\"문자열을 입력하세요 : \")\n",
    "\n",
    "for i in inStr:\n",
    "    if (ord(i) >= ord(\"A\") and ord(i) <= ord(\"Z\")):\n",
    "        upperStr += i\n",
    "    elif (ord(i) >= ord(\"a\") and ord(i) <= ord(\"z\")):\n",
    "        lowerStr += i \n",
    "    elif (ord(i) >= ord(\"0\") and ord(i) <= ord(\"9\")):\n",
    "        numStr += i\n",
    "    elif (ord(i) >= ord(\"가\") and ord(i) <= ord(\"힣\")):\n",
    "        hanStr += i\n",
    "    else:\n",
    "        etcStr += i\n",
    "print(\"대문자 :  \" , upperStr)\n",
    "print(\"소문자 :  \" , lowerStr)\n",
    "\n",
    "print(\"숫자 :  \" , numStr)\n",
    "print(\"한글 :  \" ,hanStr)\n",
    "print(\"기타 :  \" ,etcStr)"
   ]
  },
  {
   "cell_type": "code",
   "execution_count": null,
   "id": "ad2f535a-e5bb-4e65-8e89-25c43aa47f96",
   "metadata": {},
   "outputs": [],
   "source": []
  }
 ],
 "metadata": {
  "kernelspec": {
   "display_name": "Python 3 (ipykernel)",
   "language": "python",
   "name": "python3"
  },
  "language_info": {
   "codemirror_mode": {
    "name": "ipython",
    "version": 3
   },
   "file_extension": ".py",
   "mimetype": "text/x-python",
   "name": "python",
   "nbconvert_exporter": "python",
   "pygments_lexer": "ipython3",
   "version": "3.9.7"
  }
 },
 "nbformat": 4,
 "nbformat_minor": 5
}
