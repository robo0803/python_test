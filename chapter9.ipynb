{
 "cells": [
  {
   "cell_type": "markdown",
   "id": "2d9b2a14-0255-4da5-8dda-3243a6cc1264",
   "metadata": {},
   "source": [
    "# Chapter 9 함수"
   ]
  },
  {
   "cell_type": "markdown",
   "id": "2e7294a9-e46a-474d-9da3-46408deae544",
   "metadata": {
    "tags": []
   },
   "source": [
    "## function\n",
    "- 함수는 def예약어를 사용해 정의\n",
    "- 함수는 이름 지정. 이름없는 함수는 lambda 예약어 사용\n",
    "- 함수는 정의하고 호출해서 사용\n",
    "- 이름없는 함수는 작성하면 바로 호출해서 사용 가능\n",
    "- 함수 정의할 때 매개변수 정의하고 함수 호출할 때 이 매개변수와 매핑되는 인자를 값으로 전달"
   ]
  },
  {
   "cell_type": "code",
   "execution_count": 3,
   "id": "f1d220f4-3407-46f1-b78c-fb5fd08811c0",
   "metadata": {
    "tags": []
   },
   "outputs": [
    {
     "name": "stdin",
     "output_type": "stream",
     "text": [
      "어떤 커피 드릴까요?(1.보통, 2: 설탕, 3: 블랙 2\n"
     ]
    },
    {
     "name": "stdout",
     "output_type": "stream",
     "text": [
      "\n",
      "#1. (자동으로) 뜨거운 물을 준비한다.\n",
      "#2. (자동으로) 종이컵을 준비한다.\n",
      "#3. (자동으로) 설탕커피를 탄다.\n",
      "#4. (자동으로) 물을 붓는다.\n",
      "#5. (자동으로) 스푼으로 젓는다.\n",
      "\n",
      "손님~ 커피 여기 있습니다.\n"
     ]
    }
   ],
   "source": [
    "coffee= 0\n",
    "\n",
    "def coffee_machine(button):\n",
    "    print()\n",
    "    print(\"#1. (자동으로) 뜨거운 물을 준비한다.\");\n",
    "    print(\"#2. (자동으로) 종이컵을 준비한다.\");\n",
    "    \n",
    "    if button ==1:\n",
    "        print(\"#3. (자동으로) 보통커피를 탄다.\")\n",
    "    elif button ==2:\n",
    "        print(\"#3. (자동으로) 설탕커피를 탄다.\")\n",
    "    elif button ==3 :\n",
    "        print(\"#3. (자동으로) 블랙커피를 탄다.\")\n",
    "    else:\n",
    "        print(\"#3. (자동으로) 아무거나 탄다. \\n\")\n",
    "        \n",
    "    print(\"#4. (자동으로) 물을 붓는다.\");\n",
    "    print(\"#5. (자동으로) 스푼으로 젓는다.\");\n",
    "    print()\n",
    "    \n",
    "# 메인 코드 부분 ##\n",
    "\n",
    "coffee = int(input(\"어떤 커피 드릴까요?(1.보통, 2: 설탕, 3: 블랙\"))\n",
    "coffee_machine(coffee)\n",
    "print(\"손님~ 커피 여기 있습니다.\");"
   ]
  },
  {
   "cell_type": "markdown",
   "id": "3da2dc95-59db-4246-9eeb-3685c739f52b",
   "metadata": {},
   "source": [
    "### 매개변수 & return "
   ]
  },
  {
   "cell_type": "code",
   "execution_count": 7,
   "id": "d0d2b35f-c081-4c73-9090-147e60f20e9b",
   "metadata": {},
   "outputs": [],
   "source": [
    "def plus(v1, v2):\n",
    "    priint( v1 + v2 )"
   ]
  },
  {
   "cell_type": "code",
   "execution_count": 5,
   "id": "732a88f4-2000-47f6-b8a4-bb3f7d7c9905",
   "metadata": {},
   "outputs": [
    {
     "name": "stdout",
     "output_type": "stream",
     "text": [
      "3\n"
     ]
    }
   ],
   "source": [
    "plus(1,2)"
   ]
  },
  {
   "cell_type": "code",
   "execution_count": 8,
   "id": "d2bd3761-7445-4b83-b208-8cadf5431129",
   "metadata": {},
   "outputs": [],
   "source": [
    "def plus(v1, v2):\n",
    "    \n",
    "    \"\"\"\n",
    "    plus함수는 v1,v2 매개변수를 받는다.\n",
    "    = v1 : 정수\n",
    "    \"\"\"\n",
    "    return( v1 + v2 )"
   ]
  },
  {
   "cell_type": "code",
   "execution_count": 9,
   "id": "6a98f600-f45a-486a-8c3f-ea6f782af9ed",
   "metadata": {},
   "outputs": [
    {
     "data": {
      "text/plain": [
       "\u001b[1;31mSignature:\u001b[0m \u001b[0mplus\u001b[0m\u001b[1;33m(\u001b[0m\u001b[0mv1\u001b[0m\u001b[1;33m,\u001b[0m \u001b[0mv2\u001b[0m\u001b[1;33m)\u001b[0m\u001b[1;33m\u001b[0m\u001b[1;33m\u001b[0m\u001b[0m\n",
       "\u001b[1;31mDocstring:\u001b[0m\n",
       "plus함수는 v1,v2 매개변수를 받는다.\n",
       "= v1 : 정수\n",
       "\u001b[1;31mFile:\u001b[0m      c:\\users\\lg\\appdata\\local\\temp\\ipykernel_19912\\1744562462.py\n",
       "\u001b[1;31mType:\u001b[0m      function\n"
      ]
     },
     "metadata": {},
     "output_type": "display_data"
    }
   ],
   "source": [
    "plus?"
   ]
  },
  {
   "cell_type": "code",
   "execution_count": 10,
   "id": "76d467a6-240d-429e-b5c8-11ef1ff1f969",
   "metadata": {},
   "outputs": [],
   "source": [
    "def calc(v1,v2,op):\n",
    "    result = 0\n",
    "    if op == '+' :\n",
    "        result = v1 + v2\n",
    "    elif op == '-' :\n",
    "        result = v1 - v2\n",
    "    elif op == '*' :\n",
    "        result = v1 * v2\n",
    "    elif op == '/' :\n",
    "        result = v1 / v2\n",
    "        \n",
    "    return result"
   ]
  },
  {
   "cell_type": "code",
   "execution_count": 12,
   "id": "d437db62-194a-43c4-99fc-c6f675daf31a",
   "metadata": {},
   "outputs": [
    {
     "data": {
      "text/plain": [
       "60"
      ]
     },
     "execution_count": 12,
     "metadata": {},
     "output_type": "execute_result"
    }
   ],
   "source": [
    "calc(10,6,'*')"
   ]
  },
  {
   "cell_type": "code",
   "execution_count": 15,
   "id": "f2f03287-590d-4ada-b54e-5f0f1592c1fd",
   "metadata": {},
   "outputs": [
    {
     "name": "stdout",
     "output_type": "stream",
     "text": [
      "10 / 6 = 1.6666666666666667\n"
     ]
    }
   ],
   "source": [
    "print('10 / 6 = {0}'.format(calc(10,6,'/')))"
   ]
  },
  {
   "cell_type": "code",
   "execution_count": 16,
   "id": "d054de45-ad7a-4827-8121-a4ba7ef6a3b6",
   "metadata": {},
   "outputs": [],
   "source": [
    "# 함수의 반환!!\n",
    "def mycalc():\n",
    "    return calc"
   ]
  },
  {
   "cell_type": "code",
   "execution_count": 17,
   "id": "37c6de2a-5e7e-4deb-96ea-54068e7dbf34",
   "metadata": {},
   "outputs": [
    {
     "data": {
      "text/plain": [
       "<function __main__.mycalc()>"
      ]
     },
     "execution_count": 17,
     "metadata": {},
     "output_type": "execute_result"
    }
   ],
   "source": [
    "mycalc"
   ]
  },
  {
   "cell_type": "code",
   "execution_count": 18,
   "id": "e4be6e61-0f1b-494d-aea7-9b5bdd04f73c",
   "metadata": {},
   "outputs": [
    {
     "ename": "TypeError",
     "evalue": "mycalc() takes 0 positional arguments but 3 were given",
     "output_type": "error",
     "traceback": [
      "\u001b[1;31m---------------------------------------------------------------------------\u001b[0m",
      "\u001b[1;31mTypeError\u001b[0m                                 Traceback (most recent call last)",
      "\u001b[1;32m~\\AppData\\Local\\Temp/ipykernel_19912/435475766.py\u001b[0m in \u001b[0;36m<module>\u001b[1;34m\u001b[0m\n\u001b[1;32m----> 1\u001b[1;33m \u001b[0mmycalc\u001b[0m\u001b[1;33m(\u001b[0m\u001b[1;36m10\u001b[0m\u001b[1;33m,\u001b[0m \u001b[1;36m5\u001b[0m\u001b[1;33m,\u001b[0m \u001b[1;34m\"+\"\u001b[0m\u001b[1;33m)\u001b[0m\u001b[1;33m\u001b[0m\u001b[1;33m\u001b[0m\u001b[0m\n\u001b[0m",
      "\u001b[1;31mTypeError\u001b[0m: mycalc() takes 0 positional arguments but 3 were given"
     ]
    }
   ],
   "source": [
    "mycalc(10, 5, \"+\")"
   ]
  },
  {
   "cell_type": "code",
   "execution_count": 19,
   "id": "ba1404fb-292c-49e8-8da1-4bd5eb5439eb",
   "metadata": {},
   "outputs": [
    {
     "data": {
      "text/plain": [
       "<function __main__.calc(v1, v2, op)>"
      ]
     },
     "execution_count": 19,
     "metadata": {},
     "output_type": "execute_result"
    }
   ],
   "source": [
    "m = mycalc()\n",
    "m"
   ]
  },
  {
   "cell_type": "code",
   "execution_count": 20,
   "id": "45992066-9213-4b6a-ac8c-9c47e9c6c697",
   "metadata": {},
   "outputs": [
    {
     "data": {
      "text/plain": [
       "15"
      ]
     },
     "execution_count": 20,
     "metadata": {},
     "output_type": "execute_result"
    }
   ],
   "source": [
    "m(10,5,\"+\")"
   ]
  },
  {
   "cell_type": "code",
   "execution_count": 21,
   "id": "d409ab86-25a9-441b-9267-13316630ec8c",
   "metadata": {},
   "outputs": [
    {
     "data": {
      "text/plain": [
       "15"
      ]
     },
     "execution_count": 21,
     "metadata": {},
     "output_type": "execute_result"
    }
   ],
   "source": [
    "mycalc()(10,5,\"+\")"
   ]
  },
  {
   "cell_type": "markdown",
   "id": "cd828115-b0f5-4318-a6fe-343b529029ae",
   "metadata": {},
   "source": [
    "# 전역변수 지역변수"
   ]
  },
  {
   "cell_type": "code",
   "execution_count": 25,
   "id": "889e1e8c-4087-4fe3-8a1e-9f8600a6db32",
   "metadata": {},
   "outputs": [],
   "source": [
    "a = 20\n",
    "\n",
    "def f1():\n",
    "    a = 10\n",
    "    print(a)\n",
    "    print(locals())"
   ]
  },
  {
   "cell_type": "code",
   "execution_count": 23,
   "id": "dde50e5e-479a-4d2d-8b3f-33b436113be3",
   "metadata": {},
   "outputs": [
    {
     "name": "stdout",
     "output_type": "stream",
     "text": [
      "10\n"
     ]
    }
   ],
   "source": [
    "f1()"
   ]
  },
  {
   "cell_type": "code",
   "execution_count": 26,
   "id": "b2b016b6-6fa8-4a27-9e0e-a2114127abb3",
   "metadata": {},
   "outputs": [
    {
     "name": "stdout",
     "output_type": "stream",
     "text": [
      "10\n",
      "{'a': 10}\n"
     ]
    }
   ],
   "source": [
    "f1()"
   ]
  },
  {
   "cell_type": "code",
   "execution_count": 29,
   "id": "9a5f27b8-dff4-4988-aaf9-1d48863a2a31",
   "metadata": {},
   "outputs": [],
   "source": [
    "def f2():\n",
    "    print(a)"
   ]
  },
  {
   "cell_type": "code",
   "execution_count": 30,
   "id": "82b4ba31-f772-4004-9830-a3ee2200362a",
   "metadata": {},
   "outputs": [
    {
     "name": "stdout",
     "output_type": "stream",
     "text": [
      "20\n"
     ]
    }
   ],
   "source": [
    "f2()"
   ]
  },
  {
   "cell_type": "code",
   "execution_count": 31,
   "id": "72d83b60-7634-4954-a317-303a6fe6ef7f",
   "metadata": {},
   "outputs": [],
   "source": [
    "def f3():\n",
    "    global a # 로컬에서 a라는 전역변수를 그대로 사용!\n",
    "    a = 30\n",
    "    print(a)"
   ]
  },
  {
   "cell_type": "code",
   "execution_count": 32,
   "id": "21a10594-ab6b-48cd-803a-5e2106f146c4",
   "metadata": {},
   "outputs": [
    {
     "name": "stdout",
     "output_type": "stream",
     "text": [
      "30\n"
     ]
    }
   ],
   "source": [
    "f3()"
   ]
  },
  {
   "cell_type": "code",
   "execution_count": 33,
   "id": "a3972fdf-f391-437e-a867-6f62e01e8f92",
   "metadata": {},
   "outputs": [
    {
     "data": {
      "text/plain": [
       "30"
      ]
     },
     "execution_count": 33,
     "metadata": {},
     "output_type": "execute_result"
    }
   ],
   "source": [
    "a"
   ]
  },
  {
   "cell_type": "markdown",
   "id": "43244cdb-0989-444e-9432-0812675e8a92",
   "metadata": {},
   "source": [
    "여러 반환값 처리"
   ]
  },
  {
   "cell_type": "code",
   "execution_count": 37,
   "id": "2498b0ad-7385-4d85-9f63-698687eaab4e",
   "metadata": {},
   "outputs": [],
   "source": [
    "def multi(v1,v2):\n",
    "    retList = []  # 반환할 리스트\n",
    "    res1 = v1 + v2\n",
    "    res2 = v1 - v2\n",
    "    resList.append(res1)\n",
    "    resList.append(res2)\n",
    "    return resList\n"
   ]
  },
  {
   "cell_type": "code",
   "execution_count": 39,
   "id": "a1f859c6-adf4-4de2-aa93-85417911b9e2",
   "metadata": {},
   "outputs": [],
   "source": [
    "myList = []\n",
    "hap, sub = 0, 0"
   ]
  },
  {
   "cell_type": "code",
   "execution_count": 38,
   "id": "93322294-12d0-4b3b-82bb-b343ffddc4f9",
   "metadata": {},
   "outputs": [
    {
     "ename": "NameError",
     "evalue": "name 'resList' is not defined",
     "output_type": "error",
     "traceback": [
      "\u001b[1;31m---------------------------------------------------------------------------\u001b[0m",
      "\u001b[1;31mNameError\u001b[0m                                 Traceback (most recent call last)",
      "\u001b[1;32m~\\AppData\\Local\\Temp/ipykernel_19912/3904678094.py\u001b[0m in \u001b[0;36m<module>\u001b[1;34m\u001b[0m\n\u001b[1;32m----> 1\u001b[1;33m \u001b[0mmyList\u001b[0m \u001b[1;33m=\u001b[0m \u001b[0mmulti\u001b[0m\u001b[1;33m(\u001b[0m\u001b[1;36m100\u001b[0m\u001b[1;33m,\u001b[0m\u001b[1;36m200\u001b[0m\u001b[1;33m)\u001b[0m\u001b[1;33m\u001b[0m\u001b[1;33m\u001b[0m\u001b[0m\n\u001b[0m\u001b[0;32m      2\u001b[0m \u001b[0mhap\u001b[0m \u001b[1;33m=\u001b[0m \u001b[0mmyList\u001b[0m\u001b[1;33m[\u001b[0m\u001b[1;36m0\u001b[0m\u001b[1;33m]\u001b[0m\u001b[1;33m\u001b[0m\u001b[1;33m\u001b[0m\u001b[0m\n\u001b[0;32m      3\u001b[0m \u001b[0msub\u001b[0m \u001b[1;33m=\u001b[0m \u001b[0mmyList\u001b[0m\u001b[1;33m[\u001b[0m\u001b[1;36m1\u001b[0m\u001b[1;33m]\u001b[0m\u001b[1;33m\u001b[0m\u001b[1;33m\u001b[0m\u001b[0m\n\u001b[0;32m      4\u001b[0m \u001b[0mprint\u001b[0m\u001b[1;33m(\u001b[0m\u001b[1;34m\"multi()에서 돌려준 값 ==> %d, %d\"\u001b[0m \u001b[1;33m%\u001b[0m\u001b[1;33m(\u001b[0m\u001b[0mhap\u001b[0m\u001b[1;33m,\u001b[0m\u001b[0msub\u001b[0m\u001b[1;33m)\u001b[0m\u001b[1;33m)\u001b[0m\u001b[1;33m\u001b[0m\u001b[1;33m\u001b[0m\u001b[0m\n",
      "\u001b[1;32m~\\AppData\\Local\\Temp/ipykernel_19912/2887524976.py\u001b[0m in \u001b[0;36mmulti\u001b[1;34m(v1, v2)\u001b[0m\n\u001b[0;32m      3\u001b[0m     \u001b[0mres1\u001b[0m \u001b[1;33m=\u001b[0m \u001b[0mv1\u001b[0m \u001b[1;33m+\u001b[0m \u001b[0mv2\u001b[0m\u001b[1;33m\u001b[0m\u001b[1;33m\u001b[0m\u001b[0m\n\u001b[0;32m      4\u001b[0m     \u001b[0mres2\u001b[0m \u001b[1;33m=\u001b[0m \u001b[0mv1\u001b[0m \u001b[1;33m-\u001b[0m \u001b[0mv2\u001b[0m\u001b[1;33m\u001b[0m\u001b[1;33m\u001b[0m\u001b[0m\n\u001b[1;32m----> 5\u001b[1;33m     \u001b[0mresList\u001b[0m\u001b[1;33m.\u001b[0m\u001b[0mappend\u001b[0m\u001b[1;33m(\u001b[0m\u001b[0mres1\u001b[0m\u001b[1;33m)\u001b[0m\u001b[1;33m\u001b[0m\u001b[1;33m\u001b[0m\u001b[0m\n\u001b[0m\u001b[0;32m      6\u001b[0m     \u001b[0mresList\u001b[0m\u001b[1;33m.\u001b[0m\u001b[0mappend\u001b[0m\u001b[1;33m(\u001b[0m\u001b[0mres2\u001b[0m\u001b[1;33m)\u001b[0m\u001b[1;33m\u001b[0m\u001b[1;33m\u001b[0m\u001b[0m\n\u001b[0;32m      7\u001b[0m     \u001b[1;32mreturn\u001b[0m \u001b[0mresList\u001b[0m\u001b[1;33m\u001b[0m\u001b[1;33m\u001b[0m\u001b[0m\n",
      "\u001b[1;31mNameError\u001b[0m: name 'resList' is not defined"
     ]
    }
   ],
   "source": [
    "myList = multi(100,200)\n",
    "hap = myList[0]\n",
    "sub = myList[1]\n",
    "print(\"multi()에서 돌려준 값 ==> %d, %d\" %(hap,sub))"
   ]
  },
  {
   "cell_type": "code",
   "execution_count": 40,
   "id": "7ce44792-5177-4ccc-8a83-c8e5ea8bfaad",
   "metadata": {},
   "outputs": [],
   "source": [
    "def multi(v1, v2):\n",
    "    res1= v1 + v2\n",
    "    res2 = v1 - v2\n",
    "    return res1, res2, res2, res1"
   ]
  },
  {
   "cell_type": "code",
   "execution_count": 41,
   "id": "64efe944-908a-4792-b3f3-75e63f3c6644",
   "metadata": {},
   "outputs": [
    {
     "data": {
      "text/plain": [
       "(2100, -1900, -1900, 2100)"
      ]
     },
     "execution_count": 41,
     "metadata": {},
     "output_type": "execute_result"
    }
   ],
   "source": [
    "multi(100,2000)"
   ]
  },
  {
   "cell_type": "code",
   "execution_count": 42,
   "id": "8e2a8d15-b9d4-4ab0-841b-54d240efc0df",
   "metadata": {},
   "outputs": [
    {
     "data": {
      "text/plain": [
       "(2100, -1900, -1900, 2100)"
      ]
     },
     "execution_count": 42,
     "metadata": {},
     "output_type": "execute_result"
    }
   ],
   "source": [
    "r = multi(100,2000)\n",
    "r"
   ]
  },
  {
   "cell_type": "code",
   "execution_count": 43,
   "id": "b62002ae-8c98-446e-a4d7-4118c18ace0b",
   "metadata": {},
   "outputs": [
    {
     "data": {
      "text/plain": [
       "2100"
      ]
     },
     "execution_count": 43,
     "metadata": {},
     "output_type": "execute_result"
    }
   ],
   "source": [
    "r[0]"
   ]
  },
  {
   "cell_type": "markdown",
   "id": "0d0c4e34-9fbb-4b9f-8bcf-4e1cfe8f0256",
   "metadata": {},
   "source": [
    "pass"
   ]
  },
  {
   "cell_type": "code",
   "execution_count": 44,
   "id": "ca7c78ac-aab2-4980-8fa3-f03efeed60f6",
   "metadata": {},
   "outputs": [],
   "source": [
    "def f1():\n",
    "    pass"
   ]
  },
  {
   "cell_type": "code",
   "execution_count": 45,
   "id": "d89206ce-bf81-4443-85bb-e29586db01cf",
   "metadata": {},
   "outputs": [],
   "source": [
    "f1()"
   ]
  },
  {
   "cell_type": "code",
   "execution_count": 46,
   "id": "a9b035a2-52a3-45ee-b04b-74542fe61a24",
   "metadata": {},
   "outputs": [],
   "source": [
    "if True:\n",
    "    pass\n",
    "else:\n",
    "    print('End')"
   ]
  },
  {
   "cell_type": "markdown",
   "id": "d985a8ff-7fe7-4d0e-a1f6-485e559297bf",
   "metadata": {},
   "source": [
    "# 매개변수 전달"
   ]
  },
  {
   "cell_type": "code",
   "execution_count": 47,
   "id": "ff3975c5-7bb1-4364-b51d-807426a01a08",
   "metadata": {},
   "outputs": [],
   "source": [
    "def f1(v1, v2):\n",
    "    return v1 + v2"
   ]
  },
  {
   "cell_type": "code",
   "execution_count": 48,
   "id": "f029bc55-38f6-4447-88b2-1d33e270f46e",
   "metadata": {},
   "outputs": [],
   "source": [
    "def f2(v1,v2,v3):\n",
    "    return v1+v2+v3"
   ]
  },
  {
   "cell_type": "code",
   "execution_count": 49,
   "id": "830b9a83-7b16-47c7-96f0-e855080ea570",
   "metadata": {},
   "outputs": [
    {
     "data": {
      "text/plain": [
       "30"
      ]
     },
     "execution_count": 49,
     "metadata": {},
     "output_type": "execute_result"
    }
   ],
   "source": [
    "f1(10,20)"
   ]
  },
  {
   "cell_type": "code",
   "execution_count": 53,
   "id": "56b84e99-4951-4c35-8b92-34dbd5dce161",
   "metadata": {},
   "outputs": [
    {
     "ename": "TypeError",
     "evalue": "f2() missing 1 required positional argument: 'v3'",
     "output_type": "error",
     "traceback": [
      "\u001b[1;31m---------------------------------------------------------------------------\u001b[0m",
      "\u001b[1;31mTypeError\u001b[0m                                 Traceback (most recent call last)",
      "\u001b[1;32m~\\AppData\\Local\\Temp/ipykernel_19912/3377845787.py\u001b[0m in \u001b[0;36m<module>\u001b[1;34m\u001b[0m\n\u001b[1;32m----> 1\u001b[1;33m \u001b[0mf2\u001b[0m\u001b[1;33m(\u001b[0m\u001b[1;36m1\u001b[0m\u001b[1;33m,\u001b[0m\u001b[1;36m2\u001b[0m\u001b[1;33m)\u001b[0m\u001b[1;33m\u001b[0m\u001b[1;33m\u001b[0m\u001b[0m\n\u001b[0m",
      "\u001b[1;31mTypeError\u001b[0m: f2() missing 1 required positional argument: 'v3'"
     ]
    }
   ],
   "source": [
    "f2(1,2)"
   ]
  },
  {
   "cell_type": "markdown",
   "id": "8a74ceca-8b80-4aa4-a31d-675f8c4273f8",
   "metadata": {},
   "source": [
    "매개변수 기본값"
   ]
  },
  {
   "cell_type": "code",
   "execution_count": 50,
   "id": "550e7ab1-16bf-4b30-974a-0751b13b9228",
   "metadata": {},
   "outputs": [],
   "source": [
    "def f3(v1,v2,v3=0): # 매개변수 값이 전달이 안되면 기본값!!!\n",
    "    return v1+v2+v3"
   ]
  },
  {
   "cell_type": "code",
   "execution_count": 51,
   "id": "4c2e99ba-bc4e-4007-8e54-9dbe43a5aa1b",
   "metadata": {},
   "outputs": [
    {
     "data": {
      "text/plain": [
       "6"
      ]
     },
     "execution_count": 51,
     "metadata": {},
     "output_type": "execute_result"
    }
   ],
   "source": [
    "f3(1,2,3)"
   ]
  },
  {
   "cell_type": "code",
   "execution_count": 52,
   "id": "18ea66ff-9367-49c8-b9c1-da0d023c7411",
   "metadata": {},
   "outputs": [
    {
     "data": {
      "text/plain": [
       "3"
      ]
     },
     "execution_count": 52,
     "metadata": {},
     "output_type": "execute_result"
    }
   ],
   "source": [
    "f3(1,2)"
   ]
  },
  {
   "cell_type": "markdown",
   "id": "84a90d5a-cd0f-472b-b6a6-18f13c9d2e78",
   "metadata": {},
   "source": [
    "\"*\" \"**\" 매개변수"
   ]
  },
  {
   "cell_type": "code",
   "execution_count": 56,
   "id": "1e3817bb-b786-44c5-a6b0-e1c8034db462",
   "metadata": {},
   "outputs": [],
   "source": [
    "def f4(*v):\n",
    "    result = 0\n",
    "    for n in v:\n",
    "        result +=n\n",
    "    return result"
   ]
  },
  {
   "cell_type": "code",
   "execution_count": 57,
   "id": "b1cf6efa-4804-4ef7-8d59-7423001c1c16",
   "metadata": {},
   "outputs": [
    {
     "data": {
      "text/plain": [
       "<function __main__.f4(*v)>"
      ]
     },
     "execution_count": 57,
     "metadata": {},
     "output_type": "execute_result"
    }
   ],
   "source": [
    "f4"
   ]
  },
  {
   "cell_type": "code",
   "execution_count": 58,
   "id": "b8947a14-6ba6-4158-8d10-b81663040866",
   "metadata": {},
   "outputs": [
    {
     "data": {
      "text/plain": [
       "6"
      ]
     },
     "execution_count": 58,
     "metadata": {},
     "output_type": "execute_result"
    }
   ],
   "source": [
    "f4(1,2,3)"
   ]
  },
  {
   "cell_type": "code",
   "execution_count": 59,
   "id": "b9a0671f-7235-4999-af35-a89125e3c05c",
   "metadata": {},
   "outputs": [
    {
     "data": {
      "text/plain": [
       "1"
      ]
     },
     "execution_count": 59,
     "metadata": {},
     "output_type": "execute_result"
    }
   ],
   "source": [
    "f4(1)"
   ]
  },
  {
   "cell_type": "markdown",
   "id": "441feff1-ccd7-4071-a2e1-ce4ee3bc5215",
   "metadata": {},
   "source": [
    "딕셔너리 매개변수"
   ]
  },
  {
   "cell_type": "code",
   "execution_count": 60,
   "id": "ab48f52d-e143-4903-a4d8-10d8168fa41b",
   "metadata": {},
   "outputs": [],
   "source": [
    "def f5(**v): # dict 형태\n",
    "    \n",
    "    for k in v.keys():\n",
    "       print('%s --> %d 명' %(k, v[k]))"
   ]
  },
  {
   "cell_type": "code",
   "execution_count": 61,
   "id": "cce1712c-6625-48d6-ae3d-2e951b2501cf",
   "metadata": {},
   "outputs": [
    {
     "name": "stdout",
     "output_type": "stream",
     "text": [
      "v1 --> 1 명\n",
      "v2 --> 3 명\n",
      "v3 --> 0 명\n"
     ]
    }
   ],
   "source": [
    "f5(v1=1, v2=3, v3=0)"
   ]
  },
  {
   "cell_type": "markdown",
   "id": "c7c6a74b-5194-468f-b074-cd4bdc44777d",
   "metadata": {},
   "source": [
    "가변형 인자 & 딕셔너리 인자"
   ]
  },
  {
   "cell_type": "code",
   "execution_count": 62,
   "id": "5983b6f8-6c40-419f-84a1-b72988b1f522",
   "metadata": {},
   "outputs": [],
   "source": [
    "def myfunction(*args, **kwargs):\n",
    "    print('args: ', args)\n",
    "    print('kwargs: ', kwargs)"
   ]
  },
  {
   "cell_type": "code",
   "execution_count": 63,
   "id": "472fd6e2-7dad-472e-b61d-f97a3465496f",
   "metadata": {},
   "outputs": [
    {
     "name": "stdout",
     "output_type": "stream",
     "text": [
      "args:  ()\n",
      "kwargs:  {}\n"
     ]
    }
   ],
   "source": [
    "myfunction()"
   ]
  },
  {
   "cell_type": "code",
   "execution_count": 64,
   "id": "0aa9975d-8531-48cf-baef-57a656d82c01",
   "metadata": {},
   "outputs": [
    {
     "name": "stdout",
     "output_type": "stream",
     "text": [
      "args:  (1,)\n",
      "kwargs:  {}\n"
     ]
    }
   ],
   "source": [
    "myfunction(1)"
   ]
  },
  {
   "cell_type": "code",
   "execution_count": 66,
   "id": "d827a8fa-1d0b-45e6-bc8c-bfa1fc0194db",
   "metadata": {},
   "outputs": [
    {
     "name": "stdout",
     "output_type": "stream",
     "text": [
      "args:  (1, 2, 3)\n",
      "kwargs:  {'a': 3}\n"
     ]
    }
   ],
   "source": [
    "myfunction(1,2,3,a=3)"
   ]
  },
  {
   "cell_type": "code",
   "execution_count": 68,
   "id": "d2f663f7-2bf5-4f32-b2ce-e67da2b747b6",
   "metadata": {},
   "outputs": [
    {
     "ename": "SyntaxError",
     "evalue": "positional argument follows keyword argument (Temp/ipykernel_19912/3863665143.py, line 1)",
     "output_type": "error",
     "traceback": [
      "\u001b[1;36m  File \u001b[1;32m\"C:\\Users\\LG\\AppData\\Local\\Temp/ipykernel_19912/3863665143.py\"\u001b[1;36m, line \u001b[1;32m1\u001b[0m\n\u001b[1;33m    myfunction(a=3, 2,3,4) #가변형 인자가 앞에 와야 오류가 안남\u001b[0m\n\u001b[1;37m                         ^\u001b[0m\n\u001b[1;31mSyntaxError\u001b[0m\u001b[1;31m:\u001b[0m positional argument follows keyword argument\n"
     ]
    }
   ],
   "source": [
    "myfunction(a=3, 2,3,4) #가변형 인자가 앞에 와야 오류가 안남"
   ]
  },
  {
   "cell_type": "markdown",
   "id": "2023daaf-b006-4b5f-8c45-89473695feee",
   "metadata": {},
   "source": [
    "# 모듈\n",
    "\n",
    "- 'import MODULE'\n",
    "- 'import MODULE as alias'\n",
    "- 'from MODULE import function'"
   ]
  },
  {
   "cell_type": "code",
   "execution_count": 69,
   "id": "1ccaac2c-b53f-4740-baee-8cc1b8cf6d80",
   "metadata": {},
   "outputs": [],
   "source": [
    "import Module1"
   ]
  },
  {
   "cell_type": "code",
   "execution_count": 70,
   "id": "5cf4f7ff-e812-4b61-8a59-9436a7eef3bf",
   "metadata": {},
   "outputs": [
    {
     "data": {
      "text/plain": [
       "module"
      ]
     },
     "execution_count": 70,
     "metadata": {},
     "output_type": "execute_result"
    }
   ],
   "source": [
    "type(Module1)"
   ]
  },
  {
   "cell_type": "code",
   "execution_count": 71,
   "id": "bbef2dea-ac66-488e-a80a-5909936c46e0",
   "metadata": {},
   "outputs": [
    {
     "data": {
      "text/plain": [
       "<module 'Module1' from 'C:\\\\Users\\\\LG\\\\Works\\\\Module1.py'>"
      ]
     },
     "execution_count": 71,
     "metadata": {},
     "output_type": "execute_result"
    }
   ],
   "source": [
    "Module1"
   ]
  },
  {
   "cell_type": "code",
   "execution_count": 75,
   "id": "9c9c8d46-6dee-4e92-89e7-3fd598f42930",
   "metadata": {},
   "outputs": [
    {
     "name": "stdout",
     "output_type": "stream",
     "text": [
      "module1.py func1()\n"
     ]
    }
   ],
   "source": [
    "Module1.func1() # 함수호출"
   ]
  },
  {
   "cell_type": "code",
   "execution_count": 74,
   "id": "1a688b2c-144d-463d-aeac-26df0210766b",
   "metadata": {},
   "outputs": [
    {
     "data": {
      "text/plain": [
       "<function Module1.func1()>"
      ]
     },
     "execution_count": 74,
     "metadata": {},
     "output_type": "execute_result"
    }
   ],
   "source": [
    "Module1.func1 # 객체 호출"
   ]
  },
  {
   "cell_type": "code",
   "execution_count": 76,
   "id": "69bc4bf0-c5cc-4250-a93b-c8ef3cd4dc0c",
   "metadata": {},
   "outputs": [],
   "source": [
    "import Module1 as m1"
   ]
  },
  {
   "cell_type": "code",
   "execution_count": 77,
   "id": "2c54611f-5aeb-46c2-8619-4c769091029c",
   "metadata": {},
   "outputs": [
    {
     "name": "stdout",
     "output_type": "stream",
     "text": [
      "module1.py func2()\n"
     ]
    }
   ],
   "source": [
    "m1.func2()"
   ]
  },
  {
   "cell_type": "code",
   "execution_count": 78,
   "id": "41359b7a-82c2-4505-bacd-712a18c26433",
   "metadata": {},
   "outputs": [],
   "source": [
    "# 모듈 안의 특정한 객체만 가져올 때!!!"
   ]
  },
  {
   "cell_type": "code",
   "execution_count": 79,
   "id": "72c0256a-2914-419c-b1e0-6c3ac7299002",
   "metadata": {},
   "outputs": [],
   "source": [
    "from Module1 import func1, func2"
   ]
  },
  {
   "cell_type": "code",
   "execution_count": 80,
   "id": "ef861e87-90d8-44f6-a46b-1409330298d8",
   "metadata": {},
   "outputs": [
    {
     "name": "stdout",
     "output_type": "stream",
     "text": [
      "module1.py func1()\n"
     ]
    }
   ],
   "source": [
    "func1()"
   ]
  },
  {
   "cell_type": "code",
   "execution_count": 81,
   "id": "d20b15ab-8082-4cb1-bee4-fd1f806864a1",
   "metadata": {},
   "outputs": [
    {
     "name": "stdout",
     "output_type": "stream",
     "text": [
      "module1.py func2()\n"
     ]
    }
   ],
   "source": [
    "func2()"
   ]
  },
  {
   "cell_type": "markdown",
   "id": "0e5a16a0-2a9d-427d-8659-24daf43da88a",
   "metadata": {},
   "source": [
    "# Module2 테스트"
   ]
  },
  {
   "cell_type": "code",
   "execution_count": 83,
   "id": "47cc3663-548f-4763-8c01-bc33e64208cd",
   "metadata": {},
   "outputs": [
    {
     "name": "stdout",
     "output_type": "stream",
     "text": [
      " C 드라이브의 볼륨에는 이름이 없습니다.\n",
      " 볼륨 일련 번호: 8298-AE35\n",
      "\n",
      " C:\\Users\\LG\\Works 디렉터리\n",
      "\n",
      "2022-03-24  오후 03:12               160 Module1.py\n",
      "2022-03-24  오후 03:18                 0 Module2.py\n",
      "               2개 파일                 160 바이트\n",
      "               0개 디렉터리  74,360,348,672 바이트 남음\n"
     ]
    }
   ],
   "source": [
    "%ls *.py"
   ]
  },
  {
   "cell_type": "code",
   "execution_count": 84,
   "id": "3b467f7e-d79f-4adb-949b-a196c5c32576",
   "metadata": {},
   "outputs": [
    {
     "name": "stdout",
     "output_type": "stream",
     "text": [
      "Module2 --> func1()\n"
     ]
    }
   ],
   "source": [
    "!python Module2.py"
   ]
  },
  {
   "cell_type": "code",
   "execution_count": 85,
   "id": "7e666204-157c-4710-ab72-a79d1b8716c3",
   "metadata": {},
   "outputs": [
    {
     "name": "stdout",
     "output_type": "stream",
     "text": [
      "Module2 --> func1()\n"
     ]
    }
   ],
   "source": [
    "# 다른사람\n",
    "import Module2"
   ]
  },
  {
   "cell_type": "code",
   "execution_count": 86,
   "id": "478a5033-8b4e-4e9b-a5d6-320d1e85f2e2",
   "metadata": {},
   "outputs": [
    {
     "name": "stdout",
     "output_type": "stream",
     "text": [
      "Module2 --> func1()\n"
     ]
    }
   ],
   "source": [
    "Module2.func1()"
   ]
  },
  {
   "cell_type": "markdown",
   "id": "7ef96f65-4bdf-4ffc-acff-e33e99fec892",
   "metadata": {},
   "source": [
    "> p.86쪽"
   ]
  },
  {
   "cell_type": "markdown",
   "id": "4f0bfee3-dc83-4dd7-bdae-74e90d698009",
   "metadata": {},
   "source": [
    "## `__main__ ` 적용\n",
    "- c/java 컴파일러 언어 -> start point!!\n",
    "    - 시작하는 함수!!\n",
    "    \n",
    "- startpoint 대체\n",
    "- 모듈의 테스트 코드"
   ]
  },
  {
   "cell_type": "code",
   "execution_count": 89,
   "id": "40818435-e8d8-4456-9fe7-15441d7661be",
   "metadata": {},
   "outputs": [
    {
     "name": "stdout",
     "output_type": "stream",
     "text": [
      "Module3 --> func1()\n"
     ]
    }
   ],
   "source": [
    "!python Module3.py"
   ]
  },
  {
   "cell_type": "code",
   "execution_count": 90,
   "id": "2d6c6a00-309d-4e92-a868-b4d139aa8e09",
   "metadata": {},
   "outputs": [],
   "source": [
    "import Module3"
   ]
  },
  {
   "cell_type": "markdown",
   "id": "2e69cc7f-1f53-4357-ab75-75dd6891c714",
   "metadata": {},
   "source": [
    "### 실습 : p277 예제 로또 코드\n",
    "\n",
    "1. getNumber 를 LottoModule.py에 정의한다.\n",
    "2. LottoModule을 가져와 p277 코드를 완성한다."
   ]
  },
  {
   "cell_type": "code",
   "execution_count": 97,
   "id": "9ba969b6-2572-4158-9f65-ef6664866766",
   "metadata": {},
   "outputs": [],
   "source": [
    "import LottoModule as lm"
   ]
  },
  {
   "cell_type": "code",
   "execution_count": 98,
   "id": "fdeab83b-10b6-421b-9700-8ed3cc4d6280",
   "metadata": {},
   "outputs": [
    {
     "name": "stdout",
     "output_type": "stream",
     "text": [
      "** 로또 추첨을 시작합니다. ** \n",
      "\n"
     ]
    },
    {
     "ename": "NameError",
     "evalue": "name 'random' is not defined",
     "output_type": "error",
     "traceback": [
      "\u001b[1;31m---------------------------------------------------------------------------\u001b[0m",
      "\u001b[1;31mNameError\u001b[0m                                 Traceback (most recent call last)",
      "\u001b[1;32m~\\AppData\\Local\\Temp/ipykernel_19912/3945636610.py\u001b[0m in \u001b[0;36m<module>\u001b[1;34m\u001b[0m\n\u001b[0;32m      5\u001b[0m \u001b[1;33m\u001b[0m\u001b[0m\n\u001b[0;32m      6\u001b[0m \u001b[1;32mwhile\u001b[0m \u001b[1;32mTrue\u001b[0m\u001b[1;33m:\u001b[0m\u001b[1;33m\u001b[0m\u001b[1;33m\u001b[0m\u001b[0m\n\u001b[1;32m----> 7\u001b[1;33m     \u001b[0mnum\u001b[0m \u001b[1;33m=\u001b[0m \u001b[0mlm\u001b[0m\u001b[1;33m.\u001b[0m\u001b[0mgetNumber\u001b[0m\u001b[1;33m(\u001b[0m\u001b[1;33m)\u001b[0m\u001b[1;33m\u001b[0m\u001b[1;33m\u001b[0m\u001b[0m\n\u001b[0m\u001b[0;32m      8\u001b[0m \u001b[1;33m\u001b[0m\u001b[0m\n\u001b[0;32m      9\u001b[0m     \u001b[1;32mif\u001b[0m \u001b[0mlotto\u001b[0m\u001b[1;33m.\u001b[0m\u001b[0mcount\u001b[0m\u001b[1;33m(\u001b[0m\u001b[0mnum\u001b[0m\u001b[1;33m)\u001b[0m \u001b[1;33m==\u001b[0m\u001b[1;36m0\u001b[0m \u001b[1;33m:\u001b[0m\u001b[1;33m\u001b[0m\u001b[1;33m\u001b[0m\u001b[0m\n",
      "\u001b[1;32m~\\Works\\LottoModule.py\u001b[0m in \u001b[0;36mgetNumber\u001b[1;34m()\u001b[0m\n\u001b[0;32m      1\u001b[0m \u001b[1;32mimport\u001b[0m \u001b[0mrandom\u001b[0m\u001b[1;33m\u001b[0m\u001b[1;33m\u001b[0m\u001b[0m\n\u001b[1;32m----> 2\u001b[1;33m \u001b[1;33m\u001b[0m\u001b[0m\n\u001b[0m\u001b[0;32m      3\u001b[0m \u001b[1;32mdef\u001b[0m \u001b[0mgetNumber\u001b[0m\u001b[1;33m(\u001b[0m\u001b[1;33m)\u001b[0m\u001b[1;33m:\u001b[0m\u001b[1;33m\u001b[0m\u001b[1;33m\u001b[0m\u001b[0m\n\u001b[0;32m      4\u001b[0m \u001b[1;33m\u001b[0m\u001b[0m\n\u001b[0;32m      5\u001b[0m     \u001b[1;32mreturn\u001b[0m \u001b[0mrandom\u001b[0m\u001b[1;33m.\u001b[0m\u001b[0mrandrange\u001b[0m\u001b[1;33m(\u001b[0m\u001b[1;36m1\u001b[0m\u001b[1;33m,\u001b[0m\u001b[1;36m46\u001b[0m\u001b[1;33m)\u001b[0m\u001b[1;33m\u001b[0m\u001b[1;33m\u001b[0m\u001b[0m\n",
      "\u001b[1;31mNameError\u001b[0m: name 'random' is not defined"
     ]
    }
   ],
   "source": [
    "\n",
    "lotto = []\n",
    "num = 0\n",
    "\n",
    "print(\"** 로또 추첨을 시작합니다. ** \\n\");\n",
    "\n",
    "while True:\n",
    "    num = lm.getNumber()\n",
    "    \n",
    "    if lotto.count(num) ==0 :\n",
    "        lotto.append(num)\n",
    "        \n",
    "    if len(lotto) >= 6 :\n",
    "        break\n",
    "        \n",
    "print(\"추첨된 로또 번호 ==> \", end = '')\n",
    "lotto.sort()\n",
    "for i in range(0,6):\n",
    "    print(\"%d \" % lotto[i], end = '')"
   ]
  },
  {
   "cell_type": "markdown",
   "id": "8489280c-9e14-4527-946c-f034cd8d2edb",
   "metadata": {},
   "source": [
    "# 패키지"
   ]
  },
  {
   "cell_type": "code",
   "execution_count": 99,
   "id": "50af7c2f-3317-44b7-a356-bd0f3e285923",
   "metadata": {},
   "outputs": [],
   "source": [
    "import mypackage.Module3"
   ]
  },
  {
   "cell_type": "code",
   "execution_count": 100,
   "id": "49d7ad34-ad6b-47ee-ad57-88cfa6e67382",
   "metadata": {},
   "outputs": [
    {
     "name": "stdout",
     "output_type": "stream",
     "text": [
      "Module3 --> func1()\n"
     ]
    }
   ],
   "source": [
    "mypackage.Module3.func1()"
   ]
  },
  {
   "cell_type": "code",
   "execution_count": 101,
   "id": "2f4711c0-2186-4ca9-aef3-62c8d0e75340",
   "metadata": {},
   "outputs": [],
   "source": [
    "from mypackage import Module3"
   ]
  },
  {
   "cell_type": "markdown",
   "id": "90b82dca-e66a-46da-9e76-19cfea367580",
   "metadata": {},
   "source": [
    "# Lambda 함수\n",
    "`lambda` 키워드 -> 이름이 없는 함수를 만든다!"
   ]
  },
  {
   "cell_type": "code",
   "execution_count": 104,
   "id": "c78e3b7f-415f-48f6-b996-096c0508c4c3",
   "metadata": {},
   "outputs": [],
   "source": [
    "hap2 = lambda x, y : x + y"
   ]
  },
  {
   "cell_type": "code",
   "execution_count": 105,
   "id": "5db6f787-f92e-4b41-8610-b7c9b0e25849",
   "metadata": {},
   "outputs": [
    {
     "data": {
      "text/plain": [
       "function"
      ]
     },
     "execution_count": 105,
     "metadata": {},
     "output_type": "execute_result"
    }
   ],
   "source": [
    "type(hap2)"
   ]
  },
  {
   "cell_type": "code",
   "execution_count": 106,
   "id": "97044ad7-bdde-433f-b871-7f0377412873",
   "metadata": {},
   "outputs": [
    {
     "data": {
      "text/plain": [
       "<function __main__.<lambda>(x, y)>"
      ]
     },
     "execution_count": 106,
     "metadata": {},
     "output_type": "execute_result"
    }
   ],
   "source": [
    "hap2"
   ]
  },
  {
   "cell_type": "code",
   "execution_count": 107,
   "id": "23f5b600-5b0b-4c76-9a27-1a75d4c07bab",
   "metadata": {},
   "outputs": [
    {
     "data": {
      "text/plain": [
       "300"
      ]
     },
     "execution_count": 107,
     "metadata": {},
     "output_type": "execute_result"
    }
   ],
   "source": [
    "hap2(100,200)"
   ]
  },
  {
   "cell_type": "code",
   "execution_count": 108,
   "id": "879006c8-2d48-46a1-b4d5-b263a370b037",
   "metadata": {},
   "outputs": [],
   "source": [
    "hap2 = lambda x= 10, y=20 : x+y"
   ]
  },
  {
   "cell_type": "code",
   "execution_count": 109,
   "id": "d30e1a7e-763c-4987-a3d9-700c85dc5d91",
   "metadata": {},
   "outputs": [
    {
     "data": {
      "text/plain": [
       "30"
      ]
     },
     "execution_count": 109,
     "metadata": {},
     "output_type": "execute_result"
    }
   ],
   "source": [
    "hap2()"
   ]
  },
  {
   "cell_type": "code",
   "execution_count": 111,
   "id": "0718889d-5ef4-4c8d-86ca-16eb159da1e4",
   "metadata": {},
   "outputs": [
    {
     "name": "stdout",
     "output_type": "stream",
     "text": [
      "[11, 12, 13, 14, 15]\n"
     ]
    }
   ],
   "source": [
    "li = [1,2,3,4,5]\n",
    "\n",
    "result = list(map(lambda x : x+10, li))\n",
    "print(result)"
   ]
  },
  {
   "cell_type": "markdown",
   "id": "37980f28-2b83-4e0e-8cab-1f76b9ccd1a0",
   "metadata": {},
   "source": [
    "# 재귀함수"
   ]
  },
  {
   "cell_type": "code",
   "execution_count": null,
   "id": "a860e895-7dbb-4d2d-a1ec-5bbed3bf86d5",
   "metadata": {},
   "outputs": [
    {
     "name": "stdout",
     "output_type": "stream",
     "text": [
      "하하하하하하하하하하하하하하하하하하하하하하하하하하하하하하하하하하하하하하하하하하하하하하하하하하하하하하하하하하하하하하하하하하하하하하하하하하하하하하하하하하하하하하하하하하하하하하하하하하하하하하하하하하하하하하하하하하하하하하하하하하하하하하하하하하하하하하하하하하하하하하하하하하하하하하하하하하하하하하하하하하하하하하하하하하하하하하하하하하하하하하하하하하하하하하하하하하하하하하하하하하하하하하하하하하하하하하하하하하하하하하하하하하하하하하하하하하하하하하하하하하하하하하하하하하하하하하하하하하하하하하하하하하하하하하하하하하하하하하하하하하하하하하하하하하하하하하하하하하하하하하하하하하하하하하하하하하하하하하하하하하하하하하하하하하하하하하하하하하하하하하하하하하하하하하하하하하하하하하하하하하하하하하하하하하하하하하하하하하하하하하하하하하하하하하하하하하하하하하하하하하하하하하하하하하하하하하하하하하하하하하하하하하하하하하하하하하하하하하하하하하하하하하하하하하하하하하하하하하하하하하하하하하하하하하하하하하하하하하하하하하하하하하하하하하하하하하하하하하하하하하하하하하하하하하하하하하하하하하하하하하하하하하하하하하하하하하하하하하하하하하하하하하하하하하하하하하하하하하하하하하하하하하하하하하하하하하하하하하하하하하하하하하하하하하하하하하하하하하하하하하하하하하하하하하하하하하하하하하하하하하하하하하하하하하하하하하하하하하하하하하하하하하하하하하하하하하하하하하하하하하하하하하하하하하하하하하하하하하하하하하하하하하하하하하하하하하하하하하하하하하하하하하하하하하하하하하하하하하하하하하하하하하하하하하하하하하하하하하하하하하하하하하하하하하하하하하하하하하하하하하하하하하하하하하하하하하하하하하하하하하하하하하하하하하하하하하하하하하하하하하하하하하하하하하하하하하하하하하하하하하하하하하하하하하하하하하하하하하하하하하하하하하하하하하하하하하하하하하하하하하하하하하하하하하하하하하하하하하하하하하하하하하하하하하하하하하하하하하하하하하하하하하하하하하하하하하하하하하하하하하하하하하하하하하하하하하하하하하하하하하하하하하하하하하하하하하하하하하하하하하하하하하하하하하하하하하하하하하하하하하하하하하하하하하하하하하하하하하하하하하하하하하하하하하하하하하하하하하하하하하하하하하하하하하하하하하하하하하하하하하하하하하하하하하하하하하하하하하하하하하하하하하하하하하하하하하하하하하하하하하하하하하하하하하하하하하하하하하하하하하하하하하하하하하하하하하하하하하하하하하하하하하하하하하하하하하하하하하하하하하하하하하하하하하하하하하하하하하하하하하하하하하하하하하하하하하하하하하하하하하하하하하하하하하하하하하하하하하하하하하하하하하하하하하하하하하하하하하하하하하하하하하하하하하하하하하하하하하하하하하하하하하하하하하하하하하하하하하하하하하하하하하하하하하하하하하하하하하하하하하하하하하하하하하하하하하하하하하하하하하하하하하하하하하하하하하하하하하하하하하하하하하하하하하하하하하하하하하하하하하하하하하하하하하하하하하하하하하하하하하하하하하하하하하하하하하하하하하하하하하하하하하하하하하하하하하하하하하"
     ]
    }
   ],
   "source": [
    "def selfCall() :\n",
    "    print('하', end= '')\n",
    "    selfCall()\n",
    "selfCall()"
   ]
  },
  {
   "cell_type": "code",
   "execution_count": 1,
   "id": "e24e2b1c-94f2-4a5b-90ea-ad2027a13cbe",
   "metadata": {},
   "outputs": [
    {
     "name": "stdout",
     "output_type": "stream",
     "text": [
      "24\n",
      "3628800\n"
     ]
    }
   ],
   "source": [
    "def factorial(num):\n",
    "    if num <=1:\n",
    "        return num\n",
    "    else:\n",
    "        return num * factorial(num-1)\n",
    "print(factorial(4))\n",
    "print(factorial(10))"
   ]
  }
 ],
 "metadata": {
  "kernelspec": {
   "display_name": "Python 3 (ipykernel)",
   "language": "python",
   "name": "python3"
  },
  "language_info": {
   "codemirror_mode": {
    "name": "ipython",
    "version": 3
   },
   "file_extension": ".py",
   "mimetype": "text/x-python",
   "name": "python",
   "nbconvert_exporter": "python",
   "pygments_lexer": "ipython3",
   "version": "3.9.7"
  }
 },
 "nbformat": 4,
 "nbformat_minor": 5
}
