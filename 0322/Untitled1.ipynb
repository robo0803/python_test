{
 "cells": [
  {
   "cell_type": "markdown",
   "id": "7550c7fc-a68d-425a-903e-29fba924c82e",
   "metadata": {},
   "source": [
    "# 3장 연습문제"
   ]
  },
  {
   "cell_type": "code",
   "execution_count": 1,
   "id": "6cc67ebe-bf04-417c-8479-9c7799e02367",
   "metadata": {},
   "outputs": [
    {
     "name": "stdout",
     "output_type": "stream",
     "text": [
      "10진수 =>  12345678\n",
      "16진수 =>  0xbc614e\n",
      "8진수 =>  0o57060516\n",
      "2진수 =>  0b101111000110000101001110\n"
     ]
    }
   ],
   "source": [
    "num = 12345678\n",
    "\n",
    "hex_num = hex(num)\n",
    "oct_num = oct(num)\n",
    "bin_num = bin(num)\n",
    "\n",
    "print(\"10진수 => \", num)\n",
    "print(\"16진수 => \", hex_num)\n",
    "print(\"8진수 => \", oct_num)\n",
    "print(\"2진수 => \", bin_num)"
   ]
  },
  {
   "cell_type": "markdown",
   "id": "bba39de5-4b82-4f24-b520-5b21490a110a",
   "metadata": {},
   "source": [
    "# 4장 연습문제"
   ]
  },
  {
   "cell_type": "code",
   "execution_count": 23,
   "id": "a2c2fb32-ca73-44dc-87fb-278868f6060a",
   "metadata": {},
   "outputs": [
    {
     "name": "stdin",
     "output_type": "stream",
     "text": [
      "500원짜리 개수 -->   7\n",
      "100원짜리 개수 -->   13\n",
      "50원짜리 개수 -->   9\n",
      "10원짜리 개수 -->   2\n"
     ]
    },
    {
     "name": "stdout",
     "output_type": "stream",
     "text": [
      "## 동전의 합계 ==> 5270원\n",
      " \n"
     ]
    }
   ],
   "source": [
    "\n",
    "\n",
    "\n",
    "\n",
    "n1 = int(input(\"500원짜리 개수 -->  \" ))\n",
    "n2 = int(input(\"100원짜리 개수 -->  \" ))\n",
    "n3 = int(input(\"50원짜리 개수 -->  \"))\n",
    "n4 = int(input(\"10원짜리 개수 -->  \"))\n",
    "           \n",
    "sum = 500 * n1 + 100 * n2 + 50 * n3 + 10 * n4\n",
    "\n",
    "print(\"## 동전의 합계 ==> %d원\\n \" %sum)"
   ]
  },
  {
   "cell_type": "markdown",
   "id": "81280e4e-82dc-414c-9e63-7d3b1343529a",
   "metadata": {},
   "source": [
    "# 5장 연습문제"
   ]
  },
  {
   "cell_type": "code",
   "execution_count": 10,
   "id": "0ee950a2-c67b-41b1-aef4-0e8e4cdc495f",
   "metadata": {},
   "outputs": [
    {
     "name": "stdout",
     "output_type": "stream",
     "text": [
      "생성된 리스트 [9, 18, 10, 7, 2, 16, 1, 7, 8, 8, 15, 13, 2, 20, 6, 7, 20, 9, 11, 13]\n",
      "숫자 1는(은) 뽑혔습니다. \n",
      "숫자 2는(은) 뽑혔습니다. \n",
      "숫자 6는(은) 뽑혔습니다. \n",
      "숫자 7는(은) 뽑혔습니다. \n",
      "숫자 8는(은) 뽑혔습니다. \n",
      "숫자 9는(은) 뽑혔습니다. \n",
      "숫자 10는(은) 뽑혔습니다. \n",
      "숫자 11는(은) 뽑혔습니다. \n",
      "숫자 13는(은) 뽑혔습니다. \n",
      "숫자 15는(은) 뽑혔습니다. \n",
      "숫자 16는(은) 뽑혔습니다. \n",
      "숫자 18는(은) 뽑혔습니다. \n",
      "숫자 20는(은) 뽑혔습니다. \n"
     ]
    }
   ],
   "source": [
    "#랜덤하게 1~20 숫자 20개 채운 후 뽑힌 숫자 목록 추출\n",
    "\n",
    "import random \n",
    "\n",
    "numbers = []\n",
    "\n",
    "for num in range(1,21):\n",
    "    numbers.append(random.randrange(1,21))\n",
    "    \n",
    "print(\"생성된 리스트\", numbers)\n",
    "\n",
    "for num in range(1,21):\n",
    "    if num in numbers:\n",
    "        print(\"숫자 %d는(은) 뽑혔습니다. \" %num)"
   ]
  },
  {
   "cell_type": "markdown",
   "id": "37ea9377-c6f5-458b-b383-0cf7a1d6f1c2",
   "metadata": {},
   "source": [
    "> 7번"
   ]
  },
  {
   "cell_type": "code",
   "execution_count": 4,
   "id": "b057715a-87fd-4a9c-b3af-04d1201e7780",
   "metadata": {},
   "outputs": [
    {
     "name": "stdin",
     "output_type": "stream",
     "text": [
      " 4\n",
      " 2\n"
     ]
    },
    {
     "name": "stdout",
     "output_type": "stream",
     "text": [
      "A의 주사위 숫자는  4 2 입니다.\n"
     ]
    },
    {
     "name": "stdin",
     "output_type": "stream",
     "text": [
      " 5\n",
      " 1\n"
     ]
    },
    {
     "name": "stdout",
     "output_type": "stream",
     "text": [
      "B의 주사위 숫자는  5 1 입니다.\n",
      "둘이 비겼네요\n",
      "\n"
     ]
    }
   ],
   "source": [
    "\n",
    "a1 = int(input())\n",
    "a2 = int(input())\n",
    "\n",
    "\n",
    "print(\"A의 주사위 숫자는 \", a1, a2, \"입니다.\")\n",
    "\n",
    "b1 = int(input())\n",
    "b2 = int(input())\n",
    "\n",
    "print(\"B의 주사위 숫자는 \", b1, b2, \"입니다.\")\n",
    "\n",
    "\n",
    "if a1 + a2 > b1 + b2:\n",
    "    \n",
    "    print(\"A가 이겼네요 \\n\")\n",
    "if a1 + a2 == b1 + b2 :\n",
    "\n",
    "    print(\"둘이 비겼네요\\n\")\n",
    "if a1 + a2 < b1 + b2 :\n",
    "\n",
    "    print(\"B가 이겼네요 \\n\")"
   ]
  }
 ],
 "metadata": {
  "kernelspec": {
   "display_name": "Python 3 (ipykernel)",
   "language": "python",
   "name": "python3"
  },
  "language_info": {
   "codemirror_mode": {
    "name": "ipython",
    "version": 3
   },
   "file_extension": ".py",
   "mimetype": "text/x-python",
   "name": "python",
   "nbconvert_exporter": "python",
   "pygments_lexer": "ipython3",
   "version": "3.9.7"
  }
 },
 "nbformat": 4,
 "nbformat_minor": 5
}
