{
 "cells": [
  {
   "cell_type": "code",
   "execution_count": 1,
   "id": "ff7db838-5f7c-4809-8e5c-5327060f377c",
   "metadata": {},
   "outputs": [
    {
     "name": "stdout",
     "output_type": "stream",
     "text": [
      "567   234 00123\n"
     ]
    }
   ],
   "source": [
    "print(\"{2:d} {1:5d} {0:05d}\".format(123,234,567))"
   ]
  },
  {
   "cell_type": "code",
   "execution_count": 2,
   "id": "1e970c06-cfb4-49bd-9d70-6b2d33ddb7cf",
   "metadata": {},
   "outputs": [
    {
     "name": "stdout",
     "output_type": "stream",
     "text": [
      "\n",
      "줄바꿈\n",
      "연습\n"
     ]
    }
   ],
   "source": [
    "print(\"\\n줄바꿈\\n연습\")"
   ]
  },
  {
   "cell_type": "code",
   "execution_count": 3,
   "id": "ddb9df3b-fffc-4450-ae33-b0c6f65656f8",
   "metadata": {},
   "outputs": [
    {
     "name": "stdout",
     "output_type": "stream",
     "text": [
      "\t탭키\t연습\n"
     ]
    }
   ],
   "source": [
    "print(\"\\t탭키\\t연습\")"
   ]
  },
  {
   "cell_type": "code",
   "execution_count": 4,
   "id": "7310ca4c-ccf2-4821-a4a6-8a8e270de12e",
   "metadata": {},
   "outputs": [
    {
     "name": "stdout",
     "output_type": "stream",
     "text": [
      "글자가 \"강조\"되는 효과1\n"
     ]
    }
   ],
   "source": [
    "print(\"글자가 \\\"강조\\\"되는 효과1\")"
   ]
  },
  {
   "cell_type": "code",
   "execution_count": 5,
   "id": "2b801a24-5753-4460-83a7-6abe97fdb841",
   "metadata": {},
   "outputs": [
    {
     "name": "stdout",
     "output_type": "stream",
     "text": [
      "\\\\\\ 역슬래시 세 개 출력\n"
     ]
    }
   ],
   "source": [
    "print(\"\\\\\\\\\\\\ 역슬래시 세 개 출력\")"
   ]
  },
  {
   "cell_type": "code",
   "execution_count": 6,
   "id": "162671be-bf10-4b7c-b93e-fe7918834de0",
   "metadata": {},
   "outputs": [
    {
     "name": "stdout",
     "output_type": "stream",
     "text": [
      "\\n \\t \\\" \\\\를 그대로 출력\n"
     ]
    }
   ],
   "source": [
    "print(r\"\\n \\t \\\" \\\\를 그대로 출력\")"
   ]
  },
  {
   "cell_type": "code",
   "execution_count": 7,
   "id": "0ce062d7-5a2b-436f-8cc7-f0d4beab41bd",
   "metadata": {},
   "outputs": [
    {
     "name": "stdout",
     "output_type": "stream",
     "text": [
      "글자가 '강조'되는 효과2\n"
     ]
    }
   ],
   "source": [
    "print(\"글자가 \\'강조\\'되는 효과2\")"
   ]
  },
  {
   "cell_type": "markdown",
   "id": "c2294111-4041-4b0e-a3b8-1bacdb4e2adf",
   "metadata": {},
   "source": [
    "# 변수\n",
    "변수 = 동적타이핑(Dynamic typing)"
   ]
  },
  {
   "cell_type": "code",
   "execution_count": 10,
   "id": "5bb332e6-5e67-4a06-b4e3-44c2684bcf80",
   "metadata": {},
   "outputs": [],
   "source": [
    "# 참 거짓 값 : True, False"
   ]
  },
  {
   "cell_type": "code",
   "execution_count": 12,
   "id": "a90b2a5e-0b0e-4d69-806d-4f45c026dc57",
   "metadata": {},
   "outputs": [],
   "source": [
    "boolVar = True"
   ]
  },
  {
   "cell_type": "code",
   "execution_count": 13,
   "id": "54be5a5a-744f-4ab4-b808-a3af61e278d5",
   "metadata": {},
   "outputs": [
    {
     "data": {
      "text/plain": [
       "True"
      ]
     },
     "execution_count": 13,
     "metadata": {},
     "output_type": "execute_result"
    }
   ],
   "source": [
    "boolVar"
   ]
  },
  {
   "cell_type": "code",
   "execution_count": 14,
   "id": "a60f4aac-d013-49a1-a4fe-f713c5eaa8c6",
   "metadata": {},
   "outputs": [
    {
     "data": {
      "text/plain": [
       "'문자열'"
      ]
     },
     "execution_count": 14,
     "metadata": {},
     "output_type": "execute_result"
    }
   ],
   "source": [
    "boolVar = \"문자열\"\n",
    "boolVar"
   ]
  },
  {
   "cell_type": "code",
   "execution_count": null,
   "id": "504f4c01-bf0d-4dc7-b5c7-07206cf3578e",
   "metadata": {},
   "outputs": [],
   "source": [
    "boolVar = 0.1"
   ]
  },
  {
   "cell_type": "code",
   "execution_count": 15,
   "id": "5ed5d2c6-fbc5-45ad-9647-2d5f0640c0a5",
   "metadata": {},
   "outputs": [
    {
     "ename": "TypeError",
     "evalue": "must be real number, not str",
     "output_type": "error",
     "traceback": [
      "\u001b[1;31m---------------------------------------------------------------------------\u001b[0m",
      "\u001b[1;31mTypeError\u001b[0m                                 Traceback (most recent call last)",
      "\u001b[1;32m~\\AppData\\Local\\Temp/ipykernel_18184/2642641864.py\u001b[0m in \u001b[0;36m<module>\u001b[1;34m\u001b[0m\n\u001b[1;32m----> 1\u001b[1;33m \u001b[0mprint\u001b[0m\u001b[1;33m(\u001b[0m\u001b[1;34m\"boolVar는 %f\"\u001b[0m \u001b[1;33m%\u001b[0m \u001b[0mboolVar\u001b[0m\u001b[1;33m)\u001b[0m\u001b[1;33m\u001b[0m\u001b[1;33m\u001b[0m\u001b[0m\n\u001b[0m",
      "\u001b[1;31mTypeError\u001b[0m: must be real number, not str"
     ]
    }
   ],
   "source": [
    "print(\"boolVar는 %f\" % boolVar)"
   ]
  },
  {
   "cell_type": "code",
   "execution_count": 16,
   "id": "a257bf34-6e56-41df-958e-89ac4fbb6d04",
   "metadata": {},
   "outputs": [
    {
     "data": {
      "text/plain": [
       "(True, 0, 0.1, '안녕')"
      ]
     },
     "execution_count": 16,
     "metadata": {},
     "output_type": "execute_result"
    }
   ],
   "source": [
    "a,b,f,s = True, 0, 0.1, \"안녕\"\n",
    "a, b, f,s"
   ]
  },
  {
   "cell_type": "code",
   "execution_count": 17,
   "id": "e028a854-019f-47eb-953e-c83462159d85",
   "metadata": {},
   "outputs": [],
   "source": [
    "z = y = w = 0"
   ]
  },
  {
   "cell_type": "code",
   "execution_count": 18,
   "id": "26ef1c54-dff1-4e63-86bf-4997ab941dd9",
   "metadata": {},
   "outputs": [
    {
     "data": {
      "text/plain": [
       "(0, 0, 0)"
      ]
     },
     "execution_count": 18,
     "metadata": {},
     "output_type": "execute_result"
    }
   ],
   "source": [
    "z,y,w"
   ]
  },
  {
   "cell_type": "markdown",
   "id": "2c7578a4-5398-48c6-aafb-9ea8f369d6cf",
   "metadata": {},
   "source": [
    "변수이름\n",
    "    1.숫자시작 X\n",
    "    2.예약어 X"
   ]
  },
  {
   "cell_type": "code",
   "execution_count": 19,
   "id": "e338f905-5361-4165-92c4-cc2378abb2e2",
   "metadata": {},
   "outputs": [
    {
     "data": {
      "text/plain": [
       "(10, 11)"
      ]
     },
     "execution_count": 19,
     "metadata": {},
     "output_type": "execute_result"
    }
   ],
   "source": [
    "# 대소문자 구분\n",
    "myVar = 10\n",
    "MyVar = 11\n",
    "myVar, MyVar"
   ]
  },
  {
   "cell_type": "markdown",
   "id": "aebfb1fa-5d81-4378-91f7-fc52fc5a5bf6",
   "metadata": {},
   "source": [
    "예약어!"
   ]
  },
  {
   "cell_type": "code",
   "execution_count": 20,
   "id": "4c0a54e7-8960-4744-8e5e-339b8f06d395",
   "metadata": {},
   "outputs": [],
   "source": [
    "import keyword"
   ]
  },
  {
   "cell_type": "code",
   "execution_count": 21,
   "id": "68782d09-ce4e-4aa5-8bb3-6d3f9b687c0e",
   "metadata": {},
   "outputs": [
    {
     "data": {
      "text/plain": [
       "['False',\n",
       " 'None',\n",
       " 'True',\n",
       " '__peg_parser__',\n",
       " 'and',\n",
       " 'as',\n",
       " 'assert',\n",
       " 'async',\n",
       " 'await',\n",
       " 'break',\n",
       " 'class',\n",
       " 'continue',\n",
       " 'def',\n",
       " 'del',\n",
       " 'elif',\n",
       " 'else',\n",
       " 'except',\n",
       " 'finally',\n",
       " 'for',\n",
       " 'from',\n",
       " 'global',\n",
       " 'if',\n",
       " 'import',\n",
       " 'in',\n",
       " 'is',\n",
       " 'lambda',\n",
       " 'nonlocal',\n",
       " 'not',\n",
       " 'or',\n",
       " 'pass',\n",
       " 'raise',\n",
       " 'return',\n",
       " 'try',\n",
       " 'while',\n",
       " 'with',\n",
       " 'yield']"
      ]
     },
     "execution_count": 21,
     "metadata": {},
     "output_type": "execute_result"
    }
   ],
   "source": [
    "keyword.kwlist"
   ]
  },
  {
   "cell_type": "code",
   "execution_count": null,
   "id": "1d43d510-c00c-4ee8-b9a6-42f5db0c0055",
   "metadata": {},
   "outputs": [],
   "source": [
    "type()"
   ]
  },
  {
   "cell_type": "code",
   "execution_count": 22,
   "id": "7c5822ce-e8ba-4e10-8e14-89cdc51385ab",
   "metadata": {},
   "outputs": [
    {
     "data": {
      "text/plain": [
       "int"
      ]
     },
     "execution_count": 22,
     "metadata": {},
     "output_type": "execute_result"
    }
   ],
   "source": [
    "type(myVar)"
   ]
  },
  {
   "cell_type": "code",
   "execution_count": 23,
   "id": "269cda4f-6485-413b-8572-da5b1bf50b50",
   "metadata": {},
   "outputs": [
    {
     "data": {
      "text/plain": [
       "bool"
      ]
     },
     "execution_count": 23,
     "metadata": {},
     "output_type": "execute_result"
    }
   ],
   "source": [
    "type(a)"
   ]
  },
  {
   "cell_type": "code",
   "execution_count": 24,
   "id": "eb797a76-4abe-4595-8224-3cd91e0cc273",
   "metadata": {},
   "outputs": [
    {
     "data": {
      "text/plain": [
       "float"
      ]
     },
     "execution_count": 24,
     "metadata": {},
     "output_type": "execute_result"
    }
   ],
   "source": [
    "a= 100.01\n",
    "type(a)"
   ]
  },
  {
   "cell_type": "code",
   "execution_count": 25,
   "id": "a8f76730-6c6b-4ce4-ae6a-342d0617e372",
   "metadata": {},
   "outputs": [
    {
     "data": {
      "text/plain": [
       "100"
      ]
     },
     "execution_count": 25,
     "metadata": {},
     "output_type": "execute_result"
    }
   ],
   "source": [
    "# 권장하진 않는다 \n",
    "\n",
    "변수 = 100\n",
    "변수"
   ]
  },
  {
   "cell_type": "markdown",
   "id": "5f001d38-4c95-4299-82f7-d1710c535f55",
   "metadata": {},
   "source": [
    "# 변수명 영문으로!!!"
   ]
  },
  {
   "cell_type": "markdown",
   "id": "3f6fdd13-f637-4c2b-b92a-90a9d5a9876d",
   "metadata": {},
   "source": [
    "진수 변환"
   ]
  },
  {
   "cell_type": "code",
   "execution_count": 26,
   "id": "75c867c4-53c9-49db-9174-02cbc56ec49a",
   "metadata": {},
   "outputs": [
    {
     "data": {
      "text/plain": [
       "147"
      ]
     },
     "execution_count": 26,
     "metadata": {},
     "output_type": "execute_result"
    }
   ],
   "source": [
    "0b10010011"
   ]
  },
  {
   "cell_type": "code",
   "execution_count": 27,
   "id": "29bd4f64-cbb2-4103-a5fa-512bec5528c1",
   "metadata": {},
   "outputs": [
    {
     "data": {
      "text/plain": [
       "147"
      ]
     },
     "execution_count": 27,
     "metadata": {},
     "output_type": "execute_result"
    }
   ],
   "source": [
    "a = 0b10010011\n",
    "a"
   ]
  },
  {
   "cell_type": "code",
   "execution_count": 28,
   "id": "0832fa13-0825-4968-a7ce-14001fe2b575",
   "metadata": {},
   "outputs": [
    {
     "data": {
      "text/plain": [
       "147"
      ]
     },
     "execution_count": 28,
     "metadata": {},
     "output_type": "execute_result"
    }
   ],
   "source": [
    "int('10010011',2)"
   ]
  },
  {
   "cell_type": "code",
   "execution_count": 29,
   "id": "66f13e2c-ca7e-449c-ab32-b25bfcc9aedd",
   "metadata": {},
   "outputs": [
    {
     "data": {
      "text/plain": [
       "'0b10010011'"
      ]
     },
     "execution_count": 29,
     "metadata": {},
     "output_type": "execute_result"
    }
   ],
   "source": [
    "bin(147)"
   ]
  },
  {
   "cell_type": "code",
   "execution_count": 30,
   "id": "e6d2263f-2ce4-456d-976a-375a1cc4a595",
   "metadata": {},
   "outputs": [
    {
     "data": {
      "text/plain": [
       "'0b11111010'"
      ]
     },
     "execution_count": 30,
     "metadata": {},
     "output_type": "execute_result"
    }
   ],
   "source": [
    "bin(0xFA)"
   ]
  },
  {
   "cell_type": "code",
   "execution_count": 31,
   "id": "fac56489-b982-4b84-80f0-960e59f50ddc",
   "metadata": {},
   "outputs": [
    {
     "data": {
      "text/plain": [
       "'0o223'"
      ]
     },
     "execution_count": 31,
     "metadata": {},
     "output_type": "execute_result"
    }
   ],
   "source": [
    "oct(147)"
   ]
  },
  {
   "cell_type": "code",
   "execution_count": 32,
   "id": "a5d31c5b-3427-40c9-bb00-52bcc46b0250",
   "metadata": {},
   "outputs": [
    {
     "data": {
      "text/plain": [
       "'0x93'"
      ]
     },
     "execution_count": 32,
     "metadata": {},
     "output_type": "execute_result"
    }
   ],
   "source": [
    "hex(147)"
   ]
  },
  {
   "cell_type": "code",
   "execution_count": 33,
   "id": "028ebe34-6153-4114-b011-8ab254088bed",
   "metadata": {},
   "outputs": [
    {
     "name": "stdin",
     "output_type": "stream",
     "text": [
      "입력 진수 결정(16/10/8/2):  8\n",
      "값 입력 :  10011100\n"
     ]
    },
    {
     "name": "stdout",
     "output_type": "stream",
     "text": [
      "16진수 => 0x201240\n",
      "10진수 => 2101824\n",
      "8진수 => 0o10011100\n",
      "2진수 => 0b1000000001001001000000\n"
     ]
    }
   ],
   "source": [
    "sel = int(input(\"입력 진수 결정(16/10/8/2): \"))\n",
    "num = input(\"값 입력 : \")\n",
    "\n",
    "if selb ==16 :\n",
    "    num10 = int(num, 16)\n",
    "if sel ==10:\n",
    "    num10 = int(num, 10)\n",
    "if sel==8:\n",
    "    num10 = int(num, 8)\n",
    "if sel==2:\n",
    "    num10 = int(num, 2)\n",
    "    \n",
    "print(\"16진수 =>\", hex(num10))\n",
    "print(\"10진수 =>\", num10)\n",
    "print(\"8진수 =>\", oct(num10))\n",
    "print(\"2진수 =>\", bin(num10))"
   ]
  },
  {
   "cell_type": "markdown",
   "id": "86d644e3-a97b-457b-a2e6-0bf98fa8d1bd",
   "metadata": {},
   "source": [
    "> 81쪽 -> 조건문 하고 실습!!!"
   ]
  },
  {
   "cell_type": "code",
   "execution_count": 34,
   "id": "fa8d2b03-a29e-4f60-884a-2afa25a34602",
   "metadata": {},
   "outputs": [
    {
     "data": {
      "text/plain": [
       "int"
      ]
     },
     "execution_count": 34,
     "metadata": {},
     "output_type": "execute_result"
    }
   ],
   "source": [
    "a = 0xFF\n",
    "type(a)"
   ]
  },
  {
   "cell_type": "code",
   "execution_count": 35,
   "id": "cec053ee-1975-4e0f-a798-64dbf9332531",
   "metadata": {},
   "outputs": [
    {
     "data": {
      "text/plain": [
       "int"
      ]
     },
     "execution_count": 35,
     "metadata": {},
     "output_type": "execute_result"
    }
   ],
   "source": [
    "type(0b1111)"
   ]
  },
  {
   "cell_type": "code",
   "execution_count": 37,
   "id": "4bf30672-82c8-4b42-af4f-9ff2a85fe1d9",
   "metadata": {},
   "outputs": [],
   "source": [
    "a = 3.14\n",
    "b = 3.14e5"
   ]
  },
  {
   "cell_type": "code",
   "execution_count": 38,
   "id": "a4cd0d3d-d57e-4573-af79-30a6f404b256",
   "metadata": {},
   "outputs": [
    {
     "data": {
      "text/plain": [
       "3.14"
      ]
     },
     "execution_count": 38,
     "metadata": {},
     "output_type": "execute_result"
    }
   ],
   "source": [
    "a"
   ]
  },
  {
   "cell_type": "code",
   "execution_count": 39,
   "id": "fa8d6c39-a266-451e-ae7d-03aa202960b7",
   "metadata": {},
   "outputs": [
    {
     "data": {
      "text/plain": [
       "314000.0"
      ]
     },
     "execution_count": 39,
     "metadata": {},
     "output_type": "execute_result"
    }
   ],
   "source": [
    "b"
   ]
  },
  {
   "cell_type": "code",
   "execution_count": 40,
   "id": "ffaa2c73-6be8-4905-a813-6b93a7185296",
   "metadata": {},
   "outputs": [
    {
     "name": "stdout",
     "output_type": "stream",
     "text": [
      "30 -10 200 0.5\n"
     ]
    }
   ],
   "source": [
    "a = 10; b = 20\n",
    "print(a+b, a-b, a*b, a/b)"
   ]
  },
  {
   "cell_type": "markdown",
   "id": "edb9c93b-4cc4-44dd-b6c6-5595b3fc3bf1",
   "metadata": {},
   "source": [
    "1. 정밀도가 큰 자료형으로 결과가 반환!\n",
    "2. 자료 범위가 큰 자료형으로 결과가 반환! <-- python"
   ]
  },
  {
   "cell_type": "code",
   "execution_count": 44,
   "id": "48d9f206-ce38-4c93-96a3-bb454cf6c98e",
   "metadata": {},
   "outputs": [
    {
     "data": {
      "text/plain": [
       "0.5"
      ]
     },
     "execution_count": 44,
     "metadata": {},
     "output_type": "execute_result"
    }
   ],
   "source": [
    "a / b"
   ]
  },
  {
   "cell_type": "code",
   "execution_count": 41,
   "id": "f29bfb21-b649-4f7a-b6f3-c937e9b3b3cb",
   "metadata": {},
   "outputs": [
    {
     "data": {
      "text/plain": [
       "0"
      ]
     },
     "execution_count": 41,
     "metadata": {},
     "output_type": "execute_result"
    }
   ],
   "source": [
    "a//b #나머지"
   ]
  },
  {
   "cell_type": "code",
   "execution_count": 43,
   "id": "aa4a0af7-fc74-4ade-8199-5b798f33a8bc",
   "metadata": {},
   "outputs": [
    {
     "data": {
      "text/plain": [
       "10"
      ]
     },
     "execution_count": 43,
     "metadata": {},
     "output_type": "execute_result"
    }
   ],
   "source": [
    "a % b #몫"
   ]
  },
  {
   "cell_type": "markdown",
   "id": "a521b6d2-6e2e-413c-845a-e74809027e8f",
   "metadata": {},
   "source": [
    "불리언 : True, False"
   ]
  },
  {
   "cell_type": "code",
   "execution_count": 45,
   "id": "5953006a-aa1e-4928-98c9-8372b66be465",
   "metadata": {},
   "outputs": [
    {
     "data": {
      "text/plain": [
       "bool"
      ]
     },
     "execution_count": 45,
     "metadata": {},
     "output_type": "execute_result"
    }
   ],
   "source": [
    "type(True)"
   ]
  },
  {
   "cell_type": "code",
   "execution_count": 49,
   "id": "93bd1bb6-3924-4aa3-8c96-1c5cd7d27b65",
   "metadata": {},
   "outputs": [
    {
     "data": {
      "text/plain": [
       "(False, True)"
      ]
     },
     "execution_count": 49,
     "metadata": {},
     "output_type": "execute_result"
    }
   ],
   "source": [
    "10 == 1 , 10==10"
   ]
  },
  {
   "cell_type": "markdown",
   "id": "065a7526-8912-43be-8c6a-411ff0d065b9",
   "metadata": {},
   "source": [
    "> 문자열 : 문자의 집합!"
   ]
  },
  {
   "cell_type": "code",
   "execution_count": 51,
   "id": "cbf748d6-deec-4365-a399-1d8085ae12b7",
   "metadata": {},
   "outputs": [
    {
     "data": {
      "text/plain": [
       "str"
      ]
     },
     "execution_count": 51,
     "metadata": {},
     "output_type": "execute_result"
    }
   ],
   "source": [
    "a = \"안녕하세요\"\n",
    "type(a)"
   ]
  },
  {
   "cell_type": "markdown",
   "id": "a7313177-e472-4461-a6b9-86b86ce8935f",
   "metadata": {},
   "source": [
    "**docstrings**"
   ]
  },
  {
   "cell_type": "code",
   "execution_count": 54,
   "id": "d0ebec34-699d-4666-af81-3d84de1e5a3b",
   "metadata": {},
   "outputs": [
    {
     "data": {
      "text/plain": [
       "'\\n안녕하세요 \\n반갑습니다.\\n파이썬 수료했습니다.\\n'"
      ]
     },
     "execution_count": 54,
     "metadata": {},
     "output_type": "execute_result"
    }
   ],
   "source": [
    "a = \"\"\"\n",
    "안녕하세요 \n",
    "반갑습니다.\n",
    "파이썬 수료했습니다.\n",
    "\"\"\"\n",
    "a"
   ]
  },
  {
   "cell_type": "code",
   "execution_count": 53,
   "id": "0bd7606c-0f80-4cf3-8e2d-9479b5bf9099",
   "metadata": {},
   "outputs": [
    {
     "data": {
      "text/plain": [
       "str"
      ]
     },
     "execution_count": 53,
     "metadata": {},
     "output_type": "execute_result"
    }
   ],
   "source": [
    "type(a)"
   ]
  },
  {
   "cell_type": "code",
   "execution_count": 60,
   "id": "9446ac75-e6c2-479e-acc4-81eda0e87773",
   "metadata": {},
   "outputs": [
    {
     "name": "stdout",
     "output_type": "stream",
     "text": [
      "\\가\n"
     ]
    }
   ],
   "source": [
    "print(\"\\가\")"
   ]
  },
  {
   "cell_type": "code",
   "execution_count": 61,
   "id": "4fbca2b0-3205-48f4-8a5c-262aed1c45aa",
   "metadata": {},
   "outputs": [
    {
     "name": "stdout",
     "output_type": "stream",
     "text": [
      "\\\n"
     ]
    }
   ],
   "source": [
    "print(\"\\\\\")"
   ]
  },
  {
   "cell_type": "code",
   "execution_count": 66,
   "id": "0a15ab51-f607-4be1-a9ec-54c4a95b3562",
   "metadata": {},
   "outputs": [
    {
     "ename": "ValueError",
     "evalue": "invalid literal for int() with base 10: '1A'",
     "output_type": "error",
     "traceback": [
      "\u001b[1;31m---------------------------------------------------------------------------\u001b[0m",
      "\u001b[1;31mValueError\u001b[0m                                Traceback (most recent call last)",
      "\u001b[1;32m~\\AppData\\Local\\Temp/ipykernel_18184/937596168.py\u001b[0m in \u001b[0;36m<module>\u001b[1;34m\u001b[0m\n\u001b[1;32m----> 1\u001b[1;33m \u001b[0mnum\u001b[0m \u001b[1;33m=\u001b[0m \u001b[0mint\u001b[0m\u001b[1;33m(\u001b[0m\u001b[1;34m\"1A\"\u001b[0m\u001b[1;33m,\u001b[0m \u001b[1;36m10\u001b[0m\u001b[1;33m)\u001b[0m\u001b[1;33m\u001b[0m\u001b[1;33m\u001b[0m\u001b[0m\n\u001b[0m\u001b[0;32m      2\u001b[0m \u001b[0mnum\u001b[0m\u001b[1;33m\u001b[0m\u001b[1;33m\u001b[0m\u001b[0m\n",
      "\u001b[1;31mValueError\u001b[0m: invalid literal for int() with base 10: '1A'"
     ]
    }
   ],
   "source": [
    "num = int(\"1A\", 10)\n",
    "num"
   ]
  },
  {
   "cell_type": "code",
   "execution_count": 89,
   "id": "7ff72a2c-7175-4d12-b22e-0a8e59461457",
   "metadata": {},
   "outputs": [
    {
     "ename": "NameError",
     "evalue": "name 'hex_num' is not defined",
     "output_type": "error",
     "traceback": [
      "\u001b[1;31m---------------------------------------------------------------------------\u001b[0m",
      "\u001b[1;31mNameError\u001b[0m                                 Traceback (most recent call last)",
      "\u001b[1;32m~\\AppData\\Local\\Temp/ipykernel_18184/3812589201.py\u001b[0m in \u001b[0;36m<module>\u001b[1;34m\u001b[0m\n\u001b[0;32m      1\u001b[0m \u001b[0mnum\u001b[0m \u001b[1;33m=\u001b[0m \u001b[1;36m12345678\u001b[0m\u001b[1;33m\u001b[0m\u001b[1;33m\u001b[0m\u001b[0m\n\u001b[1;32m----> 2\u001b[1;33m \u001b[0mhex_num\u001b[0m\u001b[1;33m;\u001b[0m \u001b[0moct_num\u001b[0m\u001b[1;33m;\u001b[0m \u001b[0mbin_num\u001b[0m \u001b[1;33m=\u001b[0m \u001b[1;36m0\u001b[0m\u001b[1;33m\u001b[0m\u001b[1;33m\u001b[0m\u001b[0m\n\u001b[0m\u001b[0;32m      3\u001b[0m \u001b[1;32mif\u001b[0m \u001b[0mnum\u001b[0m \u001b[1;33m==\u001b[0m\u001b[1;36m10\u001b[0m\u001b[1;33m:\u001b[0m\u001b[1;33m\u001b[0m\u001b[1;33m\u001b[0m\u001b[0m\n\u001b[0;32m      4\u001b[0m     \u001b[0mnum\u001b[0m \u001b[1;33m=\u001b[0m \u001b[0mint\u001b[0m\u001b[1;33m(\u001b[0m\u001b[0mnum\u001b[0m\u001b[1;33m,\u001b[0m \u001b[1;36m10\u001b[0m\u001b[1;33m)\u001b[0m\u001b[1;33m\u001b[0m\u001b[1;33m\u001b[0m\u001b[0m\n\u001b[0;32m      5\u001b[0m \u001b[1;32mif\u001b[0m \u001b[0mnum\u001b[0m \u001b[1;33m==\u001b[0m\u001b[1;36m16\u001b[0m\u001b[1;33m:\u001b[0m\u001b[1;33m\u001b[0m\u001b[1;33m\u001b[0m\u001b[0m\n",
      "\u001b[1;31mNameError\u001b[0m: name 'hex_num' is not defined"
     ]
    }
   ],
   "source": [
    "num = 12345678\n",
    "hex_num; oct_num; bin_num = 0\n",
    "if num ==10:\n",
    "    num = int(num, 10)\n",
    "if num ==16:\n",
    "   hex_num = int(num, 16)\n",
    "if num ==8:\n",
    "    oct_num = int(num, 8)\n",
    "if num ==2:\n",
    "   bin_num =  int(num, 2)\n",
    "print(\"10진수 => \", num)\n",
    "print(\"16진수 => \", hex_num)\n",
    "print(\"8진수 => \", oct_num)\n",
    "print(\"2진수 => \", bin_num)\n"
   ]
  },
  {
   "cell_type": "markdown",
   "id": "2ec96119-89e8-4183-b12d-f89daa50a21c",
   "metadata": {},
   "source": [
    "### 내장 자료형 함수\n",
    "- int()\n",
    "- bin()\n",
    "- oct()\n",
    "- hex()\n",
    "- float()"
   ]
  },
  {
   "cell_type": "markdown",
   "id": "1a6ed97a-8ac2-4d61-be47-087cdbb250c5",
   "metadata": {},
   "source": [
    "### 문자형 자료형 함수\n",
    "- str()"
   ]
  },
  {
   "cell_type": "code",
   "execution_count": 79,
   "id": "1c4deeef-528f-4d03-80cf-00fd4c866480",
   "metadata": {},
   "outputs": [
    {
     "ename": "ValueError",
     "evalue": "invalid literal for int() with base 16: 'AAFG'",
     "output_type": "error",
     "traceback": [
      "\u001b[1;31m---------------------------------------------------------------------------\u001b[0m",
      "\u001b[1;31mValueError\u001b[0m                                Traceback (most recent call last)",
      "\u001b[1;32m~\\AppData\\Local\\Temp/ipykernel_18184/2888424438.py\u001b[0m in \u001b[0;36m<module>\u001b[1;34m\u001b[0m\n\u001b[1;32m----> 1\u001b[1;33m \u001b[0mint\u001b[0m\u001b[1;33m(\u001b[0m\u001b[1;34m'AAFG'\u001b[0m\u001b[1;33m,\u001b[0m\u001b[1;36m16\u001b[0m\u001b[1;33m)\u001b[0m\u001b[1;33m\u001b[0m\u001b[1;33m\u001b[0m\u001b[0m\n\u001b[0m",
      "\u001b[1;31mValueError\u001b[0m: invalid literal for int() with base 16: 'AAFG'"
     ]
    }
   ],
   "source": [
    "int('AAFG',16)"
   ]
  },
  {
   "cell_type": "markdown",
   "id": "d54de339-fc02-4f13-8f85-a93ba68166cd",
   "metadata": {},
   "source": [
    "# 복합대입연산자\n"
   ]
  },
  {
   "cell_type": "code",
   "execution_count": 81,
   "id": "3d368465-ca1c-44e6-9d54-26052836506c",
   "metadata": {},
   "outputs": [],
   "source": [
    "a = 10"
   ]
  },
  {
   "cell_type": "code",
   "execution_count": 82,
   "id": "862e7949-f6d4-4383-b2c8-86bf3f321b68",
   "metadata": {},
   "outputs": [
    {
     "data": {
      "text/plain": [
       "13"
      ]
     },
     "execution_count": 82,
     "metadata": {},
     "output_type": "execute_result"
    }
   ],
   "source": [
    "a = a+3\n",
    "a"
   ]
  },
  {
   "cell_type": "code",
   "execution_count": 83,
   "id": "37fca4e1-b1b5-46da-81c9-27b27520b766",
   "metadata": {},
   "outputs": [
    {
     "data": {
      "text/plain": [
       "16"
      ]
     },
     "execution_count": 83,
     "metadata": {},
     "output_type": "execute_result"
    }
   ],
   "source": [
    "a+=3\n",
    "a"
   ]
  },
  {
   "cell_type": "markdown",
   "id": "7b2ee8e8-b5ed-4b2d-bb8e-a47edcf4a7f5",
   "metadata": {},
   "source": [
    "## 96쪽 동전 교환 프로그램"
   ]
  },
  {
   "cell_type": "code",
   "execution_count": 85,
   "id": "9713b883-f41a-417b-86e3-afa38a871385",
   "metadata": {},
   "outputs": [
    {
     "name": "stdin",
     "output_type": "stream",
     "text": [
      "교환할 돈은 얼마? 12460\n"
     ]
    },
    {
     "name": "stdout",
     "output_type": "stream",
     "text": [
      "\n",
      " 500원짜리 => 24개\n",
      "\n",
      " 100원짜리 => 4개\n",
      "\n",
      " 50원짜리 => 1개\n",
      "\n",
      " 10원짜리 => 1개\n",
      "바꾸지 못한 잔돈 => 0원 \n",
      "\n"
     ]
    }
   ],
   "source": [
    "## 변수 선언 부분 ##\n",
    "money, c500, c100, c50, c10 = 0,0,0,0,0\n",
    "\n",
    "## 메인 코드 부분 ##\n",
    "money = int(input(\"교환할 돈은 얼마?\"))\n",
    "\n",
    "c500 = money // 500\n",
    "money %= 500\n",
    "\n",
    "c100 = money // 100\n",
    "money %= 100\n",
    "\n",
    "c50 = money // 50\n",
    "money %= 50\n",
    "\n",
    "c10 = money // 10\n",
    "money %= 10\n",
    "\n",
    "print(\"\\n 500원짜리 => %d개\" %c500)\n",
    "print(\"\\n 100원짜리 => %d개\" %c100)\n",
    "print(\"\\n 50원짜리 => %d개\" %c50)\n",
    "print(\"\\n 10원짜리 => %d개\" %c10)\n",
    "print(\"바꾸지 못한 잔돈 => %d원 \\n\" %money)"
   ]
  },
  {
   "cell_type": "markdown",
   "id": "a9282de0-3e72-44cb-88f5-bc2f5b4b0c68",
   "metadata": {},
   "source": [
    "> self study 4-1"
   ]
  },
  {
   "cell_type": "code",
   "execution_count": 86,
   "id": "cc07d49d-61b0-40ac-bb61-3c899548c793",
   "metadata": {},
   "outputs": [
    {
     "name": "stdin",
     "output_type": "stream",
     "text": [
      "지폐로 교환할 돈은 얼마?  777777\n"
     ]
    },
    {
     "name": "stdout",
     "output_type": "stream",
     "text": [
      "\n",
      " 50000원짜리 => 15장\n",
      "\n",
      " 10000원짜리 => 2장\n",
      "\n",
      " 5000원짜리 => 1장\n",
      "\n",
      " 1000원짜리 => 2장\n",
      "지폐로 바꾸지 못한 돈 => 777원 \n",
      "\n"
     ]
    }
   ],
   "source": [
    "## 변수 선언 부분 ##\n",
    "money, c50000, c10000, c5000, c1000 = 0,0,0,0,0\n",
    "\n",
    "## 메인 코드 부분 ##\n",
    "money = int(input(\"지폐로 교환할 돈은 얼마? \"))\n",
    "\n",
    "c50000 = money // 50000\n",
    "money %= 50000\n",
    "\n",
    "c10000 = money // 10000\n",
    "money %= 10000\n",
    "\n",
    "c5000 = money // 5000\n",
    "money %= 5000\n",
    "\n",
    "c1000 = money // 1000\n",
    "money %= 1000\n",
    "\n",
    "print(\"\\n 50000원짜리 => %d장\" %c50000)\n",
    "print(\"\\n 10000원짜리 => %d장\" %c10000)\n",
    "print(\"\\n 5000원짜리 => %d장\" %c5000)\n",
    "print(\"\\n 1000원짜리 => %d장\" %c1000)\n",
    "print(\"지폐로 바꾸지 못한 돈 => %d원 \\n\" %money)"
   ]
  },
  {
   "cell_type": "code",
   "execution_count": 91,
   "id": "3904811b-a496-4eae-8f7f-69f5f10b3901",
   "metadata": {},
   "outputs": [],
   "source": [
    "a = 99"
   ]
  },
  {
   "cell_type": "code",
   "execution_count": 92,
   "id": "8bb1e24a-1d42-41f6-b6e6-43c4871a3caa",
   "metadata": {},
   "outputs": [
    {
     "data": {
      "text/plain": [
       "False"
      ]
     },
     "execution_count": 92,
     "metadata": {},
     "output_type": "execute_result"
    }
   ],
   "source": [
    "# 논리곱\n",
    "a > 100"
   ]
  },
  {
   "cell_type": "code",
   "execution_count": 93,
   "id": "767bd389-f023-4f77-81e0-78d7ba00232e",
   "metadata": {},
   "outputs": [
    {
     "data": {
      "text/plain": [
       "False"
      ]
     },
     "execution_count": 93,
     "metadata": {},
     "output_type": "execute_result"
    }
   ],
   "source": [
    "# a가 100보다 크고 200보다 작은거!!\n",
    "(a > 100) and (a<200)"
   ]
  },
  {
   "cell_type": "markdown",
   "id": "0002d840-8b10-4be4-a20b-fdc1beb036ac",
   "metadata": {},
   "source": [
    "# 비트 연산자"
   ]
  },
  {
   "cell_type": "code",
   "execution_count": 94,
   "id": "0e5c9420-a9e3-4aa8-b71f-fce7bb4248f2",
   "metadata": {},
   "outputs": [],
   "source": [
    "# 비트 논리연산"
   ]
  },
  {
   "cell_type": "code",
   "execution_count": 95,
   "id": "59bacec5-f411-4e9d-8260-dc7db3fde183",
   "metadata": {},
   "outputs": [
    {
     "data": {
      "text/plain": [
       "2"
      ]
     },
     "execution_count": 95,
     "metadata": {},
     "output_type": "execute_result"
    }
   ],
   "source": [
    "10 & 7"
   ]
  },
  {
   "cell_type": "code",
   "execution_count": 97,
   "id": "760718bb-db9e-4c31-af64-3eae5579cd9b",
   "metadata": {},
   "outputs": [
    {
     "data": {
      "text/plain": [
       "('0b1111011', '0b111001000')"
      ]
     },
     "execution_count": 97,
     "metadata": {},
     "output_type": "execute_result"
    }
   ],
   "source": [
    "bin(123), bin(456)"
   ]
  },
  {
   "cell_type": "code",
   "execution_count": 98,
   "id": "05c0d2d1-e73e-4ade-95c6-5630b12f98ec",
   "metadata": {},
   "outputs": [
    {
     "data": {
      "text/plain": [
       "'0b1001000'"
      ]
     },
     "execution_count": 98,
     "metadata": {},
     "output_type": "execute_result"
    }
   ],
   "source": [
    "bin(123 & 456)"
   ]
  },
  {
   "cell_type": "code",
   "execution_count": 100,
   "id": "9b2935ed-80b3-4c51-a833-891d8def5753",
   "metadata": {},
   "outputs": [
    {
     "data": {
      "text/plain": [
       "-3"
      ]
     },
     "execution_count": 100,
     "metadata": {},
     "output_type": "execute_result"
    }
   ],
   "source": [
    "~2"
   ]
  },
  {
   "cell_type": "code",
   "execution_count": 101,
   "id": "435c73d0-c323-4ca3-884d-3d046963c839",
   "metadata": {},
   "outputs": [
    {
     "data": {
      "text/plain": [
       "('0b1010', '0b111')"
      ]
     },
     "execution_count": 101,
     "metadata": {},
     "output_type": "execute_result"
    }
   ],
   "source": [
    "bin(10), bin(7)"
   ]
  },
  {
   "cell_type": "code",
   "execution_count": 102,
   "id": "fc4ff880-da5f-4547-93a3-772bccf0efa7",
   "metadata": {},
   "outputs": [
    {
     "data": {
      "text/plain": [
       "15"
      ]
     },
     "execution_count": 102,
     "metadata": {},
     "output_type": "execute_result"
    }
   ],
   "source": [
    "10 | 7"
   ]
  },
  {
   "cell_type": "code",
   "execution_count": 103,
   "id": "0ea4602b-e359-4fac-944e-fda5dadfe4a8",
   "metadata": {},
   "outputs": [
    {
     "data": {
      "text/plain": [
       "'0b1111'"
      ]
     },
     "execution_count": 103,
     "metadata": {},
     "output_type": "execute_result"
    }
   ],
   "source": [
    "bin(10 | 7)"
   ]
  },
  {
   "cell_type": "markdown",
   "id": "1adc1efe-519f-4eaa-a878-4ff974ae0c1d",
   "metadata": {},
   "source": [
    "Masking 기법 : 비트 기반 연산 !!\n",
    "\n",
    "```\n",
    "00010 & 11000\n",
    "```"
   ]
  },
  {
   "cell_type": "code",
   "execution_count": 104,
   "id": "714759c0-97ab-4a15-82d6-f49be7296b91",
   "metadata": {},
   "outputs": [
    {
     "data": {
      "text/plain": [
       "'0b1010'"
      ]
     },
     "execution_count": 104,
     "metadata": {},
     "output_type": "execute_result"
    }
   ],
   "source": [
    "a = 10; bin(a)"
   ]
  },
  {
   "cell_type": "code",
   "execution_count": 105,
   "id": "f4ce7bb9-cb98-4a4d-875b-7da7bc541010",
   "metadata": {},
   "outputs": [
    {
     "data": {
      "text/plain": [
       "20"
      ]
     },
     "execution_count": 105,
     "metadata": {},
     "output_type": "execute_result"
    }
   ],
   "source": [
    "a << 1 #1칸"
   ]
  },
  {
   "cell_type": "code",
   "execution_count": 106,
   "id": "cddd37e1-fe95-44bf-be97-298a2bbf847a",
   "metadata": {},
   "outputs": [
    {
     "data": {
      "text/plain": [
       "'0b10100'"
      ]
     },
     "execution_count": 106,
     "metadata": {},
     "output_type": "execute_result"
    }
   ],
   "source": [
    "bin(a<<1)"
   ]
  },
  {
   "cell_type": "code",
   "execution_count": 109,
   "id": "d86c9afc-5465-4413-9f5e-a2e0bc83d357",
   "metadata": {},
   "outputs": [
    {
     "ename": "SyntaxError",
     "evalue": "invalid syntax (Temp/ipykernel_18184/2965941435.py, line 5)",
     "output_type": "error",
     "traceback": [
      "\u001b[1;36m  File \u001b[1;32m\"C:\\Users\\LG\\AppData\\Local\\Temp/ipykernel_18184/2965941435.py\"\u001b[1;36m, line \u001b[1;32m5\u001b[0m\n\u001b[1;33m    if __name__ = \"__main__\" :\u001b[0m\n\u001b[1;37m                ^\u001b[0m\n\u001b[1;31mSyntaxError\u001b[0m\u001b[1;31m:\u001b[0m invalid syntax\n"
     ]
    }
   ],
   "source": [
    "## 전역 변수 부분 ##\n",
    "year = 0\n",
    "\n",
    "## 메인 코드 부분 ##\n",
    "if __name__ = \"__main__\" :\n",
    "    year = int(input(\"연도를 입력하세요 : \"))\n",
    "    \n",
    "    if((year %4 ==0) and (year %100 !=0)) or (year %400 ==0):\n",
    "        print(\"%d년은 윤년입니다.\" %year);\n",
    "    else:\n",
    "        print(\"%d년은 윤년이 아닙니다.\"%year);"
   ]
  },
  {
   "cell_type": "code",
   "execution_count": null,
   "id": "f3feccf5-e955-4c2e-b638-a5f36a225a01",
   "metadata": {},
   "outputs": [],
   "source": []
  }
 ],
 "metadata": {
  "kernelspec": {
   "display_name": "Python 3 (ipykernel)",
   "language": "python",
   "name": "python3"
  },
  "language_info": {
   "codemirror_mode": {
    "name": "ipython",
    "version": 3
   },
   "file_extension": ".py",
   "mimetype": "text/x-python",
   "name": "python",
   "nbconvert_exporter": "python",
   "pygments_lexer": "ipython3",
   "version": "3.9.7"
  }
 },
 "nbformat": 4,
 "nbformat_minor": 5
}
