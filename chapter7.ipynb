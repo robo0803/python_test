{
 "cells": [
  {
   "cell_type": "markdown",
   "id": "18ce201e-1637-4926-8236-47d9329bf6d7",
   "metadata": {},
   "source": [
    "# 리스트!!"
   ]
  },
  {
   "cell_type": "code",
   "execution_count": 3,
   "id": "43579795-b4d8-449d-8254-a50379e83795",
   "metadata": {},
   "outputs": [],
   "source": [
    "a = ['1', 1, 1000, '파','이','썬']"
   ]
  },
  {
   "cell_type": "code",
   "execution_count": 4,
   "id": "ec7d6769-bea2-4de2-9eab-6d21e805b417",
   "metadata": {},
   "outputs": [
    {
     "name": "stdout",
     "output_type": "stream",
     "text": [
      "1\n",
      "1\n",
      "1000\n",
      "파\n",
      "이\n",
      "썬\n"
     ]
    }
   ],
   "source": [
    "for i in a :\n",
    "    print(i)"
   ]
  },
  {
   "cell_type": "code",
   "execution_count": 5,
   "id": "5ce3ef25-ea69-4fdf-bbc9-541f5bb11f0b",
   "metadata": {},
   "outputs": [],
   "source": [
    "b = [a, 1, 3, 5, 7, 9]"
   ]
  },
  {
   "cell_type": "code",
   "execution_count": 6,
   "id": "dfa86c2d-13fe-4c12-ba81-66b3a2b17a4d",
   "metadata": {},
   "outputs": [
    {
     "data": {
      "text/plain": [
       "[['1', 1, 1000, '파', '이', '썬'], 1, 3, 5, 7, 9]"
      ]
     },
     "execution_count": 6,
     "metadata": {},
     "output_type": "execute_result"
    }
   ],
   "source": [
    "b"
   ]
  },
  {
   "cell_type": "code",
   "execution_count": 7,
   "id": "18cdd737-aca1-4079-94d1-3c19fa0818ab",
   "metadata": {},
   "outputs": [
    {
     "data": {
      "text/plain": [
       "['1', 1, 1000, '파', '이', '썬']"
      ]
     },
     "execution_count": 7,
     "metadata": {},
     "output_type": "execute_result"
    }
   ],
   "source": [
    "a"
   ]
  },
  {
   "cell_type": "code",
   "execution_count": 8,
   "id": "609bf573-ae64-4352-8bcd-dcfc60aa39e8",
   "metadata": {},
   "outputs": [
    {
     "name": "stdout",
     "output_type": "stream",
     "text": [
      "1\n",
      "1\n",
      "1000\n",
      "파\n",
      "이\n",
      "썬\n"
     ]
    }
   ],
   "source": [
    "for i in range(0, len(a)):\n",
    "    print(a[i])"
   ]
  },
  {
   "cell_type": "code",
   "execution_count": 9,
   "id": "f9f0a8a3-b4b3-423e-9e59-edc445919b7c",
   "metadata": {},
   "outputs": [
    {
     "name": "stdin",
     "output_type": "stream",
     "text": [
      "1번째 숫자 :  10\n",
      "2번째 숫자 :  20\n",
      "3번째 숫자 :  30\n",
      "4번째 숫자 :  40\n"
     ]
    },
    {
     "name": "stdout",
     "output_type": "stream",
     "text": [
      "합계 => 100\n"
     ]
    }
   ],
   "source": [
    "aa = []\n",
    "\n",
    "for i in range(0, 4):\n",
    "    aa.append(0)\n",
    "hap = 0\n",
    "\n",
    "for i in range(0, 4):\n",
    "    aa[i] = int(input(str(i+1) + \"번째 숫자 : \" ))\n",
    "    \n",
    "hap = aa[0] + aa[1] + aa[2] + aa[3]\n",
    "\n",
    "print(\"합계 => %d\" %hap)"
   ]
  },
  {
   "cell_type": "code",
   "execution_count": 13,
   "id": "8b03fd83-f1ad-489f-88ac-b7ad26ad1b44",
   "metadata": {},
   "outputs": [
    {
     "name": "stdin",
     "output_type": "stream",
     "text": [
      "1번째 숫자 :  10\n",
      "2번째 숫자 :  20\n",
      "3번째 숫자 :  30\n",
      "4번째 숫자 :  40\n"
     ]
    },
    {
     "name": "stdout",
     "output_type": "stream",
     "text": [
      "합계 => 100\n"
     ]
    }
   ],
   "source": [
    "# hap 부분 for문으로 변경 \n",
    "\n",
    "aa = []\n",
    "\n",
    "for i in range(0, 4):\n",
    "    aa.append(0)\n",
    "hap = 0\n",
    "\n",
    "for i in range(0, 4):\n",
    "    aa[i] = int(input(str(i+1) + \"번째 숫자 : \" ))\n",
    "    \n",
    "for i in range(0, len(aa)):\n",
    "    hap = hap + aa[i]\n",
    "\n",
    "\n",
    "print(\"합계 => %d\" %hap)"
   ]
  },
  {
   "cell_type": "markdown",
   "id": "dcfb173d-0964-470b-9687-81ebe8ff2319",
   "metadata": {},
   "source": [
    "p.192쪽 실습\n",
    "- 역순으로 된 인덱스!"
   ]
  },
  {
   "cell_type": "code",
   "execution_count": 15,
   "id": "4a7685d0-2af6-4aaf-ba30-bce801a2b263",
   "metadata": {},
   "outputs": [
    {
     "name": "stdout",
     "output_type": "stream",
     "text": [
      "bb[0]에는 198이, bb[99]에는 0이 입력됩니다. \n"
     ]
    }
   ],
   "source": [
    "aa = []\n",
    "bb = []\n",
    "value = 0\n",
    "\n",
    "for i in range(0, 100):\n",
    "    aa.append(value)\n",
    "    value+=2\n",
    "    \n",
    "for i in range(0, 100):\n",
    "    bb.append(aa[99-i])\n",
    "    \n",
    "print(\"bb[0]에는 %d이, bb[99]에는 %d이 입력됩니다. \" %(bb[0], bb[99]))"
   ]
  },
  {
   "cell_type": "code",
   "execution_count": 16,
   "id": "8c699c43-2130-4ce2-b695-77dc711e5d8b",
   "metadata": {},
   "outputs": [
    {
     "data": {
      "text/plain": [
       "[10, 20, 30, 40]"
      ]
     },
     "execution_count": 16,
     "metadata": {},
     "output_type": "execute_result"
    }
   ],
   "source": [
    "aa = [10,20,30,40]\n",
    "aa"
   ]
  },
  {
   "cell_type": "code",
   "execution_count": 17,
   "id": "f5f29a1f-6987-4b2b-a135-cfcc408c5602",
   "metadata": {},
   "outputs": [
    {
     "data": {
      "text/plain": [
       "(40, 30)"
      ]
     },
     "execution_count": 17,
     "metadata": {},
     "output_type": "execute_result"
    }
   ],
   "source": [
    "aa[-1], aa[-2]"
   ]
  },
  {
   "cell_type": "code",
   "execution_count": null,
   "id": "ba980e6c-3160-4fd8-9d80-fc403e41c12f",
   "metadata": {},
   "outputs": [],
   "source": [
    "# 인덱스 범위 'start:stop'\n",
    "aa[0:1] # 끝은 stop-1"
   ]
  },
  {
   "cell_type": "markdown",
   "id": "bf88ec49-feac-4a80-a822-51ce485866f1",
   "metadata": {},
   "source": [
    "# in, not in"
   ]
  },
  {
   "cell_type": "code",
   "execution_count": 19,
   "id": "80c655b1-477d-4bab-9109-209025e7031e",
   "metadata": {},
   "outputs": [
    {
     "data": {
      "text/plain": [
       "False"
      ]
     },
     "execution_count": 19,
     "metadata": {},
     "output_type": "execute_result"
    }
   ],
   "source": [
    "11 in aa"
   ]
  },
  {
   "cell_type": "markdown",
   "id": "825b53cd-f8f6-41bb-8488-da4c3e05476a",
   "metadata": {},
   "source": [
    "# broadcasting"
   ]
  },
  {
   "cell_type": "code",
   "execution_count": 20,
   "id": "82a9373e-ee9d-467f-a3ee-6d1d52b2da0c",
   "metadata": {},
   "outputs": [
    {
     "data": {
      "text/plain": [
       "([10, 20, 30, 40], [50, 60, 70, 80])"
      ]
     },
     "execution_count": 20,
     "metadata": {},
     "output_type": "execute_result"
    }
   ],
   "source": [
    "a= [10,20,30,40]\n",
    "b= [50,60,70,80]\n",
    "a,b"
   ]
  },
  {
   "cell_type": "code",
   "execution_count": 21,
   "id": "a4767a86-aea4-4bbd-9a0b-f285f38cde1c",
   "metadata": {},
   "outputs": [
    {
     "ename": "TypeError",
     "evalue": "can only concatenate list (not \"int\") to list",
     "output_type": "error",
     "traceback": [
      "\u001b[1;31m---------------------------------------------------------------------------\u001b[0m",
      "\u001b[1;31mTypeError\u001b[0m                                 Traceback (most recent call last)",
      "\u001b[1;32m~\\AppData\\Local\\Temp/ipykernel_23828/3408826377.py\u001b[0m in \u001b[0;36m<module>\u001b[1;34m\u001b[0m\n\u001b[1;32m----> 1\u001b[1;33m \u001b[0mprint\u001b[0m\u001b[1;33m(\u001b[0m\u001b[0ma\u001b[0m\u001b[1;33m+\u001b[0m\u001b[1;36m2\u001b[0m\u001b[1;33m)\u001b[0m\u001b[1;33m\u001b[0m\u001b[1;33m\u001b[0m\u001b[0m\n\u001b[0m",
      "\u001b[1;31mTypeError\u001b[0m: can only concatenate list (not \"int\") to list"
     ]
    }
   ],
   "source": [
    "print(a+2)"
   ]
  },
  {
   "cell_type": "code",
   "execution_count": 22,
   "id": "4e9a5c40-6bf1-41b1-9339-4ee49467c024",
   "metadata": {},
   "outputs": [
    {
     "name": "stdout",
     "output_type": "stream",
     "text": [
      "[10, 20, 30, 40, 10, 20, 30, 40]\n"
     ]
    }
   ],
   "source": [
    "print(a*2)"
   ]
  },
  {
   "cell_type": "code",
   "execution_count": 23,
   "id": "d0e71f54-43ed-4e02-afb4-89607aed3da1",
   "metadata": {},
   "outputs": [
    {
     "data": {
      "text/plain": [
       "[10, 20, 30, 40, 50, 60, 70, 80]"
      ]
     },
     "execution_count": 23,
     "metadata": {},
     "output_type": "execute_result"
    }
   ],
   "source": [
    "a+b"
   ]
  },
  {
   "cell_type": "code",
   "execution_count": 24,
   "id": "59ed28d5-d8b6-4f1b-a575-0b389bbfb917",
   "metadata": {},
   "outputs": [
    {
     "ename": "TypeError",
     "evalue": "can't multiply sequence by non-int of type 'list'",
     "output_type": "error",
     "traceback": [
      "\u001b[1;31m---------------------------------------------------------------------------\u001b[0m",
      "\u001b[1;31mTypeError\u001b[0m                                 Traceback (most recent call last)",
      "\u001b[1;32m~\\AppData\\Local\\Temp/ipykernel_23828/3507077656.py\u001b[0m in \u001b[0;36m<module>\u001b[1;34m\u001b[0m\n\u001b[1;32m----> 1\u001b[1;33m \u001b[0ma\u001b[0m\u001b[1;33m*\u001b[0m\u001b[0mb\u001b[0m\u001b[1;33m\u001b[0m\u001b[1;33m\u001b[0m\u001b[0m\n\u001b[0m",
      "\u001b[1;31mTypeError\u001b[0m: can't multiply sequence by non-int of type 'list'"
     ]
    }
   ],
   "source": [
    "a*b"
   ]
  },
  {
   "cell_type": "markdown",
   "id": "c181103b-9667-4678-8fbd-de498071f9a2",
   "metadata": {},
   "source": [
    "# step"
   ]
  },
  {
   "cell_type": "code",
   "execution_count": 26,
   "id": "fc332f1d-4f37-4bba-a6d6-8863692938f0",
   "metadata": {},
   "outputs": [
    {
     "data": {
      "text/plain": [
       "[10, 30, 50, 70]"
      ]
     },
     "execution_count": 26,
     "metadata": {},
     "output_type": "execute_result"
    }
   ],
   "source": [
    "a = [10, 20, 30, 40, 50, 60, 70, 80]\n",
    "a[::2]"
   ]
  },
  {
   "cell_type": "code",
   "execution_count": 27,
   "id": "5a45d8e1-a979-4ecc-a396-d8d8e24f8fc4",
   "metadata": {},
   "outputs": [
    {
     "data": {
      "text/plain": [
       "[80, 60, 40, 20]"
      ]
     },
     "execution_count": 27,
     "metadata": {},
     "output_type": "execute_result"
    }
   ],
   "source": [
    "a[::-2]"
   ]
  },
  {
   "cell_type": "markdown",
   "id": "c9021d19-e1c1-4217-bd40-79f76a76c142",
   "metadata": {},
   "source": [
    "값의 변경\n",
    "- 불변형 자료 : string, tuple\n",
    "- 가변형 자료: list, dict"
   ]
  },
  {
   "cell_type": "markdown",
   "id": "2402020c-e931-4c77-b2da-6ea3d0de24da",
   "metadata": {},
   "source": [
    "# list() 함수"
   ]
  },
  {
   "cell_type": "code",
   "execution_count": 29,
   "id": "e9a3f6d0-47a6-42d4-8e4f-e2cac0b95d60",
   "metadata": {},
   "outputs": [
    {
     "name": "stdout",
     "output_type": "stream",
     "text": [
      "1\n",
      "2\n",
      "3\n",
      "4\n",
      "5\n",
      "6\n",
      "7\n",
      "8\n",
      "9\n"
     ]
    }
   ],
   "source": [
    "for i in range(1,10):\n",
    "    print(i)"
   ]
  },
  {
   "cell_type": "code",
   "execution_count": 30,
   "id": "b8738e59-6b57-43e3-ac67-8fdf93aa580d",
   "metadata": {},
   "outputs": [
    {
     "data": {
      "text/plain": [
       "[1, 2, 3, 4, 5]"
      ]
     },
     "execution_count": 30,
     "metadata": {},
     "output_type": "execute_result"
    }
   ],
   "source": [
    "nums = list(range(1,10))\n",
    "nums[:5]"
   ]
  },
  {
   "cell_type": "code",
   "execution_count": 31,
   "id": "02f9d55d-8735-4512-95d1-c5e0e09ec8d9",
   "metadata": {},
   "outputs": [
    {
     "data": {
      "text/plain": [
       "\u001b[1;31mInit signature:\u001b[0m \u001b[0mlist\u001b[0m\u001b[1;33m(\u001b[0m\u001b[0miterable\u001b[0m\u001b[1;33m=\u001b[0m\u001b[1;33m(\u001b[0m\u001b[1;33m)\u001b[0m\u001b[1;33m,\u001b[0m \u001b[1;33m/\u001b[0m\u001b[1;33m)\u001b[0m\u001b[1;33m\u001b[0m\u001b[1;33m\u001b[0m\u001b[0m\n",
       "\u001b[1;31mDocstring:\u001b[0m     \n",
       "Built-in mutable sequence.\n",
       "\n",
       "If no argument is given, the constructor creates a new empty list.\n",
       "The argument must be an iterable if specified.\n",
       "\u001b[1;31mType:\u001b[0m           type\n",
       "\u001b[1;31mSubclasses:\u001b[0m     _HashedSeq, StackSummary, DeferredConfigList, SList, _ImmutableLineList, FormattedText, NodeList, _ExplodedList, Stack, _Accumulator, ...\n"
      ]
     },
     "metadata": {},
     "output_type": "display_data"
    }
   ],
   "source": [
    "list?"
   ]
  },
  {
   "cell_type": "markdown",
   "id": "bdcea133-6b0c-4f46-a585-c25eb1aa4679",
   "metadata": {},
   "source": [
    "## 리스트 값의 변경"
   ]
  },
  {
   "cell_type": "code",
   "execution_count": 32,
   "id": "f080c68f-3182-46ce-b3ab-daa02dcc19b2",
   "metadata": {},
   "outputs": [
    {
     "name": "stdout",
     "output_type": "stream",
     "text": [
      "[1, 2, 3, 4, 5, 6, 7, 8, 9]\n"
     ]
    }
   ],
   "source": [
    "a = list(range(1,10))\n",
    "print(a)"
   ]
  },
  {
   "cell_type": "code",
   "execution_count": 35,
   "id": "cc5e68ff-d9b2-4cf0-89f1-f1f5c48ec5e4",
   "metadata": {},
   "outputs": [
    {
     "name": "stdout",
     "output_type": "stream",
     "text": [
      "[1, 2, 300, 4, 5, 6, 7, 8, 9]\n"
     ]
    }
   ],
   "source": [
    "a[2] = 300\n",
    "print(a)"
   ]
  },
  {
   "cell_type": "code",
   "execution_count": 38,
   "id": "451b8ee6-1ea0-4781-b9b5-ad314a52ea8c",
   "metadata": {},
   "outputs": [
    {
     "name": "stdout",
     "output_type": "stream",
     "text": [
      "[1, 200, 201, 201, 300, 4, 5, 6, 7, 8, 9]\n"
     ]
    }
   ],
   "source": [
    "a[1:2] = [200,201] # 201이 추가가 된 것! 전체 갯수가 늘어남\n",
    "print(a)"
   ]
  },
  {
   "cell_type": "code",
   "execution_count": 42,
   "id": "b019f86c-fd41-4206-9306-fda1ea2afb15",
   "metadata": {},
   "outputs": [
    {
     "data": {
      "text/plain": [
       "[-200, 8, 9]"
      ]
     },
     "execution_count": 42,
     "metadata": {},
     "output_type": "execute_result"
    }
   ],
   "source": [
    "a[1:4]"
   ]
  },
  {
   "cell_type": "code",
   "execution_count": 44,
   "id": "a0067145-811c-4318-b01e-145694c566b8",
   "metadata": {},
   "outputs": [
    {
     "name": "stdout",
     "output_type": "stream",
     "text": [
      "[-100, -200, [200, 201], 9]\n"
     ]
    }
   ],
   "source": [
    "a[2] = [200,201]\n",
    "print(a)"
   ]
  },
  {
   "cell_type": "code",
   "execution_count": 45,
   "id": "a5d9e831-5706-4f7a-8430-b6b3a42e846d",
   "metadata": {},
   "outputs": [
    {
     "name": "stdout",
     "output_type": "stream",
     "text": [
      "[-100, -200, [200, 201]]\n"
     ]
    }
   ],
   "source": [
    "del(a[3])\n",
    "print(a)"
   ]
  },
  {
   "cell_type": "code",
   "execution_count": 46,
   "id": "3fa6c7e0-edfd-4a2a-8bec-5539b77e08e0",
   "metadata": {},
   "outputs": [
    {
     "name": "stdout",
     "output_type": "stream",
     "text": [
      "[[], -200, [200, 201]]\n"
     ]
    }
   ],
   "source": [
    "a[0] = []\n",
    "print(a)"
   ]
  },
  {
   "cell_type": "markdown",
   "id": "43aa335e-5d38-4788-aee1-b5f20cec85bf",
   "metadata": {},
   "source": [
    "## 집계 함수\n",
    "- sum(), mean(), max(), min()\n",
    "- len()"
   ]
  },
  {
   "cell_type": "code",
   "execution_count": 49,
   "id": "91605e9c-db85-43bd-9c9e-4f0ab780f3f5",
   "metadata": {},
   "outputs": [],
   "source": [
    "a = [-100, -5, 9, 999, 777, -678]"
   ]
  },
  {
   "cell_type": "code",
   "execution_count": 50,
   "id": "dd746d42-608c-4d99-a364-d49902a42809",
   "metadata": {},
   "outputs": [
    {
     "name": "stdout",
     "output_type": "stream",
     "text": [
      "1002\n"
     ]
    }
   ],
   "source": [
    "# for 써서 합계!\n",
    "\n",
    "sum = 0\n",
    "for i in a:\n",
    "    sum+=i\n",
    "print(sum)"
   ]
  },
  {
   "cell_type": "code",
   "execution_count": 52,
   "id": "40942e9e-0404-481d-b8d0-c17157705338",
   "metadata": {},
   "outputs": [
    {
     "data": {
      "text/plain": [
       "list"
      ]
     },
     "execution_count": 52,
     "metadata": {},
     "output_type": "execute_result"
    }
   ],
   "source": [
    "type(a)"
   ]
  },
  {
   "cell_type": "code",
   "execution_count": 51,
   "id": "8229ea48-c299-4fd9-9492-f6e79f33649e",
   "metadata": {},
   "outputs": [
    {
     "name": "stdout",
     "output_type": "stream",
     "text": [
      "Help on list object:\n",
      "\n",
      "class list(object)\n",
      " |  list(iterable=(), /)\n",
      " |  \n",
      " |  Built-in mutable sequence.\n",
      " |  \n",
      " |  If no argument is given, the constructor creates a new empty list.\n",
      " |  The argument must be an iterable if specified.\n",
      " |  \n",
      " |  Methods defined here:\n",
      " |  \n",
      " |  __add__(self, value, /)\n",
      " |      Return self+value.\n",
      " |  \n",
      " |  __contains__(self, key, /)\n",
      " |      Return key in self.\n",
      " |  \n",
      " |  __delitem__(self, key, /)\n",
      " |      Delete self[key].\n",
      " |  \n",
      " |  __eq__(self, value, /)\n",
      " |      Return self==value.\n",
      " |  \n",
      " |  __ge__(self, value, /)\n",
      " |      Return self>=value.\n",
      " |  \n",
      " |  __getattribute__(self, name, /)\n",
      " |      Return getattr(self, name).\n",
      " |  \n",
      " |  __getitem__(...)\n",
      " |      x.__getitem__(y) <==> x[y]\n",
      " |  \n",
      " |  __gt__(self, value, /)\n",
      " |      Return self>value.\n",
      " |  \n",
      " |  __iadd__(self, value, /)\n",
      " |      Implement self+=value.\n",
      " |  \n",
      " |  __imul__(self, value, /)\n",
      " |      Implement self*=value.\n",
      " |  \n",
      " |  __init__(self, /, *args, **kwargs)\n",
      " |      Initialize self.  See help(type(self)) for accurate signature.\n",
      " |  \n",
      " |  __iter__(self, /)\n",
      " |      Implement iter(self).\n",
      " |  \n",
      " |  __le__(self, value, /)\n",
      " |      Return self<=value.\n",
      " |  \n",
      " |  __len__(self, /)\n",
      " |      Return len(self).\n",
      " |  \n",
      " |  __lt__(self, value, /)\n",
      " |      Return self<value.\n",
      " |  \n",
      " |  __mul__(self, value, /)\n",
      " |      Return self*value.\n",
      " |  \n",
      " |  __ne__(self, value, /)\n",
      " |      Return self!=value.\n",
      " |  \n",
      " |  __repr__(self, /)\n",
      " |      Return repr(self).\n",
      " |  \n",
      " |  __reversed__(self, /)\n",
      " |      Return a reverse iterator over the list.\n",
      " |  \n",
      " |  __rmul__(self, value, /)\n",
      " |      Return value*self.\n",
      " |  \n",
      " |  __setitem__(self, key, value, /)\n",
      " |      Set self[key] to value.\n",
      " |  \n",
      " |  __sizeof__(self, /)\n",
      " |      Return the size of the list in memory, in bytes.\n",
      " |  \n",
      " |  append(self, object, /)\n",
      " |      Append object to the end of the list.\n",
      " |  \n",
      " |  clear(self, /)\n",
      " |      Remove all items from list.\n",
      " |  \n",
      " |  copy(self, /)\n",
      " |      Return a shallow copy of the list.\n",
      " |  \n",
      " |  count(self, value, /)\n",
      " |      Return number of occurrences of value.\n",
      " |  \n",
      " |  extend(self, iterable, /)\n",
      " |      Extend list by appending elements from the iterable.\n",
      " |  \n",
      " |  index(self, value, start=0, stop=9223372036854775807, /)\n",
      " |      Return first index of value.\n",
      " |      \n",
      " |      Raises ValueError if the value is not present.\n",
      " |  \n",
      " |  insert(self, index, object, /)\n",
      " |      Insert object before index.\n",
      " |  \n",
      " |  pop(self, index=-1, /)\n",
      " |      Remove and return item at index (default last).\n",
      " |      \n",
      " |      Raises IndexError if list is empty or index is out of range.\n",
      " |  \n",
      " |  remove(self, value, /)\n",
      " |      Remove first occurrence of value.\n",
      " |      \n",
      " |      Raises ValueError if the value is not present.\n",
      " |  \n",
      " |  reverse(self, /)\n",
      " |      Reverse *IN PLACE*.\n",
      " |  \n",
      " |  sort(self, /, *, key=None, reverse=False)\n",
      " |      Sort the list in ascending order and return None.\n",
      " |      \n",
      " |      The sort is in-place (i.e. the list itself is modified) and stable (i.e. the\n",
      " |      order of two equal elements is maintained).\n",
      " |      \n",
      " |      If a key function is given, apply it once to each list item and sort them,\n",
      " |      ascending or descending, according to their function values.\n",
      " |      \n",
      " |      The reverse flag can be set to sort in descending order.\n",
      " |  \n",
      " |  ----------------------------------------------------------------------\n",
      " |  Class methods defined here:\n",
      " |  \n",
      " |  __class_getitem__(...) from builtins.type\n",
      " |      See PEP 585\n",
      " |  \n",
      " |  ----------------------------------------------------------------------\n",
      " |  Static methods defined here:\n",
      " |  \n",
      " |  __new__(*args, **kwargs) from builtins.type\n",
      " |      Create and return a new object.  See help(type) for accurate signature.\n",
      " |  \n",
      " |  ----------------------------------------------------------------------\n",
      " |  Data and other attributes defined here:\n",
      " |  \n",
      " |  __hash__ = None\n",
      "\n"
     ]
    }
   ],
   "source": [
    "help(a)"
   ]
  },
  {
   "cell_type": "markdown",
   "id": "d6e9964b-7535-4a54-a980-2a30ea20ace4",
   "metadata": {},
   "source": [
    "# p.197 실습 : List 내장함수"
   ]
  },
  {
   "cell_type": "code",
   "execution_count": 53,
   "id": "c9206108-bc8c-44a3-988c-287cccc98456",
   "metadata": {},
   "outputs": [],
   "source": [
    "myList = [30, 10, 20]\n",
    "\n",
    "\n",
    "\n"
   ]
  },
  {
   "cell_type": "code",
   "execution_count": 54,
   "id": "fcd10fba-5bbe-4c9e-9491-acb0afece765",
   "metadata": {},
   "outputs": [
    {
     "data": {
      "text/plain": [
       "[30, 10, 20, 40]"
      ]
     },
     "execution_count": 54,
     "metadata": {},
     "output_type": "execute_result"
    }
   ],
   "source": [
    "myList.append(40)\n",
    "myList"
   ]
  },
  {
   "cell_type": "code",
   "execution_count": 55,
   "id": "955696d8-f72f-4c2c-abbd-c89aff6777cc",
   "metadata": {},
   "outputs": [
    {
     "data": {
      "text/plain": [
       "[30, 10, 20]"
      ]
     },
     "execution_count": 55,
     "metadata": {},
     "output_type": "execute_result"
    }
   ],
   "source": [
    "myList.pop()\n",
    "myList"
   ]
  },
  {
   "cell_type": "code",
   "execution_count": 57,
   "id": "4d9a4555-620b-40d1-a18a-9a3476797d05",
   "metadata": {},
   "outputs": [],
   "source": [
    "myList.sort()"
   ]
  },
  {
   "cell_type": "code",
   "execution_count": 58,
   "id": "9be4e4d9-46c5-4dca-aa92-a36c0f6c3b64",
   "metadata": {},
   "outputs": [
    {
     "data": {
      "text/plain": [
       "[10, 20, 30]"
      ]
     },
     "execution_count": 58,
     "metadata": {},
     "output_type": "execute_result"
    }
   ],
   "source": [
    "myList"
   ]
  },
  {
   "cell_type": "code",
   "execution_count": 59,
   "id": "e60f46b3-5a48-4785-b8cb-5849f3b8c24f",
   "metadata": {},
   "outputs": [],
   "source": [
    "myList.reverse()"
   ]
  },
  {
   "cell_type": "code",
   "execution_count": 60,
   "id": "09696b1c-6a74-48fd-9d38-69efd04a5985",
   "metadata": {},
   "outputs": [
    {
     "data": {
      "text/plain": [
       "[30, 20, 10]"
      ]
     },
     "execution_count": 60,
     "metadata": {},
     "output_type": "execute_result"
    }
   ],
   "source": [
    "myList"
   ]
  },
  {
   "cell_type": "code",
   "execution_count": 61,
   "id": "28ab675f-9b4f-47be-a05c-8c977696e429",
   "metadata": {},
   "outputs": [
    {
     "data": {
      "text/plain": [
       "[30, 20, 222, 10]"
      ]
     },
     "execution_count": 61,
     "metadata": {},
     "output_type": "execute_result"
    }
   ],
   "source": [
    "myList.insert(2, 222)\n",
    "myList"
   ]
  },
  {
   "cell_type": "code",
   "execution_count": 62,
   "id": "6b5866a0-2dc7-4bed-8f07-06f716efcee3",
   "metadata": {},
   "outputs": [
    {
     "data": {
      "text/plain": [
       "[30, 20, 222, 10, 77, 88, 77]"
      ]
     },
     "execution_count": 62,
     "metadata": {},
     "output_type": "execute_result"
    }
   ],
   "source": [
    "myList.extend([77,88,77])\n",
    "myList"
   ]
  },
  {
   "cell_type": "code",
   "execution_count": 63,
   "id": "90437f60-a33f-4c6c-b8b7-642c28205b64",
   "metadata": {},
   "outputs": [
    {
     "data": {
      "text/plain": [
       "1"
      ]
     },
     "execution_count": 63,
     "metadata": {},
     "output_type": "execute_result"
    }
   ],
   "source": [
    "myList.count(10)"
   ]
  },
  {
   "cell_type": "code",
   "execution_count": 64,
   "id": "b7712c57-1990-4066-94fe-1656c3515a5b",
   "metadata": {},
   "outputs": [
    {
     "data": {
      "text/plain": [
       "[30, 20, 222, 10, 88, 77]"
      ]
     },
     "execution_count": 64,
     "metadata": {},
     "output_type": "execute_result"
    }
   ],
   "source": [
    "myList.remove(77)\n",
    "myList"
   ]
  },
  {
   "cell_type": "markdown",
   "id": "262e4fee-e8ea-4fb5-97df-03a24a74e62b",
   "metadata": {},
   "source": [
    "# sorted vs list.sort()"
   ]
  },
  {
   "cell_type": "code",
   "execution_count": 65,
   "id": "1abf4521-d9d3-4ec1-9fbf-dda98ce23abb",
   "metadata": {},
   "outputs": [],
   "source": [
    "myList = [30, 10, 20]"
   ]
  },
  {
   "cell_type": "code",
   "execution_count": 66,
   "id": "3ece8f88-e497-42dc-91a8-35f1fb4b8897",
   "metadata": {},
   "outputs": [
    {
     "data": {
      "text/plain": [
       "[10, 20, 30]"
      ]
     },
     "execution_count": 66,
     "metadata": {},
     "output_type": "execute_result"
    }
   ],
   "source": [
    "sorted(myList)"
   ]
  },
  {
   "cell_type": "code",
   "execution_count": 68,
   "id": "c4ba0dbd-9e5c-426a-bbc9-0b647e25ed73",
   "metadata": {},
   "outputs": [
    {
     "data": {
      "text/plain": [
       "[30, 10, 20]"
      ]
     },
     "execution_count": 68,
     "metadata": {},
     "output_type": "execute_result"
    }
   ],
   "source": [
    "myList # 원본은 그대로"
   ]
  },
  {
   "cell_type": "code",
   "execution_count": 69,
   "id": "2d1fd067-6ceb-4533-9abd-ce423de1e026",
   "metadata": {},
   "outputs": [],
   "source": [
    "myList.sort()"
   ]
  },
  {
   "cell_type": "code",
   "execution_count": 71,
   "id": "c93cdb91-f7e3-447a-ad8a-f79a85508fe6",
   "metadata": {},
   "outputs": [
    {
     "data": {
      "text/plain": [
       "[10, 20, 30]"
      ]
     },
     "execution_count": 71,
     "metadata": {},
     "output_type": "execute_result"
    }
   ],
   "source": [
    "myList # 원본도 바뀜"
   ]
  },
  {
   "cell_type": "markdown",
   "id": "b154457a-40de-4fad-b325-edb50ede6308",
   "metadata": {},
   "source": [
    "# 2차원 리스트"
   ]
  },
  {
   "cell_type": "code",
   "execution_count": 73,
   "id": "57f27803-796a-4fbb-b40e-0ffa18d0f711",
   "metadata": {},
   "outputs": [],
   "source": [
    "a = [[1,2,3,4],\n",
    "    [5,6,7,8],\n",
    "    [9,10,11,12]]\n"
   ]
  },
  {
   "cell_type": "code",
   "execution_count": 74,
   "id": "6286adb5-e3ba-4832-bca9-fe8576cb154f",
   "metadata": {},
   "outputs": [
    {
     "data": {
      "text/plain": [
       "3"
      ]
     },
     "execution_count": 74,
     "metadata": {},
     "output_type": "execute_result"
    }
   ],
   "source": [
    "len(a)"
   ]
  },
  {
   "cell_type": "code",
   "execution_count": 75,
   "id": "3b587992-6f9a-480a-8990-79d90cbb9357",
   "metadata": {},
   "outputs": [
    {
     "data": {
      "text/plain": [
       "([1, 2, 3, 4], [5, 6, 7, 8], [[5, 6, 7, 8], [9, 10, 11, 12]])"
      ]
     },
     "execution_count": 75,
     "metadata": {},
     "output_type": "execute_result"
    }
   ],
   "source": [
    "a[0], a[1], a[1:3]"
   ]
  },
  {
   "cell_type": "code",
   "execution_count": 76,
   "id": "8075e3fa-edb7-43d7-a8de-318b8fe40d72",
   "metadata": {},
   "outputs": [
    {
     "data": {
      "text/plain": [
       "2"
      ]
     },
     "execution_count": 76,
     "metadata": {},
     "output_type": "execute_result"
    }
   ],
   "source": [
    "a[0][1]"
   ]
  },
  {
   "cell_type": "code",
   "execution_count": 77,
   "id": "5b36b0b8-6f5f-429f-84d2-af2cbe508a19",
   "metadata": {},
   "outputs": [
    {
     "name": "stdout",
     "output_type": "stream",
     "text": [
      "  1   2   3   4 \n",
      "  5   6   7   8 \n",
      "  9  10  11  12 \n"
     ]
    }
   ],
   "source": [
    "list1 = []\n",
    "list2 = []\n",
    "value = 1\n",
    "for i in range(0,3):\n",
    "    for k in range(0, 4):\n",
    "        list1.append(value)\n",
    "        value+=1\n",
    "    list2.append(list1)\n",
    "    list1 =[]\n",
    "    \n",
    "    \n",
    "for i in range(0,3):\n",
    "    for k in range(0,4):\n",
    "        print(\"%3d \" % list2[i][k], end = \"\")\n",
    "    print(\"\")"
   ]
  },
  {
   "cell_type": "markdown",
   "id": "296708ba-b6d3-412d-b297-cdb8c67c4769",
   "metadata": {},
   "source": [
    "# 튜플!"
   ]
  },
  {
   "cell_type": "code",
   "execution_count": 78,
   "id": "426a5452-af37-4887-b066-9250c80e2a0d",
   "metadata": {},
   "outputs": [
    {
     "data": {
      "text/plain": [
       "(1, 2, 3, 4, 5)"
      ]
     },
     "execution_count": 78,
     "metadata": {},
     "output_type": "execute_result"
    }
   ],
   "source": [
    "tt1 = (1,2,3,4,5)\n",
    "tt1"
   ]
  },
  {
   "cell_type": "code",
   "execution_count": 79,
   "id": "ec3e4198-4006-4cc9-a21a-5cd19f2df762",
   "metadata": {},
   "outputs": [
    {
     "data": {
      "text/plain": [
       "tuple"
      ]
     },
     "execution_count": 79,
     "metadata": {},
     "output_type": "execute_result"
    }
   ],
   "source": [
    "type(tt1)"
   ]
  },
  {
   "cell_type": "code",
   "execution_count": 80,
   "id": "1909147e-63dc-414c-b798-ac3a86dc49ef",
   "metadata": {},
   "outputs": [
    {
     "data": {
      "text/plain": [
       "()"
      ]
     },
     "execution_count": 80,
     "metadata": {},
     "output_type": "execute_result"
    }
   ],
   "source": [
    "tt1 = ()\n",
    "tt1"
   ]
  },
  {
   "cell_type": "code",
   "execution_count": 82,
   "id": "f117973a-2039-4676-a1fd-256bd29b1f48",
   "metadata": {},
   "outputs": [
    {
     "data": {
      "text/plain": [
       "10"
      ]
     },
     "execution_count": 82,
     "metadata": {},
     "output_type": "execute_result"
    }
   ],
   "source": [
    "tt2 = 10\n",
    "tt2"
   ]
  },
  {
   "cell_type": "code",
   "execution_count": 83,
   "id": "c665e1f9-fd0b-4641-b38d-90f451653e62",
   "metadata": {},
   "outputs": [
    {
     "data": {
      "text/plain": [
       "(10,)"
      ]
     },
     "execution_count": 83,
     "metadata": {},
     "output_type": "execute_result"
    }
   ],
   "source": [
    "tt2  = 10,  # ,를 붙이면 튜플이 됨!\n",
    "tt2"
   ]
  },
  {
   "cell_type": "markdown",
   "id": "e464bf4f-d1da-4149-a90e-aa63c1bca855",
   "metadata": {},
   "source": [
    "# 불변형!"
   ]
  },
  {
   "cell_type": "code",
   "execution_count": 84,
   "id": "36966b84-9e39-4b14-a541-763a0bad4c92",
   "metadata": {},
   "outputs": [
    {
     "data": {
      "text/plain": [
       "(10, 20, 30, 40, 50, 60, 70)"
      ]
     },
     "execution_count": 84,
     "metadata": {},
     "output_type": "execute_result"
    }
   ],
   "source": [
    "tt2 = 10, 20, 30, 40, 50, 60, 70\n",
    "tt2"
   ]
  },
  {
   "cell_type": "code",
   "execution_count": 85,
   "id": "b7909182-4ab8-40dc-b6f7-3a21c7812ae9",
   "metadata": {},
   "outputs": [
    {
     "data": {
      "text/plain": [
       "(10, 30)"
      ]
     },
     "execution_count": 85,
     "metadata": {},
     "output_type": "execute_result"
    }
   ],
   "source": [
    "tt2[0],tt2[2]"
   ]
  },
  {
   "cell_type": "code",
   "execution_count": 86,
   "id": "930c9da0-c495-4afc-abc0-eae62d889903",
   "metadata": {},
   "outputs": [
    {
     "data": {
      "text/plain": [
       "(30, 40, 50)"
      ]
     },
     "execution_count": 86,
     "metadata": {},
     "output_type": "execute_result"
    }
   ],
   "source": [
    "tt2[2:5]"
   ]
  },
  {
   "cell_type": "code",
   "execution_count": 87,
   "id": "56a2462a-7f5b-4fa7-b482-56467f8062b4",
   "metadata": {},
   "outputs": [
    {
     "data": {
      "text/plain": [
       "(10, 20, 30, 40, 50)"
      ]
     },
     "execution_count": 87,
     "metadata": {},
     "output_type": "execute_result"
    }
   ],
   "source": [
    "tt2[:-2]"
   ]
  },
  {
   "cell_type": "code",
   "execution_count": 89,
   "id": "c1904c73-0b45-406d-91ae-931a9957d9e0",
   "metadata": {},
   "outputs": [
    {
     "ename": "TypeError",
     "evalue": "'tuple' object does not support item assignment",
     "output_type": "error",
     "traceback": [
      "\u001b[1;31m---------------------------------------------------------------------------\u001b[0m",
      "\u001b[1;31mTypeError\u001b[0m                                 Traceback (most recent call last)",
      "\u001b[1;32m~\\AppData\\Local\\Temp/ipykernel_23828/431369800.py\u001b[0m in \u001b[0;36m<module>\u001b[1;34m\u001b[0m\n\u001b[1;32m----> 1\u001b[1;33m \u001b[0mtt2\u001b[0m\u001b[1;33m[\u001b[0m\u001b[1;36m0\u001b[0m\u001b[1;33m]\u001b[0m \u001b[1;33m=\u001b[0m \u001b[1;36m1000\u001b[0m \u001b[1;31m# 대입하는 거 안됨\u001b[0m\u001b[1;33m\u001b[0m\u001b[1;33m\u001b[0m\u001b[0m\n\u001b[0m",
      "\u001b[1;31mTypeError\u001b[0m: 'tuple' object does not support item assignment"
     ]
    }
   ],
   "source": [
    "tt2[0] = 1000 # 대입하는 거 안됨"
   ]
  },
  {
   "cell_type": "code",
   "execution_count": 90,
   "id": "718cf761-3317-498f-9fca-25c8627f6d3f",
   "metadata": {},
   "outputs": [
    {
     "ename": "TypeError",
     "evalue": "'tuple' object does not support item assignment",
     "output_type": "error",
     "traceback": [
      "\u001b[1;31m---------------------------------------------------------------------------\u001b[0m",
      "\u001b[1;31mTypeError\u001b[0m                                 Traceback (most recent call last)",
      "\u001b[1;32m~\\AppData\\Local\\Temp/ipykernel_23828/471202346.py\u001b[0m in \u001b[0;36m<module>\u001b[1;34m\u001b[0m\n\u001b[1;32m----> 1\u001b[1;33m \u001b[0mtt2\u001b[0m\u001b[1;33m[\u001b[0m\u001b[1;36m1\u001b[0m\u001b[1;33m:\u001b[0m\u001b[1;36m2\u001b[0m\u001b[1;33m]\u001b[0m \u001b[1;33m=\u001b[0m \u001b[1;33m(\u001b[0m\u001b[1;36m10\u001b[0m\u001b[1;33m,\u001b[0m \u001b[1;36m20\u001b[0m\u001b[1;33m)\u001b[0m\u001b[1;33m\u001b[0m\u001b[1;33m\u001b[0m\u001b[0m\n\u001b[0m",
      "\u001b[1;31mTypeError\u001b[0m: 'tuple' object does not support item assignment"
     ]
    }
   ],
   "source": [
    "tt2[1:2] = (10, 20)"
   ]
  },
  {
   "cell_type": "code",
   "execution_count": 93,
   "id": "b4cbb084-d907-40d3-8a8d-0eb9e18ddbee",
   "metadata": {},
   "outputs": [
    {
     "ename": "NameError",
     "evalue": "name 'tt2' is not defined",
     "output_type": "error",
     "traceback": [
      "\u001b[1;31m---------------------------------------------------------------------------\u001b[0m",
      "\u001b[1;31mNameError\u001b[0m                                 Traceback (most recent call last)",
      "\u001b[1;32m~\\AppData\\Local\\Temp/ipykernel_23828/988837139.py\u001b[0m in \u001b[0;36m<module>\u001b[1;34m\u001b[0m\n\u001b[1;32m----> 1\u001b[1;33m \u001b[1;32mdel\u001b[0m\u001b[1;33m(\u001b[0m\u001b[0mtt2\u001b[0m\u001b[1;33m[\u001b[0m\u001b[1;36m1\u001b[0m\u001b[1;33m]\u001b[0m\u001b[1;33m)\u001b[0m \u001b[1;31m#요소를 삭제하는 것은 불가능\u001b[0m\u001b[1;33m\u001b[0m\u001b[1;33m\u001b[0m\u001b[0m\n\u001b[0m",
      "\u001b[1;31mNameError\u001b[0m: name 'tt2' is not defined"
     ]
    }
   ],
   "source": [
    "del(tt2[1]) #요소를 삭제하는 것은 불가능 "
   ]
  },
  {
   "cell_type": "code",
   "execution_count": 95,
   "id": "3bab0ccf-a35e-447a-b75c-3c65a133a272",
   "metadata": {},
   "outputs": [],
   "source": [
    "tt2 = ('A', 'B')\n",
    "tt1 = (10, 20, 30, 40)"
   ]
  },
  {
   "cell_type": "code",
   "execution_count": 96,
   "id": "7ddc8264-50b7-4331-bb43-76040ce4d343",
   "metadata": {},
   "outputs": [
    {
     "ename": "TypeError",
     "evalue": "can only concatenate tuple (not \"int\") to tuple",
     "output_type": "error",
     "traceback": [
      "\u001b[1;31m---------------------------------------------------------------------------\u001b[0m",
      "\u001b[1;31mTypeError\u001b[0m                                 Traceback (most recent call last)",
      "\u001b[1;32m~\\AppData\\Local\\Temp/ipykernel_23828/3363798814.py\u001b[0m in \u001b[0;36m<module>\u001b[1;34m\u001b[0m\n\u001b[1;32m----> 1\u001b[1;33m \u001b[0mtt2\u001b[0m \u001b[1;33m+\u001b[0m \u001b[1;36m2\u001b[0m\u001b[1;33m\u001b[0m\u001b[1;33m\u001b[0m\u001b[0m\n\u001b[0m",
      "\u001b[1;31mTypeError\u001b[0m: can only concatenate tuple (not \"int\") to tuple"
     ]
    }
   ],
   "source": [
    "tt2 + 2"
   ]
  },
  {
   "cell_type": "markdown",
   "id": "193d728f-4627-4c05-abbf-9b1f5942f117",
   "metadata": {},
   "source": [
    "# list <=> tuple 변환\n",
    "- list()\n",
    "- tuple()"
   ]
  },
  {
   "cell_type": "code",
   "execution_count": 97,
   "id": "b6e0d016-1b85-4f2a-bc0f-543488292c77",
   "metadata": {},
   "outputs": [
    {
     "data": {
      "text/plain": [
       "('A', 'B', 'A', 'B')"
      ]
     },
     "execution_count": 97,
     "metadata": {},
     "output_type": "execute_result"
    }
   ],
   "source": [
    "tt2 *2 "
   ]
  },
  {
   "cell_type": "code",
   "execution_count": 98,
   "id": "5bccd147-184e-4b85-a15d-2491d1144095",
   "metadata": {},
   "outputs": [
    {
     "data": {
      "text/plain": [
       "('A', 'B', 10, 20, 30, 40)"
      ]
     },
     "execution_count": 98,
     "metadata": {},
     "output_type": "execute_result"
    }
   ],
   "source": [
    "tt2 + tt1"
   ]
  },
  {
   "cell_type": "code",
   "execution_count": 99,
   "id": "86566e3b-e8d9-4ed2-ab38-e4158f4d698b",
   "metadata": {},
   "outputs": [],
   "source": [
    "li = [1,2,3,4,5]\n",
    "t1 = (-9, -8, -7, -6)"
   ]
  },
  {
   "cell_type": "code",
   "execution_count": 100,
   "id": "3fbd57a9-7247-4341-9807-77af4644eae7",
   "metadata": {},
   "outputs": [
    {
     "data": {
      "text/plain": [
       "(1, 2, 3, 4, 5)"
      ]
     },
     "execution_count": 100,
     "metadata": {},
     "output_type": "execute_result"
    }
   ],
   "source": [
    "tuple(li)"
   ]
  },
  {
   "cell_type": "code",
   "execution_count": 101,
   "id": "4fd41a29-46cd-4bcc-87b9-5c3b1587abbd",
   "metadata": {},
   "outputs": [
    {
     "data": {
      "text/plain": [
       "[-9, -8, -7, -6]"
      ]
     },
     "execution_count": 101,
     "metadata": {},
     "output_type": "execute_result"
    }
   ],
   "source": [
    "list(t1)"
   ]
  },
  {
   "cell_type": "markdown",
   "id": "4816a36f-55b2-4e06-94a9-d9d5f86753b0",
   "metadata": {},
   "source": [
    "# 딕셔너리"
   ]
  },
  {
   "cell_type": "code",
   "execution_count": 102,
   "id": "93064dda-e9da-4c1f-809f-0c29ba5c6e6c",
   "metadata": {},
   "outputs": [
    {
     "data": {
      "text/plain": [
       "dict"
      ]
     },
     "execution_count": 102,
     "metadata": {},
     "output_type": "execute_result"
    }
   ],
   "source": [
    "dic1 = {}\n",
    "type(dic1)"
   ]
  },
  {
   "cell_type": "code",
   "execution_count": 103,
   "id": "87ec4a53-81ae-429b-b74e-d5c8b1b7e513",
   "metadata": {},
   "outputs": [
    {
     "data": {
      "text/plain": [
       "{1: 'a', 2: 'b', 3: 'c'}"
      ]
     },
     "execution_count": 103,
     "metadata": {},
     "output_type": "execute_result"
    }
   ],
   "source": [
    "dic1 = {1:'a',2:'b', 3:'c'}\n",
    "dic1"
   ]
  },
  {
   "cell_type": "code",
   "execution_count": 104,
   "id": "dd7e97e8-7e2e-4110-a2b1-0322f1fa6c11",
   "metadata": {},
   "outputs": [
    {
     "data": {
      "text/plain": [
       "'a'"
      ]
     },
     "execution_count": 104,
     "metadata": {},
     "output_type": "execute_result"
    }
   ],
   "source": [
    "dic1[1]"
   ]
  },
  {
   "cell_type": "code",
   "execution_count": 105,
   "id": "ab54effd-60a3-4dc3-bc94-e3e3f2e43c82",
   "metadata": {},
   "outputs": [
    {
     "data": {
      "text/plain": [
       "{'a': 123, 'b': 234, 'c': 456}"
      ]
     },
     "execution_count": 105,
     "metadata": {},
     "output_type": "execute_result"
    }
   ],
   "source": [
    "dic1 = {'a' : 123, 'b':234, 'c': 456}\n",
    "dic1"
   ]
  },
  {
   "cell_type": "code",
   "execution_count": 107,
   "id": "8a354377-d427-47b4-999b-084543dbcbfe",
   "metadata": {},
   "outputs": [
    {
     "data": {
      "text/plain": [
       "123"
      ]
     },
     "execution_count": 107,
     "metadata": {},
     "output_type": "execute_result"
    }
   ],
   "source": [
    "dic1['a']"
   ]
  },
  {
   "cell_type": "code",
   "execution_count": 108,
   "id": "21f6c1a5-3b9d-45cd-b193-ad604e9a662e",
   "metadata": {},
   "outputs": [
    {
     "data": {
      "text/plain": [
       "{'학번': 1000, '이름': '홍길동', '학과': '컴퓨터학과'}"
      ]
     },
     "execution_count": 108,
     "metadata": {},
     "output_type": "execute_result"
    }
   ],
   "source": [
    "student1 = {'학번' : 1000, '이름': '홍길동', '학과' :'컴퓨터학과'}\n",
    "student1"
   ]
  },
  {
   "cell_type": "code",
   "execution_count": 109,
   "id": "8816a07e-fb5c-42ba-ad51-e2ced05be4f0",
   "metadata": {},
   "outputs": [
    {
     "data": {
      "text/plain": [
       "1000"
      ]
     },
     "execution_count": 109,
     "metadata": {},
     "output_type": "execute_result"
    }
   ],
   "source": [
    "student1['학번']"
   ]
  },
  {
   "cell_type": "code",
   "execution_count": 110,
   "id": "bbd72b8a-2eaf-4856-aabb-a26e75c04b9f",
   "metadata": {},
   "outputs": [
    {
     "data": {
      "text/plain": [
       "{'학번': 1000, '이름': '홍길동', '학과': '컴퓨터학과', '연락처': '000-222-3333'}"
      ]
     },
     "execution_count": 110,
     "metadata": {},
     "output_type": "execute_result"
    }
   ],
   "source": [
    "student1['연락처'] = '000-222-3333'\n",
    "student1"
   ]
  },
  {
   "cell_type": "code",
   "execution_count": 111,
   "id": "08e5d007-1699-4ed8-a635-63f5a30e8ba4",
   "metadata": {},
   "outputs": [
    {
     "data": {
      "text/plain": [
       "{'학번': 1000, '이름': '홍길동', '학과': '컴퓨터학과', '연락처': ''}"
      ]
     },
     "execution_count": 111,
     "metadata": {},
     "output_type": "execute_result"
    }
   ],
   "source": [
    "student1['연락처'] = ''\n",
    "student1"
   ]
  },
  {
   "cell_type": "code",
   "execution_count": 112,
   "id": "2c9b5c96-b849-440a-98a4-f355173388f0",
   "metadata": {},
   "outputs": [],
   "source": [
    "del student1['연락처']"
   ]
  },
  {
   "cell_type": "code",
   "execution_count": 113,
   "id": "5f8e34a7-325c-4a32-9014-e3e0ff11d825",
   "metadata": {},
   "outputs": [
    {
     "data": {
      "text/plain": [
       "{'학번': 1000, '이름': '홍길동', '학과': '컴퓨터학과'}"
      ]
     },
     "execution_count": 113,
     "metadata": {},
     "output_type": "execute_result"
    }
   ],
   "source": [
    "student1"
   ]
  },
  {
   "cell_type": "code",
   "execution_count": 114,
   "id": "2a58e3be-34b5-4303-b7d1-e86a57812f41",
   "metadata": {},
   "outputs": [
    {
     "data": {
      "text/plain": [
       "'홍길동'"
      ]
     },
     "execution_count": 114,
     "metadata": {},
     "output_type": "execute_result"
    }
   ],
   "source": [
    "student1.get('이름')"
   ]
  },
  {
   "cell_type": "code",
   "execution_count": 115,
   "id": "d170f1b1-6a90-4435-8141-a99ebad79f0a",
   "metadata": {},
   "outputs": [
    {
     "data": {
      "text/plain": [
       "dict_keys(['학번', '이름', '학과'])"
      ]
     },
     "execution_count": 115,
     "metadata": {},
     "output_type": "execute_result"
    }
   ],
   "source": [
    "student1.keys()"
   ]
  },
  {
   "cell_type": "code",
   "execution_count": 116,
   "id": "2c8d0de2-576d-48d8-b195-de1d8b582e1e",
   "metadata": {},
   "outputs": [
    {
     "data": {
      "text/plain": [
       "dict_values([1000, '홍길동', '컴퓨터학과'])"
      ]
     },
     "execution_count": 116,
     "metadata": {},
     "output_type": "execute_result"
    }
   ],
   "source": [
    "student1.values()"
   ]
  },
  {
   "cell_type": "code",
   "execution_count": 117,
   "id": "578021a0-e3df-4de8-9cc3-b44ec32456e1",
   "metadata": {},
   "outputs": [
    {
     "data": {
      "text/plain": [
       "dict_items([('학번', 1000), ('이름', '홍길동'), ('학과', '컴퓨터학과')])"
      ]
     },
     "execution_count": 117,
     "metadata": {},
     "output_type": "execute_result"
    }
   ],
   "source": [
    "student1.items()"
   ]
  },
  {
   "cell_type": "code",
   "execution_count": 120,
   "id": "a56fae0c-366c-494b-b418-2efbbae3614d",
   "metadata": {},
   "outputs": [
    {
     "data": {
      "text/plain": [
       "False"
      ]
     },
     "execution_count": 120,
     "metadata": {},
     "output_type": "execute_result"
    }
   ],
   "source": [
    "'홍길동' in student1"
   ]
  },
  {
   "cell_type": "code",
   "execution_count": 119,
   "id": "5c865bdb-b44f-4c5d-a535-0d70a3fcc012",
   "metadata": {},
   "outputs": [
    {
     "data": {
      "text/plain": [
       "True"
      ]
     },
     "execution_count": 119,
     "metadata": {},
     "output_type": "execute_result"
    }
   ],
   "source": [
    "'이름' in student1"
   ]
  },
  {
   "cell_type": "code",
   "execution_count": 121,
   "id": "443037d9-15a0-499a-aee2-723da7074328",
   "metadata": {},
   "outputs": [
    {
     "name": "stdout",
     "output_type": "stream",
     "text": [
      "1000\n",
      "홍길동\n",
      "컴퓨터학과\n"
     ]
    }
   ],
   "source": [
    "for key in student1.keys():\n",
    "    print(student1[key])\n"
   ]
  },
  {
   "cell_type": "code",
   "execution_count": 122,
   "id": "bcb2a54b-7037-4f73-9252-249257ad68e3",
   "metadata": {},
   "outputs": [
    {
     "name": "stdout",
     "output_type": "stream",
     "text": [
      "1000\n",
      "홍길동\n",
      "컴퓨터학과\n"
     ]
    }
   ],
   "source": [
    "for k,v  in student1.items():\n",
    "    print(student1[k])"
   ]
  },
  {
   "cell_type": "code",
   "execution_count": 124,
   "id": "d6b86ebb-9329-463b-a100-adb24dec1b41",
   "metadata": {},
   "outputs": [
    {
     "name": "stdin",
     "output_type": "stream",
     "text": [
      "['떡볶이', '짜장면', '라면', '피자', '맥주', '치킨', '삼겹살'] 중 좋아하는 음식은? 치킨\n"
     ]
    },
    {
     "name": "stdout",
     "output_type": "stream",
     "text": [
      "<치킨> 궁합 음식은 <치킨무> 입니다.\n"
     ]
    },
    {
     "name": "stdin",
     "output_type": "stream",
     "text": [
      "['떡볶이', '짜장면', '라면', '피자', '맥주', '치킨', '삼겹살'] 중 좋아하는 음식은? 맥주\n"
     ]
    },
    {
     "name": "stdout",
     "output_type": "stream",
     "text": [
      "<맥주> 궁합 음식은 <땅콩> 입니다.\n"
     ]
    },
    {
     "name": "stdin",
     "output_type": "stream",
     "text": [
      "['떡볶이', '짜장면', '라면', '피자', '맥주', '치킨', '삼겹살'] 중 좋아하는 음식은? 끝\n"
     ]
    }
   ],
   "source": [
    "## 변수 선언 부분 ##\n",
    "\n",
    "foods = {\"떡볶이\":\"오뎅\",\n",
    "         \"짜장면\":\"단무지\",\n",
    "         \"라면\":\"김치\",\n",
    "         \"피자\":\"피클\",\n",
    "         \"맥주\":\"땅콩\",\n",
    "         \"치킨\":\"치킨무\",\n",
    "         \"삼겹살\":\"상추\"};\n",
    "\n",
    "## 메인 코드 부분 ##\n",
    "while(True):\n",
    "    myfood = input(str(list(foods.keys())) + \" 중 좋아하는 음식은?\")\n",
    "    if myfood in foods:\n",
    "        print(\"<%s> 궁합 음식은 <%s> 입니다.\" %(myfood, foods.get(myfood)))\n",
    "    elif myfood == \"끝\":\n",
    "        break\n",
    "    else:\n",
    "        print(\"그런 음식이 없습니다. 확인해 보세요.\")\n"
   ]
  },
  {
   "cell_type": "markdown",
   "id": "c698fbd0-76cf-44fc-a2f6-30d75d293de8",
   "metadata": {},
   "source": [
    "# 세트"
   ]
  },
  {
   "cell_type": "code",
   "execution_count": 125,
   "id": "f04f1543-f56e-4648-8cd9-ab1a436a0548",
   "metadata": {},
   "outputs": [
    {
     "data": {
      "text/plain": [
       "{1, 2, 3, 4}"
      ]
     },
     "execution_count": 125,
     "metadata": {},
     "output_type": "execute_result"
    }
   ],
   "source": [
    "s1 = {1,2,3,4,3,3,3,3,}\n",
    "s1"
   ]
  },
  {
   "cell_type": "code",
   "execution_count": 126,
   "id": "783a8076-fdc4-467e-83a0-00fd0d64cf05",
   "metadata": {},
   "outputs": [
    {
     "data": {
      "text/plain": [
       "{}"
      ]
     },
     "execution_count": 126,
     "metadata": {},
     "output_type": "execute_result"
    }
   ],
   "source": [
    "s2 = {}\n",
    "s2"
   ]
  },
  {
   "cell_type": "code",
   "execution_count": 127,
   "id": "10c5bbf8-6941-4f61-abdc-b6305d1c2966",
   "metadata": {},
   "outputs": [
    {
     "data": {
      "text/plain": [
       "set()"
      ]
     },
     "execution_count": 127,
     "metadata": {},
     "output_type": "execute_result"
    }
   ],
   "source": [
    "s2 = set()\n",
    "s2"
   ]
  },
  {
   "cell_type": "code",
   "execution_count": 128,
   "id": "370c87fe-52f9-4b91-be6b-116725d23d51",
   "metadata": {},
   "outputs": [
    {
     "data": {
      "text/plain": [
       "set"
      ]
     },
     "execution_count": 128,
     "metadata": {},
     "output_type": "execute_result"
    }
   ],
   "source": [
    "type(s2)"
   ]
  },
  {
   "cell_type": "code",
   "execution_count": 131,
   "id": "28700670-8c3d-4137-84f9-322a499050a6",
   "metadata": {},
   "outputs": [],
   "source": [
    "s1 = {1,2,3,4,5}\n",
    "s2 = {4,5,6,7}"
   ]
  },
  {
   "cell_type": "code",
   "execution_count": 132,
   "id": "21d3b141-adb0-43b9-b7af-4ac667ae7ffa",
   "metadata": {},
   "outputs": [
    {
     "data": {
      "text/plain": [
       "{4, 5}"
      ]
     },
     "execution_count": 132,
     "metadata": {},
     "output_type": "execute_result"
    }
   ],
   "source": [
    "s1 & s2"
   ]
  },
  {
   "cell_type": "code",
   "execution_count": 133,
   "id": "233ca094-0269-4755-822a-e14b82e22cbb",
   "metadata": {},
   "outputs": [
    {
     "data": {
      "text/plain": [
       "{1, 2, 3}"
      ]
     },
     "execution_count": 133,
     "metadata": {},
     "output_type": "execute_result"
    }
   ],
   "source": [
    "s1 - s2"
   ]
  },
  {
   "cell_type": "code",
   "execution_count": 134,
   "id": "74345d99-b7bb-44ae-b9f5-6259734b2f55",
   "metadata": {},
   "outputs": [
    {
     "data": {
      "text/plain": [
       "{1, 2, 3, 6, 7}"
      ]
     },
     "execution_count": 134,
     "metadata": {},
     "output_type": "execute_result"
    }
   ],
   "source": [
    "s1 ^ s2"
   ]
  },
  {
   "cell_type": "code",
   "execution_count": 135,
   "id": "5f73d1c7-197a-4beb-b555-b3abd866ac9c",
   "metadata": {},
   "outputs": [
    {
     "data": {
      "text/plain": [
       "<function set.intersection>"
      ]
     },
     "execution_count": 135,
     "metadata": {},
     "output_type": "execute_result"
    }
   ],
   "source": [
    "s1.intersection"
   ]
  },
  {
   "cell_type": "markdown",
   "id": "0986474b-9c77-4175-86ec-1d941300a5ef",
   "metadata": {},
   "source": [
    "# 컴프리헨션"
   ]
  },
  {
   "cell_type": "code",
   "execution_count": 136,
   "id": "a51a5729-cd2d-4401-8b1e-3542855996a5",
   "metadata": {},
   "outputs": [
    {
     "data": {
      "text/plain": [
       "[2, 4, 6, 8, 10]"
      ]
     },
     "execution_count": 136,
     "metadata": {},
     "output_type": "execute_result"
    }
   ],
   "source": [
    "[num *2 for num in range(1,6)]"
   ]
  },
  {
   "cell_type": "code",
   "execution_count": 137,
   "id": "58ed7180-c3a0-412c-aa9e-c1f4917edd2b",
   "metadata": {},
   "outputs": [
    {
     "data": {
      "text/plain": [
       "[2, 4, 6, 8, 10]"
      ]
     },
     "execution_count": 137,
     "metadata": {},
     "output_type": "execute_result"
    }
   ],
   "source": [
    "numlist = [num *2 for num in range(1,6)]\n",
    "numlist"
   ]
  },
  {
   "cell_type": "code",
   "execution_count": 138,
   "id": "e31282fb-fa5b-45cc-a8af-9f3ef0a87235",
   "metadata": {},
   "outputs": [
    {
     "data": {
      "text/plain": [
       "list"
      ]
     },
     "execution_count": 138,
     "metadata": {},
     "output_type": "execute_result"
    }
   ],
   "source": [
    "type(numlist)"
   ]
  },
  {
   "cell_type": "code",
   "execution_count": 139,
   "id": "92008bc8-90aa-497e-a0a6-2ddf05aa476f",
   "metadata": {},
   "outputs": [
    {
     "data": {
      "text/plain": [
       "[3, 6, 9, 12, 15, 18]"
      ]
     },
     "execution_count": 139,
     "metadata": {},
     "output_type": "execute_result"
    }
   ],
   "source": [
    "[num for num in range(1,21) if num % 3 ==0]"
   ]
  },
  {
   "cell_type": "markdown",
   "id": "b0ab79f8-d8f8-4d94-b91f-94c45c246fa4",
   "metadata": {},
   "source": [
    "## 동시에 여러 리스트에 접근 (zip 함수)"
   ]
  },
  {
   "cell_type": "code",
   "execution_count": 142,
   "id": "0c7cac62-2046-416c-a416-df7f5839b32b",
   "metadata": {},
   "outputs": [],
   "source": [
    "food = ['1','2','3','4','5']\n",
    "side = [-1,-2,-3]"
   ]
  },
  {
   "cell_type": "code",
   "execution_count": 141,
   "id": "09adecea-2a2c-48a1-9a07-54d74fd24c07",
   "metadata": {},
   "outputs": [
    {
     "name": "stdout",
     "output_type": "stream",
     "text": [
      "1 -1\n",
      "2 -2\n",
      "3 -3\n"
     ]
    }
   ],
   "source": [
    "for f, s in zip(food, side):\n",
    "    print(f,s)"
   ]
  },
  {
   "cell_type": "code",
   "execution_count": 143,
   "id": "fe293082-b5a6-457e-b0d8-aca6a62b84b5",
   "metadata": {},
   "outputs": [
    {
     "data": {
      "text/plain": [
       "<zip at 0x284009dfec0>"
      ]
     },
     "execution_count": 143,
     "metadata": {},
     "output_type": "execute_result"
    }
   ],
   "source": [
    "zip(food, side)"
   ]
  },
  {
   "cell_type": "markdown",
   "id": "22cdd0b5-b44b-4b7d-8ab9-1085ddaeb80f",
   "metadata": {},
   "source": [
    "# 복사 : 얕은복사 / 깊은 복사\n",
    "- copy by value\n",
    "- copy by reference"
   ]
  },
  {
   "cell_type": "code",
   "execution_count": 144,
   "id": "79752c66-3406-44da-929a-9636004b73a9",
   "metadata": {},
   "outputs": [],
   "source": [
    "li = [1,2,3,4] \n",
    "li2 = li"
   ]
  },
  {
   "cell_type": "code",
   "execution_count": 145,
   "id": "1f8c5306-5065-43c9-99c2-0379c3840ea6",
   "metadata": {},
   "outputs": [
    {
     "data": {
      "text/plain": [
       "[1, 2, 3, 4]"
      ]
     },
     "execution_count": 145,
     "metadata": {},
     "output_type": "execute_result"
    }
   ],
   "source": [
    "li"
   ]
  },
  {
   "cell_type": "code",
   "execution_count": 146,
   "id": "632958a1-281d-46dd-84d7-3032620b0768",
   "metadata": {},
   "outputs": [
    {
     "data": {
      "text/plain": [
       "[1, 2, 3, 4]"
      ]
     },
     "execution_count": 146,
     "metadata": {},
     "output_type": "execute_result"
    }
   ],
   "source": [
    "li2"
   ]
  },
  {
   "cell_type": "code",
   "execution_count": 147,
   "id": "6d1b23ba-6ab6-49af-adaf-a070e774c3d4",
   "metadata": {},
   "outputs": [
    {
     "data": {
      "text/plain": [
       "2765969236992"
      ]
     },
     "execution_count": 147,
     "metadata": {},
     "output_type": "execute_result"
    }
   ],
   "source": [
    "id(li)"
   ]
  },
  {
   "cell_type": "code",
   "execution_count": 148,
   "id": "7eda22a0-591c-41b2-8bd2-2075305862cb",
   "metadata": {},
   "outputs": [
    {
     "data": {
      "text/plain": [
       "2765969236992"
      ]
     },
     "execution_count": 148,
     "metadata": {},
     "output_type": "execute_result"
    }
   ],
   "source": [
    "id(li2)"
   ]
  },
  {
   "cell_type": "markdown",
   "id": "e737dcd7-7aec-4efd-98c0-2fd6e2450362",
   "metadata": {},
   "source": [
    "> p.217 예제"
   ]
  },
  {
   "cell_type": "code",
   "execution_count": 149,
   "id": "a46abae1-fd6d-4e6c-8b11-9f4257dfeb4d",
   "metadata": {},
   "outputs": [
    {
     "name": "stdout",
     "output_type": "stream",
     "text": [
      "['짜장면', '탕수육', '군만두']\n",
      "['짬뽕', '탕수육', '군만두', '깐풍기']\n"
     ]
    }
   ],
   "source": [
    "oldList = ['짜장면','탕수육','군만두']\n",
    "newList = oldList\n",
    "print(newList)\n",
    "oldList[0] = '짬뽕'\n",
    "oldList.append('깐풍기')\n",
    "print(newList)"
   ]
  },
  {
   "cell_type": "code",
   "execution_count": 150,
   "id": "80e7fc7d-d3b0-497a-bfdd-f9cd8c931ba9",
   "metadata": {},
   "outputs": [
    {
     "name": "stdout",
     "output_type": "stream",
     "text": [
      "['짜장면', '탕수육', '군만두']\n",
      "['짜장면', '탕수육', '군만두']\n"
     ]
    }
   ],
   "source": [
    "oldList = ['짜장면','탕수육','군만두']\n",
    "newList = oldList[:]\n",
    "print(newList)\n",
    "oldList[0] = '짬뽕'\n",
    "oldList.append('깐풍기')\n",
    "print(newList)"
   ]
  },
  {
   "cell_type": "code",
   "execution_count": null,
   "id": "5668da67-35ac-44bd-9763-7ff95f97afb0",
   "metadata": {},
   "outputs": [],
   "source": []
  }
 ],
 "metadata": {
  "kernelspec": {
   "display_name": "Python 3 (ipykernel)",
   "language": "python",
   "name": "python3"
  },
  "language_info": {
   "codemirror_mode": {
    "name": "ipython",
    "version": 3
   },
   "file_extension": ".py",
   "mimetype": "text/x-python",
   "name": "python",
   "nbconvert_exporter": "python",
   "pygments_lexer": "ipython3",
   "version": "3.9.7"
  }
 },
 "nbformat": 4,
 "nbformat_minor": 5
}
